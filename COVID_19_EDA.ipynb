{
  "nbformat": 4,
  "nbformat_minor": 0,
  "metadata": {
    "colab": {
      "name": "COVID-19_EDA.ipynb",
      "provenance": [],
      "authorship_tag": "ABX9TyMEHtMqkqhOZHO67nIcTW7q",
      "include_colab_link": true
    },
    "kernelspec": {
      "name": "python3",
      "display_name": "Python 3"
    },
    "language_info": {
      "name": "python"
    }
  },
  "cells": [
    {
      "cell_type": "markdown",
      "metadata": {
        "id": "view-in-github",
        "colab_type": "text"
      },
      "source": [
        "<a href=\"https://colab.research.google.com/github/santhoshsrivi/study/blob/main/COVID_19_EDA.ipynb\" target=\"_parent\"><img src=\"https://colab.research.google.com/assets/colab-badge.svg\" alt=\"Open In Colab\"/></a>"
      ]
    },
    {
      "cell_type": "code",
      "execution_count": 1,
      "metadata": {
        "id": "IFh9qmsVgZYG"
      },
      "outputs": [],
      "source": [
        "import pandas as pd\n",
        "import seaborn as sns\n",
        "import matplotlib.pyplot as plt\n",
        "from pandas_profiling import ProfileReport"
      ]
    },
    {
      "cell_type": "code",
      "source": [
        "df = pd.read_csv('/content/COVID-19 Coronavirus.csv')"
      ],
      "metadata": {
        "id": "pYq0lto_gptz"
      },
      "execution_count": 2,
      "outputs": []
    },
    {
      "cell_type": "code",
      "source": [
        "print(f'The shape of the dataframe is : {df.shape}')"
      ],
      "metadata": {
        "colab": {
          "base_uri": "https://localhost:8080/"
        },
        "id": "zmFzYD1-guLM",
        "outputId": "3f82ff17-34a8-4029-e302-2a91ca8fd13e"
      },
      "execution_count": 3,
      "outputs": [
        {
          "output_type": "stream",
          "name": "stdout",
          "text": [
            "The shape of the dataframe is : (225, 10)\n"
          ]
        }
      ]
    },
    {
      "cell_type": "code",
      "source": [
        "df.describe()"
      ],
      "metadata": {
        "colab": {
          "base_uri": "https://localhost:8080/",
          "height": 300
        },
        "id": "TflTk8zeg0xB",
        "outputId": "21a1a0f8-1860-4d6c-cd95-8881c505d211"
      },
      "execution_count": 4,
      "outputs": [
        {
          "output_type": "execute_result",
          "data": {
            "text/plain": [
              "         Population   Total Cases  Total Deaths  Tot Cases//1M pop  \\\n",
              "count  2.250000e+02  2.250000e+02  2.250000e+02         225.000000   \n",
              "mean   3.507321e+07  2.184781e+06  2.744813e+04      136900.373333   \n",
              "std    1.392418e+08  7.275938e+06  9.689177e+04      145060.340289   \n",
              "min    8.050000e+02  1.000000e+00  0.000000e+00           9.000000   \n",
              "25%    5.665570e+05  2.407100e+04  1.890000e+02       11384.000000   \n",
              "50%    5.827911e+06  1.639360e+05  1.965000e+03       88987.000000   \n",
              "75%    2.190585e+07  1.092547e+06  1.366000e+04      223335.000000   \n",
              "max    1.439324e+09  8.183905e+07  1.008222e+06      696044.000000   \n",
              "\n",
              "       Tot Deaths/1M pop  Death percentage  \n",
              "count         225.000000        225.000000  \n",
              "mean         1096.715556          1.444125  \n",
              "std          1195.715543          1.741728  \n",
              "min             0.000000          0.000000  \n",
              "25%           123.000000          0.511291  \n",
              "50%           708.000000          1.036905  \n",
              "75%          1795.000000          1.977017  \n",
              "max          6286.000000         18.151787  "
            ],
            "text/html": [
              "\n",
              "  <div id=\"df-2bc0aba1-9736-433e-b163-91feaf7d5713\">\n",
              "    <div class=\"colab-df-container\">\n",
              "      <div>\n",
              "<style scoped>\n",
              "    .dataframe tbody tr th:only-of-type {\n",
              "        vertical-align: middle;\n",
              "    }\n",
              "\n",
              "    .dataframe tbody tr th {\n",
              "        vertical-align: top;\n",
              "    }\n",
              "\n",
              "    .dataframe thead th {\n",
              "        text-align: right;\n",
              "    }\n",
              "</style>\n",
              "<table border=\"1\" class=\"dataframe\">\n",
              "  <thead>\n",
              "    <tr style=\"text-align: right;\">\n",
              "      <th></th>\n",
              "      <th>Population</th>\n",
              "      <th>Total Cases</th>\n",
              "      <th>Total Deaths</th>\n",
              "      <th>Tot Cases//1M pop</th>\n",
              "      <th>Tot Deaths/1M pop</th>\n",
              "      <th>Death percentage</th>\n",
              "    </tr>\n",
              "  </thead>\n",
              "  <tbody>\n",
              "    <tr>\n",
              "      <th>count</th>\n",
              "      <td>2.250000e+02</td>\n",
              "      <td>2.250000e+02</td>\n",
              "      <td>2.250000e+02</td>\n",
              "      <td>225.000000</td>\n",
              "      <td>225.000000</td>\n",
              "      <td>225.000000</td>\n",
              "    </tr>\n",
              "    <tr>\n",
              "      <th>mean</th>\n",
              "      <td>3.507321e+07</td>\n",
              "      <td>2.184781e+06</td>\n",
              "      <td>2.744813e+04</td>\n",
              "      <td>136900.373333</td>\n",
              "      <td>1096.715556</td>\n",
              "      <td>1.444125</td>\n",
              "    </tr>\n",
              "    <tr>\n",
              "      <th>std</th>\n",
              "      <td>1.392418e+08</td>\n",
              "      <td>7.275938e+06</td>\n",
              "      <td>9.689177e+04</td>\n",
              "      <td>145060.340289</td>\n",
              "      <td>1195.715543</td>\n",
              "      <td>1.741728</td>\n",
              "    </tr>\n",
              "    <tr>\n",
              "      <th>min</th>\n",
              "      <td>8.050000e+02</td>\n",
              "      <td>1.000000e+00</td>\n",
              "      <td>0.000000e+00</td>\n",
              "      <td>9.000000</td>\n",
              "      <td>0.000000</td>\n",
              "      <td>0.000000</td>\n",
              "    </tr>\n",
              "    <tr>\n",
              "      <th>25%</th>\n",
              "      <td>5.665570e+05</td>\n",
              "      <td>2.407100e+04</td>\n",
              "      <td>1.890000e+02</td>\n",
              "      <td>11384.000000</td>\n",
              "      <td>123.000000</td>\n",
              "      <td>0.511291</td>\n",
              "    </tr>\n",
              "    <tr>\n",
              "      <th>50%</th>\n",
              "      <td>5.827911e+06</td>\n",
              "      <td>1.639360e+05</td>\n",
              "      <td>1.965000e+03</td>\n",
              "      <td>88987.000000</td>\n",
              "      <td>708.000000</td>\n",
              "      <td>1.036905</td>\n",
              "    </tr>\n",
              "    <tr>\n",
              "      <th>75%</th>\n",
              "      <td>2.190585e+07</td>\n",
              "      <td>1.092547e+06</td>\n",
              "      <td>1.366000e+04</td>\n",
              "      <td>223335.000000</td>\n",
              "      <td>1795.000000</td>\n",
              "      <td>1.977017</td>\n",
              "    </tr>\n",
              "    <tr>\n",
              "      <th>max</th>\n",
              "      <td>1.439324e+09</td>\n",
              "      <td>8.183905e+07</td>\n",
              "      <td>1.008222e+06</td>\n",
              "      <td>696044.000000</td>\n",
              "      <td>6286.000000</td>\n",
              "      <td>18.151787</td>\n",
              "    </tr>\n",
              "  </tbody>\n",
              "</table>\n",
              "</div>\n",
              "      <button class=\"colab-df-convert\" onclick=\"convertToInteractive('df-2bc0aba1-9736-433e-b163-91feaf7d5713')\"\n",
              "              title=\"Convert this dataframe to an interactive table.\"\n",
              "              style=\"display:none;\">\n",
              "        \n",
              "  <svg xmlns=\"http://www.w3.org/2000/svg\" height=\"24px\"viewBox=\"0 0 24 24\"\n",
              "       width=\"24px\">\n",
              "    <path d=\"M0 0h24v24H0V0z\" fill=\"none\"/>\n",
              "    <path d=\"M18.56 5.44l.94 2.06.94-2.06 2.06-.94-2.06-.94-.94-2.06-.94 2.06-2.06.94zm-11 1L8.5 8.5l.94-2.06 2.06-.94-2.06-.94L8.5 2.5l-.94 2.06-2.06.94zm10 10l.94 2.06.94-2.06 2.06-.94-2.06-.94-.94-2.06-.94 2.06-2.06.94z\"/><path d=\"M17.41 7.96l-1.37-1.37c-.4-.4-.92-.59-1.43-.59-.52 0-1.04.2-1.43.59L10.3 9.45l-7.72 7.72c-.78.78-.78 2.05 0 2.83L4 21.41c.39.39.9.59 1.41.59.51 0 1.02-.2 1.41-.59l7.78-7.78 2.81-2.81c.8-.78.8-2.07 0-2.86zM5.41 20L4 18.59l7.72-7.72 1.47 1.35L5.41 20z\"/>\n",
              "  </svg>\n",
              "      </button>\n",
              "      \n",
              "  <style>\n",
              "    .colab-df-container {\n",
              "      display:flex;\n",
              "      flex-wrap:wrap;\n",
              "      gap: 12px;\n",
              "    }\n",
              "\n",
              "    .colab-df-convert {\n",
              "      background-color: #E8F0FE;\n",
              "      border: none;\n",
              "      border-radius: 50%;\n",
              "      cursor: pointer;\n",
              "      display: none;\n",
              "      fill: #1967D2;\n",
              "      height: 32px;\n",
              "      padding: 0 0 0 0;\n",
              "      width: 32px;\n",
              "    }\n",
              "\n",
              "    .colab-df-convert:hover {\n",
              "      background-color: #E2EBFA;\n",
              "      box-shadow: 0px 1px 2px rgba(60, 64, 67, 0.3), 0px 1px 3px 1px rgba(60, 64, 67, 0.15);\n",
              "      fill: #174EA6;\n",
              "    }\n",
              "\n",
              "    [theme=dark] .colab-df-convert {\n",
              "      background-color: #3B4455;\n",
              "      fill: #D2E3FC;\n",
              "    }\n",
              "\n",
              "    [theme=dark] .colab-df-convert:hover {\n",
              "      background-color: #434B5C;\n",
              "      box-shadow: 0px 1px 3px 1px rgba(0, 0, 0, 0.15);\n",
              "      filter: drop-shadow(0px 1px 2px rgba(0, 0, 0, 0.3));\n",
              "      fill: #FFFFFF;\n",
              "    }\n",
              "  </style>\n",
              "\n",
              "      <script>\n",
              "        const buttonEl =\n",
              "          document.querySelector('#df-2bc0aba1-9736-433e-b163-91feaf7d5713 button.colab-df-convert');\n",
              "        buttonEl.style.display =\n",
              "          google.colab.kernel.accessAllowed ? 'block' : 'none';\n",
              "\n",
              "        async function convertToInteractive(key) {\n",
              "          const element = document.querySelector('#df-2bc0aba1-9736-433e-b163-91feaf7d5713');\n",
              "          const dataTable =\n",
              "            await google.colab.kernel.invokeFunction('convertToInteractive',\n",
              "                                                     [key], {});\n",
              "          if (!dataTable) return;\n",
              "\n",
              "          const docLinkHtml = 'Like what you see? Visit the ' +\n",
              "            '<a target=\"_blank\" href=https://colab.research.google.com/notebooks/data_table.ipynb>data table notebook</a>'\n",
              "            + ' to learn more about interactive tables.';\n",
              "          element.innerHTML = '';\n",
              "          dataTable['output_type'] = 'display_data';\n",
              "          await google.colab.output.renderOutput(dataTable, element);\n",
              "          const docLink = document.createElement('div');\n",
              "          docLink.innerHTML = docLinkHtml;\n",
              "          element.appendChild(docLink);\n",
              "        }\n",
              "      </script>\n",
              "    </div>\n",
              "  </div>\n",
              "  "
            ]
          },
          "metadata": {},
          "execution_count": 4
        }
      ]
    },
    {
      "cell_type": "code",
      "source": [
        "df.info()"
      ],
      "metadata": {
        "colab": {
          "base_uri": "https://localhost:8080/"
        },
        "id": "pFh9FCYPg27H",
        "outputId": "a100b3d1-82bd-4115-e134-31c0641e973e"
      },
      "execution_count": 5,
      "outputs": [
        {
          "output_type": "stream",
          "name": "stdout",
          "text": [
            "<class 'pandas.core.frame.DataFrame'>\n",
            "RangeIndex: 225 entries, 0 to 224\n",
            "Data columns (total 10 columns):\n",
            " #   Column                   Non-Null Count  Dtype  \n",
            "---  ------                   --------------  -----  \n",
            " 0   Country                  225 non-null    object \n",
            " 1   Other names              224 non-null    object \n",
            " 2   ISO 3166-1 alpha-3 CODE  225 non-null    object \n",
            " 3   Population               225 non-null    int64  \n",
            " 4   Continent                225 non-null    object \n",
            " 5   Total Cases              225 non-null    int64  \n",
            " 6   Total Deaths             225 non-null    int64  \n",
            " 7   Tot Cases//1M pop        225 non-null    int64  \n",
            " 8   Tot Deaths/1M pop        225 non-null    int64  \n",
            " 9   Death percentage         225 non-null    float64\n",
            "dtypes: float64(1), int64(5), object(4)\n",
            "memory usage: 17.7+ KB\n"
          ]
        }
      ]
    },
    {
      "cell_type": "code",
      "source": [
        "df.columns"
      ],
      "metadata": {
        "colab": {
          "base_uri": "https://localhost:8080/"
        },
        "id": "IaAAHxIFg4S6",
        "outputId": "bebbebf6-7937-4422-f743-09e37370b753"
      },
      "execution_count": 6,
      "outputs": [
        {
          "output_type": "execute_result",
          "data": {
            "text/plain": [
              "Index(['Country', 'Other names', 'ISO 3166-1 alpha-3 CODE', 'Population',\n",
              "       'Continent', 'Total Cases', 'Total Deaths', 'Tot Cases//1M pop',\n",
              "       'Tot Deaths/1M pop', 'Death percentage'],\n",
              "      dtype='object')"
            ]
          },
          "metadata": {},
          "execution_count": 6
        }
      ]
    },
    {
      "cell_type": "code",
      "source": [
        "num_columns = df.select_dtypes(exclude='object').columns.tolist()\n",
        "cat_columns = df.select_dtypes(include='object').columns.tolist()"
      ],
      "metadata": {
        "id": "HitBIl-pg7UI"
      },
      "execution_count": 7,
      "outputs": []
    },
    {
      "cell_type": "code",
      "source": [
        "num_columns"
      ],
      "metadata": {
        "colab": {
          "base_uri": "https://localhost:8080/"
        },
        "id": "JgVTX5xXhHqi",
        "outputId": "e9ec5deb-e097-404f-e15d-3c43ca7a9867"
      },
      "execution_count": 8,
      "outputs": [
        {
          "output_type": "execute_result",
          "data": {
            "text/plain": [
              "['Population',\n",
              " 'Total Cases',\n",
              " 'Total Deaths',\n",
              " 'Tot\\xa0Cases//1M pop',\n",
              " 'Tot\\xa0Deaths/1M pop',\n",
              " 'Death percentage']"
            ]
          },
          "metadata": {},
          "execution_count": 8
        }
      ]
    },
    {
      "cell_type": "code",
      "source": [
        "cat_columns"
      ],
      "metadata": {
        "colab": {
          "base_uri": "https://localhost:8080/"
        },
        "id": "G8wpFIrEhJMu",
        "outputId": "31ef2b5e-9858-40fa-c7e6-fda0276d3878"
      },
      "execution_count": 9,
      "outputs": [
        {
          "output_type": "execute_result",
          "data": {
            "text/plain": [
              "['Country', 'Other names', 'ISO 3166-1 alpha-3 CODE', 'Continent']"
            ]
          },
          "metadata": {},
          "execution_count": 9
        }
      ]
    },
    {
      "cell_type": "code",
      "source": [
        "df.isna().sum()"
      ],
      "metadata": {
        "colab": {
          "base_uri": "https://localhost:8080/"
        },
        "id": "1S5Bm3kThlYR",
        "outputId": "f4497a88-0d47-49d7-c961-cb1160589097"
      },
      "execution_count": 10,
      "outputs": [
        {
          "output_type": "execute_result",
          "data": {
            "text/plain": [
              "Country                    0\n",
              "Other names                1\n",
              "ISO 3166-1 alpha-3 CODE    0\n",
              "Population                 0\n",
              "Continent                  0\n",
              "Total Cases                0\n",
              "Total Deaths               0\n",
              "Tot Cases//1M pop          0\n",
              "Tot Deaths/1M pop          0\n",
              "Death percentage           0\n",
              "dtype: int64"
            ]
          },
          "metadata": {},
          "execution_count": 10
        }
      ]
    },
    {
      "cell_type": "code",
      "source": [
        "df.head(5)"
      ],
      "metadata": {
        "colab": {
          "base_uri": "https://localhost:8080/",
          "height": 206
        },
        "id": "PIngkkQ9hnKd",
        "outputId": "8cab7a07-77f5-421c-cbd0-5184419c1b29"
      },
      "execution_count": 11,
      "outputs": [
        {
          "output_type": "execute_result",
          "data": {
            "text/plain": [
              "       Country  Other names ISO 3166-1 alpha-3 CODE  Population Continent  \\\n",
              "0  Afghanistan  Afghanistan                     AFG    40462186      Asia   \n",
              "1      Albania      Albania                     ALB     2872296    Europe   \n",
              "2      Algeria      Algeria                     DZA    45236699    Africa   \n",
              "3      Andorra      Andorra                     AND       77481    Europe   \n",
              "4       Angola       Angola                     AGO    34654212    Africa   \n",
              "\n",
              "   Total Cases  Total Deaths  Tot Cases//1M pop  Tot Deaths/1M pop  \\\n",
              "0       177827          7671               4395                190   \n",
              "1       273870          3492              95349               1216   \n",
              "2       265691          6874               5873                152   \n",
              "3        40024           153             516565               1975   \n",
              "4        99194          1900               2862                 55   \n",
              "\n",
              "   Death percentage  \n",
              "0          4.313743  \n",
              "1          1.275058  \n",
              "2          2.587216  \n",
              "3          0.382271  \n",
              "4          1.915438  "
            ],
            "text/html": [
              "\n",
              "  <div id=\"df-eb58cef2-f253-47e8-8ed8-48b612becf1c\">\n",
              "    <div class=\"colab-df-container\">\n",
              "      <div>\n",
              "<style scoped>\n",
              "    .dataframe tbody tr th:only-of-type {\n",
              "        vertical-align: middle;\n",
              "    }\n",
              "\n",
              "    .dataframe tbody tr th {\n",
              "        vertical-align: top;\n",
              "    }\n",
              "\n",
              "    .dataframe thead th {\n",
              "        text-align: right;\n",
              "    }\n",
              "</style>\n",
              "<table border=\"1\" class=\"dataframe\">\n",
              "  <thead>\n",
              "    <tr style=\"text-align: right;\">\n",
              "      <th></th>\n",
              "      <th>Country</th>\n",
              "      <th>Other names</th>\n",
              "      <th>ISO 3166-1 alpha-3 CODE</th>\n",
              "      <th>Population</th>\n",
              "      <th>Continent</th>\n",
              "      <th>Total Cases</th>\n",
              "      <th>Total Deaths</th>\n",
              "      <th>Tot Cases//1M pop</th>\n",
              "      <th>Tot Deaths/1M pop</th>\n",
              "      <th>Death percentage</th>\n",
              "    </tr>\n",
              "  </thead>\n",
              "  <tbody>\n",
              "    <tr>\n",
              "      <th>0</th>\n",
              "      <td>Afghanistan</td>\n",
              "      <td>Afghanistan</td>\n",
              "      <td>AFG</td>\n",
              "      <td>40462186</td>\n",
              "      <td>Asia</td>\n",
              "      <td>177827</td>\n",
              "      <td>7671</td>\n",
              "      <td>4395</td>\n",
              "      <td>190</td>\n",
              "      <td>4.313743</td>\n",
              "    </tr>\n",
              "    <tr>\n",
              "      <th>1</th>\n",
              "      <td>Albania</td>\n",
              "      <td>Albania</td>\n",
              "      <td>ALB</td>\n",
              "      <td>2872296</td>\n",
              "      <td>Europe</td>\n",
              "      <td>273870</td>\n",
              "      <td>3492</td>\n",
              "      <td>95349</td>\n",
              "      <td>1216</td>\n",
              "      <td>1.275058</td>\n",
              "    </tr>\n",
              "    <tr>\n",
              "      <th>2</th>\n",
              "      <td>Algeria</td>\n",
              "      <td>Algeria</td>\n",
              "      <td>DZA</td>\n",
              "      <td>45236699</td>\n",
              "      <td>Africa</td>\n",
              "      <td>265691</td>\n",
              "      <td>6874</td>\n",
              "      <td>5873</td>\n",
              "      <td>152</td>\n",
              "      <td>2.587216</td>\n",
              "    </tr>\n",
              "    <tr>\n",
              "      <th>3</th>\n",
              "      <td>Andorra</td>\n",
              "      <td>Andorra</td>\n",
              "      <td>AND</td>\n",
              "      <td>77481</td>\n",
              "      <td>Europe</td>\n",
              "      <td>40024</td>\n",
              "      <td>153</td>\n",
              "      <td>516565</td>\n",
              "      <td>1975</td>\n",
              "      <td>0.382271</td>\n",
              "    </tr>\n",
              "    <tr>\n",
              "      <th>4</th>\n",
              "      <td>Angola</td>\n",
              "      <td>Angola</td>\n",
              "      <td>AGO</td>\n",
              "      <td>34654212</td>\n",
              "      <td>Africa</td>\n",
              "      <td>99194</td>\n",
              "      <td>1900</td>\n",
              "      <td>2862</td>\n",
              "      <td>55</td>\n",
              "      <td>1.915438</td>\n",
              "    </tr>\n",
              "  </tbody>\n",
              "</table>\n",
              "</div>\n",
              "      <button class=\"colab-df-convert\" onclick=\"convertToInteractive('df-eb58cef2-f253-47e8-8ed8-48b612becf1c')\"\n",
              "              title=\"Convert this dataframe to an interactive table.\"\n",
              "              style=\"display:none;\">\n",
              "        \n",
              "  <svg xmlns=\"http://www.w3.org/2000/svg\" height=\"24px\"viewBox=\"0 0 24 24\"\n",
              "       width=\"24px\">\n",
              "    <path d=\"M0 0h24v24H0V0z\" fill=\"none\"/>\n",
              "    <path d=\"M18.56 5.44l.94 2.06.94-2.06 2.06-.94-2.06-.94-.94-2.06-.94 2.06-2.06.94zm-11 1L8.5 8.5l.94-2.06 2.06-.94-2.06-.94L8.5 2.5l-.94 2.06-2.06.94zm10 10l.94 2.06.94-2.06 2.06-.94-2.06-.94-.94-2.06-.94 2.06-2.06.94z\"/><path d=\"M17.41 7.96l-1.37-1.37c-.4-.4-.92-.59-1.43-.59-.52 0-1.04.2-1.43.59L10.3 9.45l-7.72 7.72c-.78.78-.78 2.05 0 2.83L4 21.41c.39.39.9.59 1.41.59.51 0 1.02-.2 1.41-.59l7.78-7.78 2.81-2.81c.8-.78.8-2.07 0-2.86zM5.41 20L4 18.59l7.72-7.72 1.47 1.35L5.41 20z\"/>\n",
              "  </svg>\n",
              "      </button>\n",
              "      \n",
              "  <style>\n",
              "    .colab-df-container {\n",
              "      display:flex;\n",
              "      flex-wrap:wrap;\n",
              "      gap: 12px;\n",
              "    }\n",
              "\n",
              "    .colab-df-convert {\n",
              "      background-color: #E8F0FE;\n",
              "      border: none;\n",
              "      border-radius: 50%;\n",
              "      cursor: pointer;\n",
              "      display: none;\n",
              "      fill: #1967D2;\n",
              "      height: 32px;\n",
              "      padding: 0 0 0 0;\n",
              "      width: 32px;\n",
              "    }\n",
              "\n",
              "    .colab-df-convert:hover {\n",
              "      background-color: #E2EBFA;\n",
              "      box-shadow: 0px 1px 2px rgba(60, 64, 67, 0.3), 0px 1px 3px 1px rgba(60, 64, 67, 0.15);\n",
              "      fill: #174EA6;\n",
              "    }\n",
              "\n",
              "    [theme=dark] .colab-df-convert {\n",
              "      background-color: #3B4455;\n",
              "      fill: #D2E3FC;\n",
              "    }\n",
              "\n",
              "    [theme=dark] .colab-df-convert:hover {\n",
              "      background-color: #434B5C;\n",
              "      box-shadow: 0px 1px 3px 1px rgba(0, 0, 0, 0.15);\n",
              "      filter: drop-shadow(0px 1px 2px rgba(0, 0, 0, 0.3));\n",
              "      fill: #FFFFFF;\n",
              "    }\n",
              "  </style>\n",
              "\n",
              "      <script>\n",
              "        const buttonEl =\n",
              "          document.querySelector('#df-eb58cef2-f253-47e8-8ed8-48b612becf1c button.colab-df-convert');\n",
              "        buttonEl.style.display =\n",
              "          google.colab.kernel.accessAllowed ? 'block' : 'none';\n",
              "\n",
              "        async function convertToInteractive(key) {\n",
              "          const element = document.querySelector('#df-eb58cef2-f253-47e8-8ed8-48b612becf1c');\n",
              "          const dataTable =\n",
              "            await google.colab.kernel.invokeFunction('convertToInteractive',\n",
              "                                                     [key], {});\n",
              "          if (!dataTable) return;\n",
              "\n",
              "          const docLinkHtml = 'Like what you see? Visit the ' +\n",
              "            '<a target=\"_blank\" href=https://colab.research.google.com/notebooks/data_table.ipynb>data table notebook</a>'\n",
              "            + ' to learn more about interactive tables.';\n",
              "          element.innerHTML = '';\n",
              "          dataTable['output_type'] = 'display_data';\n",
              "          await google.colab.output.renderOutput(dataTable, element);\n",
              "          const docLink = document.createElement('div');\n",
              "          docLink.innerHTML = docLinkHtml;\n",
              "          element.appendChild(docLink);\n",
              "        }\n",
              "      </script>\n",
              "    </div>\n",
              "  </div>\n",
              "  "
            ]
          },
          "metadata": {},
          "execution_count": 11
        }
      ]
    },
    {
      "cell_type": "code",
      "source": [
        "df = df.drop(['Other names','ISO 3166-1 alpha-3 CODE'],axis=1)"
      ],
      "metadata": {
        "id": "28KEQqXrhq3V"
      },
      "execution_count": 12,
      "outputs": []
    },
    {
      "cell_type": "code",
      "source": [
        "df.head(10)"
      ],
      "metadata": {
        "colab": {
          "base_uri": "https://localhost:8080/",
          "height": 363
        },
        "id": "mlD__S5Gi3PE",
        "outputId": "9b8ef1e0-cce4-4a09-db8d-0ecf6e4fc08d"
      },
      "execution_count": 13,
      "outputs": [
        {
          "output_type": "execute_result",
          "data": {
            "text/plain": [
              "               Country  Population                        Continent  \\\n",
              "0          Afghanistan    40462186                             Asia   \n",
              "1              Albania     2872296                           Europe   \n",
              "2              Algeria    45236699                           Africa   \n",
              "3              Andorra       77481                           Europe   \n",
              "4               Angola    34654212                           Africa   \n",
              "5             Anguilla       15237  Latin America and the Caribbean   \n",
              "6  Antigua and Barbuda       99348  Latin America and the Caribbean   \n",
              "7            Argentina    45921761  Latin America and the Caribbean   \n",
              "8              Armenia     2972939                             Asia   \n",
              "9                Aruba      107560  Latin America and the Caribbean   \n",
              "\n",
              "   Total Cases  Total Deaths  Tot Cases//1M pop  Tot Deaths/1M pop  \\\n",
              "0       177827          7671               4395                190   \n",
              "1       273870          3492              95349               1216   \n",
              "2       265691          6874               5873                152   \n",
              "3        40024           153             516565               1975   \n",
              "4        99194          1900               2862                 55   \n",
              "5         2700             9             177200                591   \n",
              "6         7493           135              75422               1359   \n",
              "7      9041124        128065             196881               2789   \n",
              "8       422574          8617             142140               2898   \n",
              "9        34051           212             316577               1971   \n",
              "\n",
              "   Death percentage  \n",
              "0          4.313743  \n",
              "1          1.275058  \n",
              "2          2.587216  \n",
              "3          0.382271  \n",
              "4          1.915438  \n",
              "5          0.333333  \n",
              "6          1.801682  \n",
              "7          1.416472  \n",
              "8          2.039169  \n",
              "9          0.622596  "
            ],
            "text/html": [
              "\n",
              "  <div id=\"df-475f443d-5a72-4111-8126-6dbe6692666b\">\n",
              "    <div class=\"colab-df-container\">\n",
              "      <div>\n",
              "<style scoped>\n",
              "    .dataframe tbody tr th:only-of-type {\n",
              "        vertical-align: middle;\n",
              "    }\n",
              "\n",
              "    .dataframe tbody tr th {\n",
              "        vertical-align: top;\n",
              "    }\n",
              "\n",
              "    .dataframe thead th {\n",
              "        text-align: right;\n",
              "    }\n",
              "</style>\n",
              "<table border=\"1\" class=\"dataframe\">\n",
              "  <thead>\n",
              "    <tr style=\"text-align: right;\">\n",
              "      <th></th>\n",
              "      <th>Country</th>\n",
              "      <th>Population</th>\n",
              "      <th>Continent</th>\n",
              "      <th>Total Cases</th>\n",
              "      <th>Total Deaths</th>\n",
              "      <th>Tot Cases//1M pop</th>\n",
              "      <th>Tot Deaths/1M pop</th>\n",
              "      <th>Death percentage</th>\n",
              "    </tr>\n",
              "  </thead>\n",
              "  <tbody>\n",
              "    <tr>\n",
              "      <th>0</th>\n",
              "      <td>Afghanistan</td>\n",
              "      <td>40462186</td>\n",
              "      <td>Asia</td>\n",
              "      <td>177827</td>\n",
              "      <td>7671</td>\n",
              "      <td>4395</td>\n",
              "      <td>190</td>\n",
              "      <td>4.313743</td>\n",
              "    </tr>\n",
              "    <tr>\n",
              "      <th>1</th>\n",
              "      <td>Albania</td>\n",
              "      <td>2872296</td>\n",
              "      <td>Europe</td>\n",
              "      <td>273870</td>\n",
              "      <td>3492</td>\n",
              "      <td>95349</td>\n",
              "      <td>1216</td>\n",
              "      <td>1.275058</td>\n",
              "    </tr>\n",
              "    <tr>\n",
              "      <th>2</th>\n",
              "      <td>Algeria</td>\n",
              "      <td>45236699</td>\n",
              "      <td>Africa</td>\n",
              "      <td>265691</td>\n",
              "      <td>6874</td>\n",
              "      <td>5873</td>\n",
              "      <td>152</td>\n",
              "      <td>2.587216</td>\n",
              "    </tr>\n",
              "    <tr>\n",
              "      <th>3</th>\n",
              "      <td>Andorra</td>\n",
              "      <td>77481</td>\n",
              "      <td>Europe</td>\n",
              "      <td>40024</td>\n",
              "      <td>153</td>\n",
              "      <td>516565</td>\n",
              "      <td>1975</td>\n",
              "      <td>0.382271</td>\n",
              "    </tr>\n",
              "    <tr>\n",
              "      <th>4</th>\n",
              "      <td>Angola</td>\n",
              "      <td>34654212</td>\n",
              "      <td>Africa</td>\n",
              "      <td>99194</td>\n",
              "      <td>1900</td>\n",
              "      <td>2862</td>\n",
              "      <td>55</td>\n",
              "      <td>1.915438</td>\n",
              "    </tr>\n",
              "    <tr>\n",
              "      <th>5</th>\n",
              "      <td>Anguilla</td>\n",
              "      <td>15237</td>\n",
              "      <td>Latin America and the Caribbean</td>\n",
              "      <td>2700</td>\n",
              "      <td>9</td>\n",
              "      <td>177200</td>\n",
              "      <td>591</td>\n",
              "      <td>0.333333</td>\n",
              "    </tr>\n",
              "    <tr>\n",
              "      <th>6</th>\n",
              "      <td>Antigua and Barbuda</td>\n",
              "      <td>99348</td>\n",
              "      <td>Latin America and the Caribbean</td>\n",
              "      <td>7493</td>\n",
              "      <td>135</td>\n",
              "      <td>75422</td>\n",
              "      <td>1359</td>\n",
              "      <td>1.801682</td>\n",
              "    </tr>\n",
              "    <tr>\n",
              "      <th>7</th>\n",
              "      <td>Argentina</td>\n",
              "      <td>45921761</td>\n",
              "      <td>Latin America and the Caribbean</td>\n",
              "      <td>9041124</td>\n",
              "      <td>128065</td>\n",
              "      <td>196881</td>\n",
              "      <td>2789</td>\n",
              "      <td>1.416472</td>\n",
              "    </tr>\n",
              "    <tr>\n",
              "      <th>8</th>\n",
              "      <td>Armenia</td>\n",
              "      <td>2972939</td>\n",
              "      <td>Asia</td>\n",
              "      <td>422574</td>\n",
              "      <td>8617</td>\n",
              "      <td>142140</td>\n",
              "      <td>2898</td>\n",
              "      <td>2.039169</td>\n",
              "    </tr>\n",
              "    <tr>\n",
              "      <th>9</th>\n",
              "      <td>Aruba</td>\n",
              "      <td>107560</td>\n",
              "      <td>Latin America and the Caribbean</td>\n",
              "      <td>34051</td>\n",
              "      <td>212</td>\n",
              "      <td>316577</td>\n",
              "      <td>1971</td>\n",
              "      <td>0.622596</td>\n",
              "    </tr>\n",
              "  </tbody>\n",
              "</table>\n",
              "</div>\n",
              "      <button class=\"colab-df-convert\" onclick=\"convertToInteractive('df-475f443d-5a72-4111-8126-6dbe6692666b')\"\n",
              "              title=\"Convert this dataframe to an interactive table.\"\n",
              "              style=\"display:none;\">\n",
              "        \n",
              "  <svg xmlns=\"http://www.w3.org/2000/svg\" height=\"24px\"viewBox=\"0 0 24 24\"\n",
              "       width=\"24px\">\n",
              "    <path d=\"M0 0h24v24H0V0z\" fill=\"none\"/>\n",
              "    <path d=\"M18.56 5.44l.94 2.06.94-2.06 2.06-.94-2.06-.94-.94-2.06-.94 2.06-2.06.94zm-11 1L8.5 8.5l.94-2.06 2.06-.94-2.06-.94L8.5 2.5l-.94 2.06-2.06.94zm10 10l.94 2.06.94-2.06 2.06-.94-2.06-.94-.94-2.06-.94 2.06-2.06.94z\"/><path d=\"M17.41 7.96l-1.37-1.37c-.4-.4-.92-.59-1.43-.59-.52 0-1.04.2-1.43.59L10.3 9.45l-7.72 7.72c-.78.78-.78 2.05 0 2.83L4 21.41c.39.39.9.59 1.41.59.51 0 1.02-.2 1.41-.59l7.78-7.78 2.81-2.81c.8-.78.8-2.07 0-2.86zM5.41 20L4 18.59l7.72-7.72 1.47 1.35L5.41 20z\"/>\n",
              "  </svg>\n",
              "      </button>\n",
              "      \n",
              "  <style>\n",
              "    .colab-df-container {\n",
              "      display:flex;\n",
              "      flex-wrap:wrap;\n",
              "      gap: 12px;\n",
              "    }\n",
              "\n",
              "    .colab-df-convert {\n",
              "      background-color: #E8F0FE;\n",
              "      border: none;\n",
              "      border-radius: 50%;\n",
              "      cursor: pointer;\n",
              "      display: none;\n",
              "      fill: #1967D2;\n",
              "      height: 32px;\n",
              "      padding: 0 0 0 0;\n",
              "      width: 32px;\n",
              "    }\n",
              "\n",
              "    .colab-df-convert:hover {\n",
              "      background-color: #E2EBFA;\n",
              "      box-shadow: 0px 1px 2px rgba(60, 64, 67, 0.3), 0px 1px 3px 1px rgba(60, 64, 67, 0.15);\n",
              "      fill: #174EA6;\n",
              "    }\n",
              "\n",
              "    [theme=dark] .colab-df-convert {\n",
              "      background-color: #3B4455;\n",
              "      fill: #D2E3FC;\n",
              "    }\n",
              "\n",
              "    [theme=dark] .colab-df-convert:hover {\n",
              "      background-color: #434B5C;\n",
              "      box-shadow: 0px 1px 3px 1px rgba(0, 0, 0, 0.15);\n",
              "      filter: drop-shadow(0px 1px 2px rgba(0, 0, 0, 0.3));\n",
              "      fill: #FFFFFF;\n",
              "    }\n",
              "  </style>\n",
              "\n",
              "      <script>\n",
              "        const buttonEl =\n",
              "          document.querySelector('#df-475f443d-5a72-4111-8126-6dbe6692666b button.colab-df-convert');\n",
              "        buttonEl.style.display =\n",
              "          google.colab.kernel.accessAllowed ? 'block' : 'none';\n",
              "\n",
              "        async function convertToInteractive(key) {\n",
              "          const element = document.querySelector('#df-475f443d-5a72-4111-8126-6dbe6692666b');\n",
              "          const dataTable =\n",
              "            await google.colab.kernel.invokeFunction('convertToInteractive',\n",
              "                                                     [key], {});\n",
              "          if (!dataTable) return;\n",
              "\n",
              "          const docLinkHtml = 'Like what you see? Visit the ' +\n",
              "            '<a target=\"_blank\" href=https://colab.research.google.com/notebooks/data_table.ipynb>data table notebook</a>'\n",
              "            + ' to learn more about interactive tables.';\n",
              "          element.innerHTML = '';\n",
              "          dataTable['output_type'] = 'display_data';\n",
              "          await google.colab.output.renderOutput(dataTable, element);\n",
              "          const docLink = document.createElement('div');\n",
              "          docLink.innerHTML = docLinkHtml;\n",
              "          element.appendChild(docLink);\n",
              "        }\n",
              "      </script>\n",
              "    </div>\n",
              "  </div>\n",
              "  "
            ]
          },
          "metadata": {},
          "execution_count": 13
        }
      ]
    },
    {
      "cell_type": "code",
      "source": [
        "df['Continent'].unique()"
      ],
      "metadata": {
        "colab": {
          "base_uri": "https://localhost:8080/"
        },
        "id": "9xwbLrOli3z2",
        "outputId": "ea1dfcfb-ad0c-4179-d103-88b1a6920cb7"
      },
      "execution_count": 14,
      "outputs": [
        {
          "output_type": "execute_result",
          "data": {
            "text/plain": [
              "array(['Asia', 'Europe', 'Africa', 'Latin America and the Caribbean',\n",
              "       'Oceania', 'Northern America'], dtype=object)"
            ]
          },
          "metadata": {},
          "execution_count": 14
        }
      ]
    },
    {
      "cell_type": "code",
      "source": [
        "sns.pairplot(df)\n",
        "plt.show()"
      ],
      "metadata": {
        "colab": {
          "base_uri": "https://localhost:8080/",
          "height": 1000
        },
        "id": "gLUUUv6UjQGl",
        "outputId": "d9de6016-198a-487b-ab41-559fa99efc14"
      },
      "execution_count": 15,
      "outputs": [
        {
          "output_type": "display_data",
          "data": {
            "text/plain": [
              "<Figure size 1080x1080 with 42 Axes>"
            ],
            "image/png": "[encoded data removed]"
          },
          "metadata": {
            "needs_background": "light"
          }
        }
      ]
    },
    {
      "cell_type": "code",
      "source": [
        "pd.DataFrame(df.groupby('Continent')['Total Deaths'].sum().sort_values()).plot(kind='barh')"
      ],
      "metadata": {
        "colab": {
          "base_uri": "https://localhost:8080/",
          "height": 295
        },
        "id": "KGavUzRnjdXu",
        "outputId": "1304d06b-db85-4385-d537-49a5356ac044"
      },
      "execution_count": 16,
      "outputs": [
        {
          "output_type": "execute_result",
          "data": {
            "text/plain": [
              "<matplotlib.axes._subplots.AxesSubplot at 0x7fa2df7fde50>"
            ]
          },
          "metadata": {},
          "execution_count": 16
        },
        {
          "output_type": "display_data",
          "data": {
            "text/plain": [
              "<Figure size 432x288 with 1 Axes>"
            ],
            "image/png": "[encoded data removed]"
          },
          "metadata": {
            "needs_background": "light"
          }
        }
      ]
    },
    {
      "cell_type": "code",
      "source": [
        "pd.DataFrame(df.groupby('Continent')['Total Cases'].sum().sort_values()).plot(kind='barh')"
      ],
      "metadata": {
        "colab": {
          "base_uri": "https://localhost:8080/",
          "height": 295
        },
        "id": "A7m5O7t6k_8H",
        "outputId": "ffd0f19c-ec1d-400f-ce53-dffecf2207b5"
      },
      "execution_count": 17,
      "outputs": [
        {
          "output_type": "execute_result",
          "data": {
            "text/plain": [
              "<matplotlib.axes._subplots.AxesSubplot at 0x7fa2ddddc3d0>"
            ]
          },
          "metadata": {},
          "execution_count": 17
        },
        {
          "output_type": "display_data",
          "data": {
            "text/plain": [
              "<Figure size 432x288 with 1 Axes>"
            ],
            "image/png": "[encoded data removed]"
          },
          "metadata": {
            "needs_background": "light"
          }
        }
      ]
    },
    {
      "cell_type": "code",
      "source": [
        "df_cont = df[[\"Country\",\"Death percentage\",\"Continent\"]]\n",
        "df_cont = df.groupby('Continent').sum()\n",
        "df_cont = df_cont.reset_index()\n",
        "df_cont = df_cont.sort_values(by='Death percentage',ascending=False)\n",
        "df_cont"
      ],
      "metadata": {
        "colab": {
          "base_uri": "https://localhost:8080/",
          "height": 237
        },
        "id": "1j262twvpY5-",
        "outputId": "8a819bd9-853c-4a09-ff51-d1cd18f6594f"
      },
      "execution_count": 18,
      "outputs": [
        {
          "output_type": "execute_result",
          "data": {
            "text/plain": [
              "                         Continent  Population  Total Cases  Total Deaths  \\\n",
              "0                           Africa  1396751613     11764207        252873   \n",
              "1                             Asia  4668689344    140957179       1405003   \n",
              "3  Latin America and the Caribbean   661325824     67509231       1686828   \n",
              "2                           Europe   748420351    180332483       1775727   \n",
              "5                          Oceania    43437948      5647957          9336   \n",
              "4                 Northern America   372846593     85364770       1046062   \n",
              "\n",
              "   Tot Cases//1M pop  Tot Deaths/1M pop  Death percentage  \n",
              "0            1782060              17843        115.517859  \n",
              "1            5015344              30847         76.218998  \n",
              "3            6943019              75380         74.150978  \n",
              "2           14596188             110071         47.586433  \n",
              "5            1375938               6009          7.899474  \n",
              "4            1090035               6611          3.554359  "
            ],
            "text/html": [
              "\n",
              "  <div id=\"df-8950bf6a-1d27-4fc4-91b2-e5d676bce60b\">\n",
              "    <div class=\"colab-df-container\">\n",
              "      <div>\n",
              "<style scoped>\n",
              "    .dataframe tbody tr th:only-of-type {\n",
              "        vertical-align: middle;\n",
              "    }\n",
              "\n",
              "    .dataframe tbody tr th {\n",
              "        vertical-align: top;\n",
              "    }\n",
              "\n",
              "    .dataframe thead th {\n",
              "        text-align: right;\n",
              "    }\n",
              "</style>\n",
              "<table border=\"1\" class=\"dataframe\">\n",
              "  <thead>\n",
              "    <tr style=\"text-align: right;\">\n",
              "      <th></th>\n",
              "      <th>Continent</th>\n",
              "      <th>Population</th>\n",
              "      <th>Total Cases</th>\n",
              "      <th>Total Deaths</th>\n",
              "      <th>Tot Cases//1M pop</th>\n",
              "      <th>Tot Deaths/1M pop</th>\n",
              "      <th>Death percentage</th>\n",
              "    </tr>\n",
              "  </thead>\n",
              "  <tbody>\n",
              "    <tr>\n",
              "      <th>0</th>\n",
              "      <td>Africa</td>\n",
              "      <td>1396751613</td>\n",
              "      <td>11764207</td>\n",
              "      <td>252873</td>\n",
              "      <td>1782060</td>\n",
              "      <td>17843</td>\n",
              "      <td>115.517859</td>\n",
              "    </tr>\n",
              "    <tr>\n",
              "      <th>1</th>\n",
              "      <td>Asia</td>\n",
              "      <td>4668689344</td>\n",
              "      <td>140957179</td>\n",
              "      <td>1405003</td>\n",
              "      <td>5015344</td>\n",
              "      <td>30847</td>\n",
              "      <td>76.218998</td>\n",
              "    </tr>\n",
              "    <tr>\n",
              "      <th>3</th>\n",
              "      <td>Latin America and the Caribbean</td>\n",
              "      <td>661325824</td>\n",
              "      <td>67509231</td>\n",
              "      <td>1686828</td>\n",
              "      <td>6943019</td>\n",
              "      <td>75380</td>\n",
              "      <td>74.150978</td>\n",
              "    </tr>\n",
              "    <tr>\n",
              "      <th>2</th>\n",
              "      <td>Europe</td>\n",
              "      <td>748420351</td>\n",
              "      <td>180332483</td>\n",
              "      <td>1775727</td>\n",
              "      <td>14596188</td>\n",
              "      <td>110071</td>\n",
              "      <td>47.586433</td>\n",
              "    </tr>\n",
              "    <tr>\n",
              "      <th>5</th>\n",
              "      <td>Oceania</td>\n",
              "      <td>43437948</td>\n",
              "      <td>5647957</td>\n",
              "      <td>9336</td>\n",
              "      <td>1375938</td>\n",
              "      <td>6009</td>\n",
              "      <td>7.899474</td>\n",
              "    </tr>\n",
              "    <tr>\n",
              "      <th>4</th>\n",
              "      <td>Northern America</td>\n",
              "      <td>372846593</td>\n",
              "      <td>85364770</td>\n",
              "      <td>1046062</td>\n",
              "      <td>1090035</td>\n",
              "      <td>6611</td>\n",
              "      <td>3.554359</td>\n",
              "    </tr>\n",
              "  </tbody>\n",
              "</table>\n",
              "</div>\n",
              "      <button class=\"colab-df-convert\" onclick=\"convertToInteractive('df-8950bf6a-1d27-4fc4-91b2-e5d676bce60b')\"\n",
              "              title=\"Convert this dataframe to an interactive table.\"\n",
              "              style=\"display:none;\">\n",
              "        \n",
              "  <svg xmlns=\"http://www.w3.org/2000/svg\" height=\"24px\"viewBox=\"0 0 24 24\"\n",
              "       width=\"24px\">\n",
              "    <path d=\"M0 0h24v24H0V0z\" fill=\"none\"/>\n",
              "    <path d=\"M18.56 5.44l.94 2.06.94-2.06 2.06-.94-2.06-.94-.94-2.06-.94 2.06-2.06.94zm-11 1L8.5 8.5l.94-2.06 2.06-.94-2.06-.94L8.5 2.5l-.94 2.06-2.06.94zm10 10l.94 2.06.94-2.06 2.06-.94-2.06-.94-.94-2.06-.94 2.06-2.06.94z\"/><path d=\"M17.41 7.96l-1.37-1.37c-.4-.4-.92-.59-1.43-.59-.52 0-1.04.2-1.43.59L10.3 9.45l-7.72 7.72c-.78.78-.78 2.05 0 2.83L4 21.41c.39.39.9.59 1.41.59.51 0 1.02-.2 1.41-.59l7.78-7.78 2.81-2.81c.8-.78.8-2.07 0-2.86zM5.41 20L4 18.59l7.72-7.72 1.47 1.35L5.41 20z\"/>\n",
              "  </svg>\n",
              "      </button>\n",
              "      \n",
              "  <style>\n",
              "    .colab-df-container {\n",
              "      display:flex;\n",
              "      flex-wrap:wrap;\n",
              "      gap: 12px;\n",
              "    }\n",
              "\n",
              "    .colab-df-convert {\n",
              "      background-color: #E8F0FE;\n",
              "      border: none;\n",
              "      border-radius: 50%;\n",
              "      cursor: pointer;\n",
              "      display: none;\n",
              "      fill: #1967D2;\n",
              "      height: 32px;\n",
              "      padding: 0 0 0 0;\n",
              "      width: 32px;\n",
              "    }\n",
              "\n",
              "    .colab-df-convert:hover {\n",
              "      background-color: #E2EBFA;\n",
              "      box-shadow: 0px 1px 2px rgba(60, 64, 67, 0.3), 0px 1px 3px 1px rgba(60, 64, 67, 0.15);\n",
              "      fill: #174EA6;\n",
              "    }\n",
              "\n",
              "    [theme=dark] .colab-df-convert {\n",
              "      background-color: #3B4455;\n",
              "      fill: #D2E3FC;\n",
              "    }\n",
              "\n",
              "    [theme=dark] .colab-df-convert:hover {\n",
              "      background-color: #434B5C;\n",
              "      box-shadow: 0px 1px 3px 1px rgba(0, 0, 0, 0.15);\n",
              "      filter: drop-shadow(0px 1px 2px rgba(0, 0, 0, 0.3));\n",
              "      fill: #FFFFFF;\n",
              "    }\n",
              "  </style>\n",
              "\n",
              "      <script>\n",
              "        const buttonEl =\n",
              "          document.querySelector('#df-8950bf6a-1d27-4fc4-91b2-e5d676bce60b button.colab-df-convert');\n",
              "        buttonEl.style.display =\n",
              "          google.colab.kernel.accessAllowed ? 'block' : 'none';\n",
              "\n",
              "        async function convertToInteractive(key) {\n",
              "          const element = document.querySelector('#df-8950bf6a-1d27-4fc4-91b2-e5d676bce60b');\n",
              "          const dataTable =\n",
              "            await google.colab.kernel.invokeFunction('convertToInteractive',\n",
              "                                                     [key], {});\n",
              "          if (!dataTable) return;\n",
              "\n",
              "          const docLinkHtml = 'Like what you see? Visit the ' +\n",
              "            '<a target=\"_blank\" href=https://colab.research.google.com/notebooks/data_table.ipynb>data table notebook</a>'\n",
              "            + ' to learn more about interactive tables.';\n",
              "          element.innerHTML = '';\n",
              "          dataTable['output_type'] = 'display_data';\n",
              "          await google.colab.output.renderOutput(dataTable, element);\n",
              "          const docLink = document.createElement('div');\n",
              "          docLink.innerHTML = docLinkHtml;\n",
              "          element.appendChild(docLink);\n",
              "        }\n",
              "      </script>\n",
              "    </div>\n",
              "  </div>\n",
              "  "
            ]
          },
          "metadata": {},
          "execution_count": 18
        }
      ]
    },
    {
      "cell_type": "code",
      "source": [
        "plt.figure(figsize=(12,7))\n",
        "color = ['red','yellow','purple','orange','green','blue']\n",
        "ax = sns.barplot(x=df_cont['Continent'],y=df_cont['Death percentage'].round(2),palette=color)\n",
        "ax.set_title('Death Percentage Vs Continent')\n",
        "#ax.legend (fontsize= 10, bbox_to_anchor=(1.1, 0.5))\n",
        "ax.xaxis.set_tick_params(labelsize=10)\n",
        "ax.axes.get_yaxis().set_visible(False)\n",
        "ax.spines['right'].set_visible(False)\n",
        "ax.spines['left'].set_visible(False)\n",
        "ax.spines['top'].set_visible(False)\n",
        "for rect in ax.patches:\n",
        "        height = rect.get_height()\n",
        "        ax.text(rect.get_x() + rect.get_width() / 2, height + 1, \n",
        "                str(height), ha='center', va='bottom', fontsize = 10)"
      ],
      "metadata": {
        "colab": {
          "base_uri": "https://localhost:8080/",
          "height": 458
        },
        "id": "PLuvmJ4tlTnV",
        "outputId": "ba307dbd-016f-48a1-ef00-a692f60809b0"
      },
      "execution_count": 32,
      "outputs": [
        {
          "output_type": "display_data",
          "data": {
            "text/plain": [
              "<Figure size 864x504 with 1 Axes>"
            ],
            "image/png": "[encoded data removed]"
          },
          "metadata": {
            "needs_background": "light"
          }
        }
      ]
    },
    {
      "cell_type": "code",
      "source": [
        ""
      ],
      "metadata": {
        "id": "JV0kDGzUqpaG"
      },
      "execution_count": 19,
      "outputs": []
    }
  ]
}