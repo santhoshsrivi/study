{
  "nbformat": 4,
  "nbformat_minor": 5,
  "metadata": {
    "kernelspec": {
      "display_name": "Python 3 (ipykernel)",
      "language": "python",
      "name": "python3"
    },
    "language_info": {
      "codemirror_mode": {
        "name": "ipython",
        "version": 3
      },
      "file_extension": ".py",
      "mimetype": "text/x-python",
      "name": "python",
      "nbconvert_exporter": "python",
      "pygments_lexer": "ipython3",
      "version": "3.8.10"
    },
    "colab": {
      "name": "Crouts (1).ipynb",
      "provenance": [],
      "include_colab_link": true
    }
  },
  "cells": [
    {
      "cell_type": "markdown",
      "metadata": {
        "id": "view-in-github",
        "colab_type": "text"
      },
      "source": [
        "<a href=\"https://colab.research.google.com/github/santhoshsrivi/BITS/blob/main/Crouts_(1).ipynb\" target=\"_parent\"><img src=\"https://colab.research.google.com/assets/colab-badge.svg\" alt=\"Open In Colab\"/></a>"
      ]
    },
    {
      "cell_type": "code",
      "metadata": {
        "id": "fb4d61c4"
      },
      "source": [
        "import numpy as np\n",
        "import time\n",
        "from tqdm import tqdm"
      ],
      "id": "fb4d61c4",
      "execution_count": null,
      "outputs": []
    },
    {
      "cell_type": "code",
      "metadata": {
        "id": "cb371d72"
      },
      "source": [
        "def lu(A):\n",
        "    \n",
        "    #Get the number of rows\n",
        "    n = A.shape[0]\n",
        "    \n",
        "    U = A.copy()\n",
        "    L = np.eye(n, dtype=np.double)\n",
        "    \n",
        "    #Loop over rows\n",
        "    for i in tqdm(range(n)):\n",
        "            \n",
        "        #Eliminate entries below i with row operations \n",
        "        #on U and reverse the row operations to \n",
        "        #manipulate L\n",
        "        factor = U[i+1:, i] / U[i, i]\n",
        "        L[i+1:, i] = factor\n",
        "        U[i+1:] -= factor[:, np.newaxis] * U[i]\n",
        "        \n",
        "    return L, U"
      ],
      "id": "cb371d72",
      "execution_count": null,
      "outputs": []
    },
    {
      "cell_type": "code",
      "metadata": {
        "id": "756b4f3f"
      },
      "source": [
        "def forward_elimination(L, b):\n",
        "    \n",
        "    #Get number of rows\n",
        "    n = L.shape[0]\n",
        "    \n",
        "    #Allocating space for the solution vector\n",
        "    y = np.zeros_like(b, dtype=np.double);\n",
        "    \n",
        "    #Here we perform the forward-substitution.  \n",
        "    #Initializing  with the first row.\n",
        "    y[0] = b[0] / L[0, 0]\n",
        "    \n",
        "    #Looping over rows in reverse (from the bottom  up),\n",
        "    #starting with the second to last row, because  the \n",
        "    #last row solve was completed in the last step.\n",
        "    for i in tqdm(range(1, n)):\n",
        "        y[i] = (b[i] - np.dot(L[i,:i], y[:i])) / L[i,i]\n",
        "        \n",
        "    return y"
      ],
      "id": "756b4f3f",
      "execution_count": null,
      "outputs": []
    },
    {
      "cell_type": "code",
      "metadata": {
        "id": "d884a5a0"
      },
      "source": [
        "def back_substitution(U, y):\n",
        "    \n",
        "    #Number of rows\n",
        "    n = U.shape[0]\n",
        "    \n",
        "    #Allocating space for the solution vector\n",
        "    x = np.zeros_like(y, dtype=np.double);\n",
        "\n",
        "    #Here we perform the back-substitution.  \n",
        "    #Initializing with the last row.\n",
        "    x[-1] = y[-1] / U[-1, -1]\n",
        "    \n",
        "    #Looping over rows in reverse (from the bottom up), \n",
        "    #starting with the second to last row, because the \n",
        "    #last row solve was completed in the last step.\n",
        "    for i in tqdm(range(n-2, -1, -1)):\n",
        "        x[i] = (y[i] - np.dot(U[i,i:], x[i:])) / U[i,i]\n",
        "        \n",
        "    return x"
      ],
      "id": "d884a5a0",
      "execution_count": null,
      "outputs": []
    },
    {
      "cell_type": "code",
      "metadata": {
        "id": "058f2bb3"
      },
      "source": [
        "def lu_solve(A, b):\n",
        "    start_lu = time.time()\n",
        "    L, U = lu(A)\n",
        "    print(f\"Time taken for Decomposition  {time.time() - start_lu}\")\n",
        "    start_forward_elimination = time.time()\n",
        "    y = forward_elimination(L, b)\n",
        "    print (f\"solve time for forward  {time.time()-start_forward_elimination}\")\n",
        "    solve_backward_substitution = time.time()\n",
        "    z = back_substitution(U, y)\n",
        "    print (f\"solve time for backword substituion  {time.time() - solve_backward_substitution}\")\n",
        "    return z"
      ],
      "id": "058f2bb3",
      "execution_count": null,
      "outputs": []
    },
    {
      "cell_type": "code",
      "metadata": {
        "colab": {
          "base_uri": "https://localhost:8080/"
        },
        "id": "3e015904",
        "outputId": "c5172a46-fc4e-4f74-bcd5-0541656a3958"
      },
      "source": [
        "if __name__ == \"__main__\":\n",
        "    n = 1000\n",
        "    print (\"Matrix size\",n)\n",
        "    A = np.round(np.random.random((n,n)),4)\n",
        "    xe = np.random.random(n)\n",
        "    b = np.dot(A,xe)\n",
        "    solve_start = time.time()\n",
        "    x=lu_solve(A,b)\n",
        "    print (\"solve time \",str(time.time()-solve_start))"
      ],
      "id": "3e015904",
      "execution_count": null,
      "outputs": [
        {
          "output_type": "stream",
          "name": "stdout",
          "text": [
            "Matrix size 1000\n"
          ]
        },
        {
          "output_type": "stream",
          "name": "stderr",
          "text": [
            "100%|██████████| 1000/1000 [00:01<00:00, 945.03it/s]\n"
          ]
        },
        {
          "output_type": "stream",
          "name": "stdout",
          "text": [
            "Time taken for Decomposition  1.0864295959472656\n"
          ]
        },
        {
          "output_type": "stream",
          "name": "stderr",
          "text": [
            "100%|██████████| 999/999 [00:00<00:00, 175391.78it/s]\n"
          ]
        },
        {
          "output_type": "stream",
          "name": "stdout",
          "text": [
            "solve time for forward  0.01798272132873535\n"
          ]
        },
        {
          "output_type": "stream",
          "name": "stderr",
          "text": [
            "100%|██████████| 999/999 [00:00<00:00, 131039.21it/s]"
          ]
        },
        {
          "output_type": "stream",
          "name": "stdout",
          "text": [
            "solve time for backword substituion  0.015813827514648438\n",
            "solve time  1.120920181274414\n"
          ]
        },
        {
          "output_type": "stream",
          "name": "stderr",
          "text": [
            "\n"
          ]
        }
      ]
    },
    {
      "cell_type": "code",
      "metadata": {
        "colab": {
          "base_uri": "https://localhost:8080/"
        },
        "id": "7d71b6ff",
        "outputId": "f3c55218-31df-467f-cdee-6cc4cc5f8c55"
      },
      "source": [
        "#As per operations count formula:\n",
        "for n in  np.arange(start=50, stop=1001, step=50):\n",
        "    print(f'Matrix Size {n}')\n",
        "    print(f'Time taken for Decomposition:{(abs((n**3/n)-(n**3/3)))*10**-9}')"
      ],
      "id": "7d71b6ff",
      "execution_count": null,
      "outputs": [
        {
          "output_type": "stream",
          "name": "stdout",
          "text": [
            "Matrix Size 50\n",
            "Time taken for Decomposition:3.9166666666666665e-05\n",
            "Matrix Size 100\n",
            "Time taken for Decomposition:0.00032333333333333335\n",
            "Matrix Size 150\n",
            "Time taken for Decomposition:0.0011025\n",
            "Matrix Size 200\n",
            "Time taken for Decomposition:0.0026266666666666665\n",
            "Matrix Size 250\n",
            "Time taken for Decomposition:0.005145833333333333\n",
            "Matrix Size 300\n",
            "Time taken for Decomposition:0.008910000000000001\n",
            "Matrix Size 350\n",
            "Time taken for Decomposition:0.014169166666666667\n",
            "Matrix Size 400\n",
            "Time taken for Decomposition:0.021173333333333332\n",
            "Matrix Size 450\n",
            "Time taken for Decomposition:0.0301725\n",
            "Matrix Size 500\n",
            "Time taken for Decomposition:0.041416666666666664\n",
            "Matrix Size 550\n",
            "Time taken for Decomposition:0.05515583333333334\n",
            "Matrix Size 600\n",
            "Time taken for Decomposition:0.07164000000000001\n",
            "Matrix Size 650\n",
            "Time taken for Decomposition:0.09111916666666668\n",
            "Matrix Size 700\n",
            "Time taken for Decomposition:0.11384333333333334\n",
            "Matrix Size 750\n",
            "Time taken for Decomposition:0.1400625\n",
            "Matrix Size 800\n",
            "Time taken for Decomposition:0.17002666666666666\n",
            "Matrix Size 850\n",
            "Time taken for Decomposition:0.20398583333333337\n",
            "Matrix Size 900\n",
            "Time taken for Decomposition:0.24219000000000002\n",
            "Matrix Size 950\n",
            "Time taken for Decomposition:0.2848891666666667\n",
            "Matrix Size 1000\n",
            "Time taken for Decomposition:0.3323333333333333\n"
          ]
        }
      ]
    },
    {
      "cell_type": "code",
      "metadata": {
        "colab": {
          "base_uri": "https://localhost:8080/"
        },
        "id": "bce65135",
        "outputId": "da6f5d44-df1a-485f-f8db-77c800227a1c"
      },
      "source": [
        "start = time.time()\n",
        "a = 5*5\n",
        "print(f'Time Taken{time.time() - start}')"
      ],
      "id": "bce65135",
      "execution_count": null,
      "outputs": [
        {
          "output_type": "stream",
          "name": "stdout",
          "text": [
            "Time Taken0.00010418891906738281\n"
          ]
        }
      ]
    },
    {
      "cell_type": "code",
      "metadata": {
        "colab": {
          "base_uri": "https://localhost:8080/"
        },
        "id": "2f9c3d86",
        "outputId": "0d9d93a1-86d2-46fe-9e53-644a0794ff43"
      },
      "source": [
        "start = time.time()\n",
        "a = 5+5\n",
        "print(f'Time Taken{time.time() - start}')"
      ],
      "id": "2f9c3d86",
      "execution_count": null,
      "outputs": [
        {
          "output_type": "stream",
          "name": "stdout",
          "text": [
            "Time Taken9.107589721679688e-05\n"
          ]
        }
      ]
    },
    {
      "cell_type": "code",
      "metadata": {
        "colab": {
          "base_uri": "https://localhost:8080/"
        },
        "id": "980a78ba",
        "outputId": "52fe7a16-3b42-4e5c-97d5-91cdaaf530fc"
      },
      "source": [
        "start = time.time()\n",
        "a = 5-5\n",
        "print(f'Time Taken{time.time() - start}')"
      ],
      "id": "980a78ba",
      "execution_count": null,
      "outputs": [
        {
          "output_type": "stream",
          "name": "stdout",
          "text": [
            "Time Taken0.0005674362182617188\n"
          ]
        }
      ]
    },
    {
      "cell_type": "code",
      "metadata": {
        "colab": {
          "base_uri": "https://localhost:8080/"
        },
        "id": "444b4bde",
        "outputId": "1593cfce-6b1d-4745-8387-b01c7718d5ad"
      },
      "source": [
        "start = time.time()\n",
        "a = 5/5\n",
        "print(f'Time Taken{time.time() - start}')"
      ],
      "id": "444b4bde",
      "execution_count": null,
      "outputs": [
        {
          "output_type": "stream",
          "name": "stdout",
          "text": [
            "Time Taken9.965896606445312e-05\n"
          ]
        }
      ]
    },
    {
      "cell_type": "code",
      "metadata": {
        "colab": {
          "base_uri": "https://localhost:8080/"
        },
        "id": "36923934",
        "outputId": "e429e9f3-a627-48ec-bd6e-941a26d0504f"
      },
      "source": [
        "(((1000**3)/2) - ((1000**3)/3)) * 10**-9"
      ],
      "id": "36923934",
      "execution_count": null,
      "outputs": [
        {
          "output_type": "execute_result",
          "data": {
            "text/plain": [
              "0.16666666666666669"
            ]
          },
          "metadata": {},
          "execution_count": 13
        }
      ]
    },
    {
      "cell_type": "code",
      "metadata": {
        "id": "5daf2c74"
      },
      "source": [
        ""
      ],
      "id": "5daf2c74",
      "execution_count": null,
      "outputs": []
    }
  ]
}