{
  "nbformat": 4,
  "nbformat_minor": 0,
  "metadata": {
    "colab": {
      "provenance": [],
      "authorship_tag": "ABX9TyPvxAawT8/Ez1/o8IsuxMMg",
      "include_colab_link": true
    },
    "kernelspec": {
      "name": "python3",
      "display_name": "Python 3"
    },
    "language_info": {
      "name": "python"
    }
  },
  "cells": [
    {
      "cell_type": "markdown",
      "metadata": {
        "id": "view-in-github",
        "colab_type": "text"
      },
      "source": [
        "<a href=\"https://colab.research.google.com/github/santhoshsrivi/study/blob/main/Advanced_statistical_analysis.ipynb\" target=\"_parent\"><img src=\"https://colab.research.google.com/assets/colab-badge.svg\" alt=\"Open In Colab\"/></a>"
      ]
    },
    {
      "cell_type": "markdown",
      "source": [
        "**Business Problem**"
      ],
      "metadata": {
        "id": "DvfH6eCTKq2T"
      }
    },
    {
      "cell_type": "markdown",
      "source": [
        "A Marketing Organization outsources their back-office operations to three diffrenet suppliers. The contracts are up for renewal and CMO wants to determine whether they should renew contracts with all suppliers or any specific suppliers. CMO want to renew the contract of suppliers with the least transaction time. CMO will renew all contarcts if the performance of all suppliers is similar"
      ],
      "metadata": {
        "id": "SOMCYchIKxnH"
      }
    },
    {
      "cell_type": "code",
      "execution_count": 1,
      "metadata": {
        "id": "hwf1Zs2fE2fE"
      },
      "outputs": [],
      "source": [
        "! mkdir ~/.kaggle"
      ]
    },
    {
      "cell_type": "code",
      "source": [
        "from google.colab import files\n",
        "files.upload()"
      ],
      "metadata": {
        "colab": {
          "base_uri": "https://localhost:8080/",
          "height": 90
        },
        "id": "bb-z0rljFS2p",
        "outputId": "1ed28109-b2c5-4810-d4de-22aad07f1c3f"
      },
      "execution_count": 2,
      "outputs": [
        {
          "output_type": "display_data",
          "data": {
            "text/plain": [
              "<IPython.core.display.HTML object>"
            ],
            "text/html": [
              "\n",
              "     <input type=\"file\" id=\"files-9a79a57e-8a2e-43a8-b16d-b7815f364138\" name=\"files[]\" multiple disabled\n",
              "        style=\"border:none\" />\n",
              "     <output id=\"result-9a79a57e-8a2e-43a8-b16d-b7815f364138\">\n",
              "      Upload widget is only available when the cell has been executed in the\n",
              "      current browser session. Please rerun this cell to enable.\n",
              "      </output>\n",
              "      <script>// Copyright 2017 Google LLC\n",
              "//\n",
              "// Licensed under the Apache License, Version 2.0 (the \"License\");\n",
              "// you may not use this file except in compliance with the License.\n",
              "// You may obtain a copy of the License at\n",
              "//\n",
              "//      http://www.apache.org/licenses/LICENSE-2.0\n",
              "//\n",
              "// Unless required by applicable law or agreed to in writing, software\n",
              "// distributed under the License is distributed on an \"AS IS\" BASIS,\n",
              "// WITHOUT WARRANTIES OR CONDITIONS OF ANY KIND, either express or implied.\n",
              "// See the License for the specific language governing permissions and\n",
              "// limitations under the License.\n",
              "\n",
              "/**\n",
              " * @fileoverview Helpers for google.colab Python module.\n",
              " */\n",
              "(function(scope) {\n",
              "function span(text, styleAttributes = {}) {\n",
              "  const element = document.createElement('span');\n",
              "  element.textContent = text;\n",
              "  for (const key of Object.keys(styleAttributes)) {\n",
              "    element.style[key] = styleAttributes[key];\n",
              "  }\n",
              "  return element;\n",
              "}\n",
              "\n",
              "// Max number of bytes which will be uploaded at a time.\n",
              "const MAX_PAYLOAD_SIZE = 100 * 1024;\n",
              "\n",
              "function _uploadFiles(inputId, outputId) {\n",
              "  const steps = uploadFilesStep(inputId, outputId);\n",
              "  const outputElement = document.getElementById(outputId);\n",
              "  // Cache steps on the outputElement to make it available for the next call\n",
              "  // to uploadFilesContinue from Python.\n",
              "  outputElement.steps = steps;\n",
              "\n",
              "  return _uploadFilesContinue(outputId);\n",
              "}\n",
              "\n",
              "// This is roughly an async generator (not supported in the browser yet),\n",
              "// where there are multiple asynchronous steps and the Python side is going\n",
              "// to poll for completion of each step.\n",
              "// This uses a Promise to block the python side on completion of each step,\n",
              "// then passes the result of the previous step as the input to the next step.\n",
              "function _uploadFilesContinue(outputId) {\n",
              "  const outputElement = document.getElementById(outputId);\n",
              "  const steps = outputElement.steps;\n",
              "\n",
              "  const next = steps.next(outputElement.lastPromiseValue);\n",
              "  return Promise.resolve(next.value.promise).then((value) => {\n",
              "    // Cache the last promise value to make it available to the next\n",
              "    // step of the generator.\n",
              "    outputElement.lastPromiseValue = value;\n",
              "    return next.value.response;\n",
              "  });\n",
              "}\n",
              "\n",
              "/**\n",
              " * Generator function which is called between each async step of the upload\n",
              " * process.\n",
              " * @param {string} inputId Element ID of the input file picker element.\n",
              " * @param {string} outputId Element ID of the output display.\n",
              " * @return {!Iterable<!Object>} Iterable of next steps.\n",
              " */\n",
              "function* uploadFilesStep(inputId, outputId) {\n",
              "  const inputElement = document.getElementById(inputId);\n",
              "  inputElement.disabled = false;\n",
              "\n",
              "  const outputElement = document.getElementById(outputId);\n",
              "  outputElement.innerHTML = '';\n",
              "\n",
              "  const pickedPromise = new Promise((resolve) => {\n",
              "    inputElement.addEventListener('change', (e) => {\n",
              "      resolve(e.target.files);\n",
              "    });\n",
              "  });\n",
              "\n",
              "  const cancel = document.createElement('button');\n",
              "  inputElement.parentElement.appendChild(cancel);\n",
              "  cancel.textContent = 'Cancel upload';\n",
              "  const cancelPromise = new Promise((resolve) => {\n",
              "    cancel.onclick = () => {\n",
              "      resolve(null);\n",
              "    };\n",
              "  });\n",
              "\n",
              "  // Wait for the user to pick the files.\n",
              "  const files = yield {\n",
              "    promise: Promise.race([pickedPromise, cancelPromise]),\n",
              "    response: {\n",
              "      action: 'starting',\n",
              "    }\n",
              "  };\n",
              "\n",
              "  cancel.remove();\n",
              "\n",
              "  // Disable the input element since further picks are not allowed.\n",
              "  inputElement.disabled = true;\n",
              "\n",
              "  if (!files) {\n",
              "    return {\n",
              "      response: {\n",
              "        action: 'complete',\n",
              "      }\n",
              "    };\n",
              "  }\n",
              "\n",
              "  for (const file of files) {\n",
              "    const li = document.createElement('li');\n",
              "    li.append(span(file.name, {fontWeight: 'bold'}));\n",
              "    li.append(span(\n",
              "        `(${file.type || 'n/a'}) - ${file.size} bytes, ` +\n",
              "        `last modified: ${\n",
              "            file.lastModifiedDate ? file.lastModifiedDate.toLocaleDateString() :\n",
              "                                    'n/a'} - `));\n",
              "    const percent = span('0% done');\n",
              "    li.appendChild(percent);\n",
              "\n",
              "    outputElement.appendChild(li);\n",
              "\n",
              "    const fileDataPromise = new Promise((resolve) => {\n",
              "      const reader = new FileReader();\n",
              "      reader.onload = (e) => {\n",
              "        resolve(e.target.result);\n",
              "      };\n",
              "      reader.readAsArrayBuffer(file);\n",
              "    });\n",
              "    // Wait for the data to be ready.\n",
              "    let fileData = yield {\n",
              "      promise: fileDataPromise,\n",
              "      response: {\n",
              "        action: 'continue',\n",
              "      }\n",
              "    };\n",
              "\n",
              "    // Use a chunked sending to avoid message size limits. See b/62115660.\n",
              "    let position = 0;\n",
              "    do {\n",
              "      const length = Math.min(fileData.byteLength - position, MAX_PAYLOAD_SIZE);\n",
              "      const chunk = new Uint8Array(fileData, position, length);\n",
              "      position += length;\n",
              "\n",
              "      const base64 = btoa(String.fromCharCode.apply(null, chunk));\n",
              "      yield {\n",
              "        response: {\n",
              "          action: 'append',\n",
              "          file: file.name,\n",
              "          data: base64,\n",
              "        },\n",
              "      };\n",
              "\n",
              "      let percentDone = fileData.byteLength === 0 ?\n",
              "          100 :\n",
              "          Math.round((position / fileData.byteLength) * 100);\n",
              "      percent.textContent = `${percentDone}% done`;\n",
              "\n",
              "    } while (position < fileData.byteLength);\n",
              "  }\n",
              "\n",
              "  // All done.\n",
              "  yield {\n",
              "    response: {\n",
              "      action: 'complete',\n",
              "    }\n",
              "  };\n",
              "}\n",
              "\n",
              "scope.google = scope.google || {};\n",
              "scope.google.colab = scope.google.colab || {};\n",
              "scope.google.colab._files = {\n",
              "  _uploadFiles,\n",
              "  _uploadFilesContinue,\n",
              "};\n",
              "})(self);\n",
              "</script> "
            ]
          },
          "metadata": {}
        },
        {
          "output_type": "stream",
          "name": "stdout",
          "text": [
            "Saving kaggle.json to kaggle.json\n"
          ]
        },
        {
          "output_type": "execute_result",
          "data": {
            "text/plain": [
              "{'kaggle.json': b'{\"username\":\"alagusantosh\",\"key\":\"134ca1776e74692493140f151cb2885f\"}'}"
            ]
          },
          "metadata": {},
          "execution_count": 2
        }
      ]
    },
    {
      "cell_type": "code",
      "source": [
        "! cp kaggle.json ~/.kaggle/"
      ],
      "metadata": {
        "id": "1f-0Im9GFUoW"
      },
      "execution_count": 3,
      "outputs": []
    },
    {
      "cell_type": "code",
      "source": [
        "! chmod 600 ~/.kaggle/kaggle.json"
      ],
      "metadata": {
        "id": "rIEAXpnQFYyO"
      },
      "execution_count": 4,
      "outputs": []
    },
    {
      "cell_type": "code",
      "source": [
        "! kaggle datasets download -d mdimraniqbal/contract-renewal-hypothesis-testing"
      ],
      "metadata": {
        "colab": {
          "base_uri": "https://localhost:8080/"
        },
        "id": "BcY88OEhFaOs",
        "outputId": "3edc4696-5b35-49dd-8f79-a8c462623ece"
      },
      "execution_count": 5,
      "outputs": [
        {
          "output_type": "stream",
          "name": "stdout",
          "text": [
            "Downloading contract-renewal-hypothesis-testing.zip to /content\n",
            "\r  0% 0.00/8.41k [00:00<?, ?B/s]\n",
            "\r100% 8.41k/8.41k [00:00<00:00, 15.9MB/s]\n"
          ]
        }
      ]
    },
    {
      "cell_type": "code",
      "source": [
        "! unzip /content/contract-renewal-hypothesis-testing.zip"
      ],
      "metadata": {
        "colab": {
          "base_uri": "https://localhost:8080/"
        },
        "id": "t-28lAOrFdSG",
        "outputId": "0ce1b5c4-764d-45ff-edba-8114c759a441"
      },
      "execution_count": 6,
      "outputs": [
        {
          "output_type": "stream",
          "name": "stdout",
          "text": [
            "Archive:  /content/contract-renewal-hypothesis-testing.zip\n",
            "  inflating: ContractRenewal_Data(unstacked).xlsx  \n"
          ]
        }
      ]
    },
    {
      "cell_type": "code",
      "source": [
        "import pandas as pd\n",
        "import numpy as np\n",
        "\n",
        "import matplotlib.pyplot as plt\n",
        "import seaborn as sns\n",
        "\n",
        "import warnings\n",
        "warnings.filterwarnings(\"ignore\")\n",
        "\n",
        "import scipy\n",
        "from scipy import stats"
      ],
      "metadata": {
        "id": "I4TeMCY3Flnk"
      },
      "execution_count": 7,
      "outputs": []
    },
    {
      "cell_type": "code",
      "source": [
        "data = pd.read_excel(\"/content/ContractRenewal_Data(unstacked).xlsx\")\n",
        "data"
      ],
      "metadata": {
        "colab": {
          "base_uri": "https://localhost:8080/",
          "height": 423
        },
        "id": "kOW7jKtmFo8r",
        "outputId": "b50022d4-7ae3-48fa-8163-fc1e23766f9c"
      },
      "execution_count": 9,
      "outputs": [
        {
          "output_type": "execute_result",
          "data": {
            "text/plain": [
              "     Supplier A  Supplier B  Supplier C\n",
              "0          6.15        7.87        7.41\n",
              "1          6.22        5.21        3.61\n",
              "2          6.76        7.94        7.23\n",
              "3          4.29        7.36        5.53\n",
              "4          7.08        6.17        3.97\n",
              "..          ...         ...         ...\n",
              "115        5.85        4.53        4.27\n",
              "116        5.04        8.06        6.39\n",
              "117        5.68        7.14        4.60\n",
              "118        4.77        4.84        6.15\n",
              "119        3.57        4.55        5.28\n",
              "\n",
              "[120 rows x 3 columns]"
            ],
            "text/html": [
              "\n",
              "\n",
              "  <div id=\"df-81cea166-3cf6-4ab1-8d45-9334175f62fb\">\n",
              "    <div class=\"colab-df-container\">\n",
              "      <div>\n",
              "<style scoped>\n",
              "    .dataframe tbody tr th:only-of-type {\n",
              "        vertical-align: middle;\n",
              "    }\n",
              "\n",
              "    .dataframe tbody tr th {\n",
              "        vertical-align: top;\n",
              "    }\n",
              "\n",
              "    .dataframe thead th {\n",
              "        text-align: right;\n",
              "    }\n",
              "</style>\n",
              "<table border=\"1\" class=\"dataframe\">\n",
              "  <thead>\n",
              "    <tr style=\"text-align: right;\">\n",
              "      <th></th>\n",
              "      <th>Supplier A</th>\n",
              "      <th>Supplier B</th>\n",
              "      <th>Supplier C</th>\n",
              "    </tr>\n",
              "  </thead>\n",
              "  <tbody>\n",
              "    <tr>\n",
              "      <th>0</th>\n",
              "      <td>6.15</td>\n",
              "      <td>7.87</td>\n",
              "      <td>7.41</td>\n",
              "    </tr>\n",
              "    <tr>\n",
              "      <th>1</th>\n",
              "      <td>6.22</td>\n",
              "      <td>5.21</td>\n",
              "      <td>3.61</td>\n",
              "    </tr>\n",
              "    <tr>\n",
              "      <th>2</th>\n",
              "      <td>6.76</td>\n",
              "      <td>7.94</td>\n",
              "      <td>7.23</td>\n",
              "    </tr>\n",
              "    <tr>\n",
              "      <th>3</th>\n",
              "      <td>4.29</td>\n",
              "      <td>7.36</td>\n",
              "      <td>5.53</td>\n",
              "    </tr>\n",
              "    <tr>\n",
              "      <th>4</th>\n",
              "      <td>7.08</td>\n",
              "      <td>6.17</td>\n",
              "      <td>3.97</td>\n",
              "    </tr>\n",
              "    <tr>\n",
              "      <th>...</th>\n",
              "      <td>...</td>\n",
              "      <td>...</td>\n",
              "      <td>...</td>\n",
              "    </tr>\n",
              "    <tr>\n",
              "      <th>115</th>\n",
              "      <td>5.85</td>\n",
              "      <td>4.53</td>\n",
              "      <td>4.27</td>\n",
              "    </tr>\n",
              "    <tr>\n",
              "      <th>116</th>\n",
              "      <td>5.04</td>\n",
              "      <td>8.06</td>\n",
              "      <td>6.39</td>\n",
              "    </tr>\n",
              "    <tr>\n",
              "      <th>117</th>\n",
              "      <td>5.68</td>\n",
              "      <td>7.14</td>\n",
              "      <td>4.60</td>\n",
              "    </tr>\n",
              "    <tr>\n",
              "      <th>118</th>\n",
              "      <td>4.77</td>\n",
              "      <td>4.84</td>\n",
              "      <td>6.15</td>\n",
              "    </tr>\n",
              "    <tr>\n",
              "      <th>119</th>\n",
              "      <td>3.57</td>\n",
              "      <td>4.55</td>\n",
              "      <td>5.28</td>\n",
              "    </tr>\n",
              "  </tbody>\n",
              "</table>\n",
              "<p>120 rows × 3 columns</p>\n",
              "</div>\n",
              "      <button class=\"colab-df-convert\" onclick=\"convertToInteractive('df-81cea166-3cf6-4ab1-8d45-9334175f62fb')\"\n",
              "              title=\"Convert this dataframe to an interactive table.\"\n",
              "              style=\"display:none;\">\n",
              "\n",
              "  <svg xmlns=\"http://www.w3.org/2000/svg\" height=\"24px\"viewBox=\"0 0 24 24\"\n",
              "       width=\"24px\">\n",
              "    <path d=\"M0 0h24v24H0V0z\" fill=\"none\"/>\n",
              "    <path d=\"M18.56 5.44l.94 2.06.94-2.06 2.06-.94-2.06-.94-.94-2.06-.94 2.06-2.06.94zm-11 1L8.5 8.5l.94-2.06 2.06-.94-2.06-.94L8.5 2.5l-.94 2.06-2.06.94zm10 10l.94 2.06.94-2.06 2.06-.94-2.06-.94-.94-2.06-.94 2.06-2.06.94z\"/><path d=\"M17.41 7.96l-1.37-1.37c-.4-.4-.92-.59-1.43-.59-.52 0-1.04.2-1.43.59L10.3 9.45l-7.72 7.72c-.78.78-.78 2.05 0 2.83L4 21.41c.39.39.9.59 1.41.59.51 0 1.02-.2 1.41-.59l7.78-7.78 2.81-2.81c.8-.78.8-2.07 0-2.86zM5.41 20L4 18.59l7.72-7.72 1.47 1.35L5.41 20z\"/>\n",
              "  </svg>\n",
              "      </button>\n",
              "\n",
              "\n",
              "\n",
              "    <div id=\"df-079fb6ac-fe80-4caf-8a2f-1b025ff43b5d\">\n",
              "      <button class=\"colab-df-quickchart\" onclick=\"quickchart('df-079fb6ac-fe80-4caf-8a2f-1b025ff43b5d')\"\n",
              "              title=\"Suggest charts.\"\n",
              "              style=\"display:none;\">\n",
              "\n",
              "<svg xmlns=\"http://www.w3.org/2000/svg\" height=\"24px\"viewBox=\"0 0 24 24\"\n",
              "     width=\"24px\">\n",
              "    <g>\n",
              "        <path d=\"M19 3H5c-1.1 0-2 .9-2 2v14c0 1.1.9 2 2 2h14c1.1 0 2-.9 2-2V5c0-1.1-.9-2-2-2zM9 17H7v-7h2v7zm4 0h-2V7h2v10zm4 0h-2v-4h2v4z\"/>\n",
              "    </g>\n",
              "</svg>\n",
              "      </button>\n",
              "    </div>\n",
              "\n",
              "<style>\n",
              "  .colab-df-quickchart {\n",
              "    background-color: #E8F0FE;\n",
              "    border: none;\n",
              "    border-radius: 50%;\n",
              "    cursor: pointer;\n",
              "    display: none;\n",
              "    fill: #1967D2;\n",
              "    height: 32px;\n",
              "    padding: 0 0 0 0;\n",
              "    width: 32px;\n",
              "  }\n",
              "\n",
              "  .colab-df-quickchart:hover {\n",
              "    background-color: #E2EBFA;\n",
              "    box-shadow: 0px 1px 2px rgba(60, 64, 67, 0.3), 0px 1px 3px 1px rgba(60, 64, 67, 0.15);\n",
              "    fill: #174EA6;\n",
              "  }\n",
              "\n",
              "  [theme=dark] .colab-df-quickchart {\n",
              "    background-color: #3B4455;\n",
              "    fill: #D2E3FC;\n",
              "  }\n",
              "\n",
              "  [theme=dark] .colab-df-quickchart:hover {\n",
              "    background-color: #434B5C;\n",
              "    box-shadow: 0px 1px 3px 1px rgba(0, 0, 0, 0.15);\n",
              "    filter: drop-shadow(0px 1px 2px rgba(0, 0, 0, 0.3));\n",
              "    fill: #FFFFFF;\n",
              "  }\n",
              "</style>\n",
              "\n",
              "    <script>\n",
              "      async function quickchart(key) {\n",
              "        const containerElement = document.querySelector('#' + key);\n",
              "        const charts = await google.colab.kernel.invokeFunction(\n",
              "            'suggestCharts', [key], {});\n",
              "      }\n",
              "    </script>\n",
              "\n",
              "      <script>\n",
              "\n",
              "function displayQuickchartButton(domScope) {\n",
              "  let quickchartButtonEl =\n",
              "    domScope.querySelector('#df-079fb6ac-fe80-4caf-8a2f-1b025ff43b5d button.colab-df-quickchart');\n",
              "  quickchartButtonEl.style.display =\n",
              "    google.colab.kernel.accessAllowed ? 'block' : 'none';\n",
              "}\n",
              "\n",
              "        displayQuickchartButton(document);\n",
              "      </script>\n",
              "      <style>\n",
              "    .colab-df-container {\n",
              "      display:flex;\n",
              "      flex-wrap:wrap;\n",
              "      gap: 12px;\n",
              "    }\n",
              "\n",
              "    .colab-df-convert {\n",
              "      background-color: #E8F0FE;\n",
              "      border: none;\n",
              "      border-radius: 50%;\n",
              "      cursor: pointer;\n",
              "      display: none;\n",
              "      fill: #1967D2;\n",
              "      height: 32px;\n",
              "      padding: 0 0 0 0;\n",
              "      width: 32px;\n",
              "    }\n",
              "\n",
              "    .colab-df-convert:hover {\n",
              "      background-color: #E2EBFA;\n",
              "      box-shadow: 0px 1px 2px rgba(60, 64, 67, 0.3), 0px 1px 3px 1px rgba(60, 64, 67, 0.15);\n",
              "      fill: #174EA6;\n",
              "    }\n",
              "\n",
              "    [theme=dark] .colab-df-convert {\n",
              "      background-color: #3B4455;\n",
              "      fill: #D2E3FC;\n",
              "    }\n",
              "\n",
              "    [theme=dark] .colab-df-convert:hover {\n",
              "      background-color: #434B5C;\n",
              "      box-shadow: 0px 1px 3px 1px rgba(0, 0, 0, 0.15);\n",
              "      filter: drop-shadow(0px 1px 2px rgba(0, 0, 0, 0.3));\n",
              "      fill: #FFFFFF;\n",
              "    }\n",
              "  </style>\n",
              "\n",
              "      <script>\n",
              "        const buttonEl =\n",
              "          document.querySelector('#df-81cea166-3cf6-4ab1-8d45-9334175f62fb button.colab-df-convert');\n",
              "        buttonEl.style.display =\n",
              "          google.colab.kernel.accessAllowed ? 'block' : 'none';\n",
              "\n",
              "        async function convertToInteractive(key) {\n",
              "          const element = document.querySelector('#df-81cea166-3cf6-4ab1-8d45-9334175f62fb');\n",
              "          const dataTable =\n",
              "            await google.colab.kernel.invokeFunction('convertToInteractive',\n",
              "                                                     [key], {});\n",
              "          if (!dataTable) return;\n",
              "\n",
              "          const docLinkHtml = 'Like what you see? Visit the ' +\n",
              "            '<a target=\"_blank\" href=https://colab.research.google.com/notebooks/data_table.ipynb>data table notebook</a>'\n",
              "            + ' to learn more about interactive tables.';\n",
              "          element.innerHTML = '';\n",
              "          dataTable['output_type'] = 'display_data';\n",
              "          await google.colab.output.renderOutput(dataTable, element);\n",
              "          const docLink = document.createElement('div');\n",
              "          docLink.innerHTML = docLinkHtml;\n",
              "          element.appendChild(docLink);\n",
              "        }\n",
              "      </script>\n",
              "    </div>\n",
              "  </div>\n"
            ]
          },
          "metadata": {},
          "execution_count": 9
        }
      ]
    },
    {
      "cell_type": "markdown",
      "source": [
        "To fulfill the requirements wheather performance of suppliers is similar or not, we do some Statistical Operation called Hypothesis-testing here.\n",
        "\n",
        "In chain of Statistical Operation we do:\n",
        "\n",
        "-->1st Normality check to see if the given data is Normal or Not.\n",
        "\n",
        "-->2nd Variance check to see if variation is present in given data or Not\n",
        "\n",
        "-->3rd One way ANOVA Test to see if the performance of suppliers is similar to each other or not"
      ],
      "metadata": {
        "id": "xEDb2oYOF9Sz"
      }
    },
    {
      "cell_type": "markdown",
      "source": [
        "1) Normality check: To doing this Our Assumption for Normality Check is,\n",
        "\n",
        "H0 = Data Is Normal,\n",
        "\n",
        "H1 = Data is Not-Normal.\n",
        "\n",
        "To achive this Assumption we take help of \"shapiro\" from bucket of \"scipy.stats\" library of pyhton."
      ],
      "metadata": {
        "id": "D4X5KfgaGUo-"
      }
    },
    {
      "cell_type": "markdown",
      "source": [
        "Variance check: Our Assumption for Varinace Check is,\n",
        "\n",
        "H0 = there is no significant difference in the variability or spread of the data among the different groups.\n",
        "\n",
        "H1 = there is a significant difference in the variability or spread of the data among the different groups.\n",
        "\n",
        "To achive this Assumption we take help of \"levene\" from bucket of \"scipy.stats\" library of pyhton.\n",
        "\n",
        "Levene’s test is used to assess the equality of variance between two different samples. For every case, it calculates the absolute difference between the value of that case and its cell mean."
      ],
      "metadata": {
        "id": "xTHcLHUJHqxd"
      }
    },
    {
      "cell_type": "markdown",
      "source": [
        " One way ANOVA: TAssumption for performance of suppliers is,\n",
        "\n",
        " H0 = Performance of all suppliers is equal to each other\n",
        "\n",
        " H1 = Performance of all suppliers is not equal to each other.\n",
        "\n",
        " For this test we take help of \"f_oneway\" from bucket of \"scipy.stats\" library of pyhton\n",
        "\n",
        "The one-way ANOVA tests the null hypothesis that two or more groups have the same population mean. The test is applied to samples from two or more groups, possibly with differing sizes\n",
        "\n",
        "Here we check only p value(Probability value) for every test\n",
        "\n",
        "Probability value (p value) > 0.05, it means Assumption H0 is exist (Accept Null Hypothesis (H0) / Reject Alternate Hypothesis (H1))\n",
        "\n",
        "Probability value (p value) < 0.05, it means Assumption H1 is exist ( Accept Alternate Hypothesis (H1) / Reject Null Hypothesis (H0))\n",
        "\n"
      ],
      "metadata": {
        "id": "348aBsCYJsSw"
      }
    },
    {
      "cell_type": "markdown",
      "source": [
        "**Normality test**"
      ],
      "metadata": {
        "id": "xPCTQGZnJ9yl"
      }
    },
    {
      "cell_type": "code",
      "source": [
        "plt.figure(figsize = (9,4))\n",
        "\n",
        "plt.subplot(1,3,1)\n",
        "sns.distplot(data[\"Supplier A\"], kde_kws = {\"color\":\"r\", \"lw\":3})\n",
        "\n",
        "plt.subplot(1,3,2)\n",
        "sns.distplot(data[\"Supplier B\"], kde_kws = {\"color\":\"r\", \"lw\":3})\n",
        "\n",
        "plt.subplot(1,3,3)\n",
        "sns.distplot(data[\"Supplier C\"], kde_kws = {\"color\":\"r\", \"lw\":3})\n",
        "\n",
        "plt.tight_layout()\n",
        "plt.show()"
      ],
      "metadata": {
        "colab": {
          "base_uri": "https://localhost:8080/",
          "height": 407
        },
        "id": "B_l3OOTxFt6n",
        "outputId": "5deddae9-dc07-438f-e7a9-4908559c35fc"
      },
      "execution_count": 10,
      "outputs": [
        {
          "output_type": "display_data",
          "data": {
            "text/plain": [
              "<Figure size 900x400 with 3 Axes>"
            ],
            "image/png": "[encoded data removed]"
          },
          "metadata": {}
        }
      ]
    },
    {
      "cell_type": "code",
      "source": [
        "plt.figure(figsize = (9,4))\n",
        "\n",
        "plt.subplot(1,3,1)\n",
        "stats.probplot(data[\"Supplier A\"], dist = \"norm\", plot = plt)\n",
        "plt.ylabel(\"Supplier A\")\n",
        "\n",
        "plt.subplot(1,3,2)\n",
        "stats.probplot(data[\"Supplier B\"], dist = \"norm\", plot = plt)\n",
        "plt.ylabel(\"Supplier B\")\n",
        "\n",
        "plt.subplot(1,3,3)\n",
        "stats.probplot(data[\"Supplier C\"], dist = \"norm\", plot = plt)\n",
        "plt.ylabel(\"Supplier C\")\n",
        "\n",
        "plt.tight_layout()\n",
        "plt.show()"
      ],
      "metadata": {
        "colab": {
          "base_uri": "https://localhost:8080/",
          "height": 407
        },
        "id": "WhOPF5nrKARv",
        "outputId": "d6b2628b-d407-4c5c-8c35-549c54f7a0e5"
      },
      "execution_count": 11,
      "outputs": [
        {
          "output_type": "display_data",
          "data": {
            "text/plain": [
              "<Figure size 900x400 with 3 Axes>"
            ],
            "image/png": "[encoded data removed]"
          },
          "metadata": {}
        }
      ]
    },
    {
      "cell_type": "code",
      "source": [
        "def normality_check(i):\n",
        "    print(\"{}\".format(i))\n",
        "    shapiro = stats.shapiro(data[i])# Shapiro Test\n",
        "    print(shapiro)\n",
        "    print()\n",
        "    pval = shapiro[1]\n",
        "    alpha = 0.05\n",
        "    if pval < alpha:\n",
        "        print(\"Probability: \", pval)\n",
        "        print(\"REJECT HO Assupmtion / ACCEPT H1 Assumption\")\n",
        "        print(\"Hence, Data is Not-Normal\")\n",
        "\n",
        "    else:\n",
        "        print(\"Probability: \", pval)\n",
        "        print(\"ACCEPT H0 Assupmtion / REJECT H1 Assumption\")\n",
        "        print(\"Hence, Data is Normal\")\n",
        "\n",
        "    print(\"...................................................\")\n",
        "\n",
        "for i in data.columns:\n",
        "    normality_check(i)"
      ],
      "metadata": {
        "colab": {
          "base_uri": "https://localhost:8080/"
        },
        "id": "_TDJWQl7KDVM",
        "outputId": "64cc940b-4433-418a-b637-6442c831161b"
      },
      "execution_count": 12,
      "outputs": [
        {
          "output_type": "stream",
          "name": "stdout",
          "text": [
            "Supplier A\n",
            "ShapiroResult(statistic=0.9940786957740784, pvalue=0.8961992859840393)\n",
            "\n",
            "Probability:  0.8961992859840393\n",
            "ACCEPT H0 Assupmtion / REJECT H1 Assumption\n",
            "Hence, Data is Normal\n",
            "...................................................\n",
            "Supplier B\n",
            "ShapiroResult(statistic=0.9912325143814087, pvalue=0.6483432650566101)\n",
            "\n",
            "Probability:  0.6483432650566101\n",
            "ACCEPT H0 Assupmtion / REJECT H1 Assumption\n",
            "Hence, Data is Normal\n",
            "...................................................\n",
            "Supplier C\n",
            "ShapiroResult(statistic=0.9904158711433411, pvalue=0.5719417929649353)\n",
            "\n",
            "Probability:  0.5719417929649353\n",
            "ACCEPT H0 Assupmtion / REJECT H1 Assumption\n",
            "Hence, Data is Normal\n",
            "...................................................\n"
          ]
        }
      ]
    },
    {
      "cell_type": "markdown",
      "source": [
        "**Variance test**"
      ],
      "metadata": {
        "id": "BCCHjZd0KM4O"
      }
    },
    {
      "cell_type": "code",
      "source": [
        "def variance_check():\n",
        "    print(\"{}\".format(i))\n",
        "    levene = stats.levene(data[\"Supplier A\"], data[\"Supplier B\"], data[\"Supplier C\"])\n",
        "    print(levene)\n",
        "    print()\n",
        "    pval = levene[1]\n",
        "    alpha = 0.05\n",
        "    if pval < alpha:\n",
        "        print(\"Probability: \", pval)\n",
        "        print(\"REJECT HO Assupmtion / ACCEPT H1 Assumption\")\n",
        "        print(\"There is no significant difference in the variability or spread of the data among the different groups\")\n",
        "\n",
        "    else:\n",
        "        print(\"Probability: \", pval)\n",
        "        print(\"ACCEPT H0 Assupmtion / REJECT H1 Assumption\")\n",
        "        print(\"There is a significant difference in the variability or spread of the data among the different groups\")\n",
        "\n",
        "variance_check()"
      ],
      "metadata": {
        "colab": {
          "base_uri": "https://localhost:8080/"
        },
        "id": "_BxIivfjKH_q",
        "outputId": "396a4d33-aad6-47a1-f629-8821540e8b2d"
      },
      "execution_count": 15,
      "outputs": [
        {
          "output_type": "stream",
          "name": "stdout",
          "text": [
            "Supplier C\n",
            "LeveneResult(statistic=0.25183988720942463, pvalue=0.7775071819400866)\n",
            "\n",
            "Probability:  0.7775071819400866\n",
            "ACCEPT H0 Assupmtion / REJECT H1 Assumption\n",
            "There is a significant difference in the variability or spread of the data among the different groups\n"
          ]
        }
      ]
    },
    {
      "cell_type": "markdown",
      "source": [
        "**One way ANOVA**"
      ],
      "metadata": {
        "id": "ROtc9xAjKfLQ"
      }
    },
    {
      "cell_type": "code",
      "source": [
        "def performance_check():\n",
        "    print(\"{}\".format(i))\n",
        "    ANOVA = stats.f_oneway(data[\"Supplier A\"], data[\"Supplier B\"], data[\"Supplier C\"])\n",
        "    print(ANOVA)\n",
        "    print()\n",
        "    pval = ANOVA[1]\n",
        "    alpha = 0.05\n",
        "    if pval < alpha:\n",
        "        print(\"Probability: \", pval)\n",
        "        print(\"REJECT HO Assupmtion / ACCEPT H1 Assumption\")\n",
        "        print(\"Hence, Performance of all suppliers is not similar to each other\")\n",
        "\n",
        "    else:\n",
        "        print(\"Probability: \", pval)\n",
        "        print(\"ACCEPT H0 Assupmtion / REJECT H1 Assumption\")\n",
        "        print(\"Hence, Performance of all suppliers is similar to each other\")\n",
        "\n",
        "performance_check()"
      ],
      "metadata": {
        "colab": {
          "base_uri": "https://localhost:8080/"
        },
        "id": "1QJ9ZM3CKQgQ",
        "outputId": "8b2d3b5c-20cc-472b-abe9-4b0199c3bec9"
      },
      "execution_count": 16,
      "outputs": [
        {
          "output_type": "stream",
          "name": "stdout",
          "text": [
            "Supplier C\n",
            "F_onewayResult(statistic=2.280378701368123, pvalue=0.10373295731933224)\n",
            "\n",
            "Probability:  0.10373295731933224\n",
            "ACCEPT H0 Assupmtion / REJECT H1 Assumption\n",
            "Hence, Performance of all suppliers is similar to each other\n"
          ]
        }
      ]
    },
    {
      "cell_type": "markdown",
      "source": [
        "**Conclusion**"
      ],
      "metadata": {
        "id": "YrGr4p8sK2rC"
      }
    },
    {
      "cell_type": "markdown",
      "source": [
        "Since the performance of all the suppliers are similar to each other the CMO will renew the contracts of all the suppliers"
      ],
      "metadata": {
        "id": "khDdyxSRK4va"
      }
    },
    {
      "cell_type": "code",
      "source": [],
      "metadata": {
        "id": "31EwZ7EnK-qq"
      },
      "execution_count": null,
      "outputs": []
    }
  ]
}