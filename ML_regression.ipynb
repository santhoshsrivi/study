{
  "cells": [
    {
      "cell_type": "markdown",
      "metadata": {
        "id": "view-in-github",
        "colab_type": "text"
      },
      "source": [
        "<a href=\"https://colab.research.google.com/github/santhoshsrivi/BITS/blob/main/ML_regression.ipynb\" target=\"_parent\"><img src=\"https://colab.research.google.com/assets/colab-badge.svg\" alt=\"Open In Colab\"/></a>"
      ]
    },
    {
      "cell_type": "raw",
      "metadata": {
        "id": "NywgtXsyIS2N"
      },
      "source": [
        "In The Below Cell, We are Going to start with importing all the libraries for linear regression. We will primarily use Scikit Learn for building the regression Model. However we will also use the statsmodel package for a statistical summary"
      ]
    },
    {
      "cell_type": "code",
      "execution_count": 1,
      "metadata": {
        "id": "Y-xblIvzIS2O",
        "outputId": "2adfbc8b-225d-4fbc-a519-8a455785078c",
        "colab": {
          "base_uri": "https://localhost:8080/"
        }
      },
      "outputs": [
        {
          "output_type": "stream",
          "name": "stderr",
          "text": [
            "/usr/local/lib/python3.7/dist-packages/statsmodels/tools/_testing.py:19: FutureWarning: pandas.util.testing is deprecated. Use the functions in the public API at pandas.testing instead.\n",
            "  import pandas.util.testing as tm\n"
          ]
        }
      ],
      "source": [
        "import pandas as pd\n",
        "import seaborn as sb\n",
        "from statsmodels.stats.outliers_influence import variance_inflation_factor\n",
        "import numpy as np\n",
        "from scipy.stats import norm\n",
        "from sklearn.preprocessing import MinMaxScaler\n",
        "from sklearn.model_selection import train_test_split\n",
        "from sklearn.linear_model import LinearRegression\n",
        "from sklearn import metrics\n",
        "from sklearn.linear_model import Ridge\n",
        "from sklearn import linear_model\n",
        "import statsmodels.api as sm"
      ]
    },
    {
      "cell_type": "raw",
      "metadata": {
        "id": "Qh2PnisaIS2Q"
      },
      "source": [
        "In the next few cells we will do all the Exploratory data Analysis required for linear regression. This is a critical phase to undersatnd the data and do further pre-processing wherever required "
      ]
    },
    {
      "cell_type": "markdown",
      "metadata": {
        "id": "1X91Q4wRIS2Q"
      },
      "source": [
        "<h1>Data Description</h1>"
      ]
    },
    {
      "cell_type": "raw",
      "metadata": {
        "id": "xp-B1o8fIS2S"
      },
      "source": [
        "f -: Frequency\n",
        "alpha -: Angle of attack\n",
        "c     -: Chord length\n",
        "U_Infinity -: Free Stream velocity\n",
        "delta      -: Suction side displacement thickness\n",
        "SSPL       -: Scaled Sound Pressure Level"
      ]
    },
    {
      "cell_type": "markdown",
      "metadata": {
        "id": "vVdAmG1AIS2S"
      },
      "source": [
        "<h1>EDA</h1>"
      ]
    },
    {
      "cell_type": "raw",
      "metadata": {
        "id": "I4JfMzxvIS2T"
      },
      "source": [
        "Exploratory data analysis is a very important step to understand your data and also to decide what pre-processing needs to be done\n",
        "\n",
        "The typical steps in Exploratory Data Analysis include the follows and have been implemented in the following cells -:\n",
        "\n",
        "1)Checking the first 10 rows just to see if all the columns are read correctly into a dataframe\n",
        "\n",
        "2)Check the number of data samples and the number of features\n",
        "\n",
        "\n",
        "3)Drop the duplicate samples if any since the duplicate samples will not improve the model by any means\n",
        "\n",
        "4)Check the information about the dataset. Here we find out the type of each variable. This helps us decide if we need to do one hot encoding or not\n",
        "\n",
        "5)We describe the dataset to know the mean of each column in the dataset and the spread of each column.  From this we can get a rough idea about the distribution of the dataset. if mean is much greater than median, then the distribution of the column is kind of righ skewed. if on the other hand if mean is much less than the median, then the distribution of the column is likely to be left skewed\n",
        "\n",
        "6)We plot a pair plot which will graph the distribution between each pair of variables\n",
        "\n",
        "7)We use distplot to see the distribution of each variable(in this case we observe that almost all features are right skewed)\n",
        "\n",
        "8)We check if there are any missing values and decide if there is any missing value treatment to be done during data cleaning\n",
        "\n",
        "9)We check to see if there are any outliers in each column. From here we can decide if the outliers need to be handled during Data cleaning step. \n",
        "\n",
        "10)We then plot a heat plot to quantify the co-relation between the features using numbers. \n",
        "   Corelation of 1 means highly positively co-related.\n",
        "   Co-relation of -1 means highly negatively co-related. \n",
        "   Co-relation of 0 means not co-related\n",
        "   \n",
        "   However if we find any 2 variables where co-relation is close to 1 or -1, then in that case one of the variable might be a    candiate for excluding from the model because the other feature alone is anyway conveying the same feature and also including the feature will just increase the computational complexity of the model and also overfitting. However we will not straightly remove any variable without any statistical evidence. During feature selection we will consider the statistical measures like adjusted R squared and p-value to decide if we need to exclude the variable. Becaue if we simply remove randomly the model without a statistical evidence then it might lead to a high bias and high underfitting since we might end up removing a wrong column\n",
        "\n",
        "     \n",
        "\n",
        "11)We use the Variance inflation factor(VIF) to identify any multi-collinearity between features. Sometimes one of the independant feature might be a linear combination of the other features. We really do not require this feature because it will only add to the computational complexity of the model and also it might overfit the model\n",
        "\n",
        "\n",
        "So both of the above steps give us some candidates which we can exclude. This helps in reducing the computational complexity and also avoid overfiting. But however we need a statiscal evidence to exclude the variables without which we migh underfit the model since we may end up removing an important column. Hence we will not remove randomly and rely on the statistical evidence\n",
        "\n"
      ]
    },
    {
      "cell_type": "code",
      "execution_count": 2,
      "metadata": {
        "id": "aVcZEbjkIS2U"
      },
      "outputs": [],
      "source": [
        "#We are reading the dataset into a dataframe by using pandas\n",
        "\n",
        "dataset=pd.read_csv('AirfoilSelfNoise.csv')"
      ]
    },
    {
      "cell_type": "code",
      "execution_count": 3,
      "metadata": {
        "colab": {
          "base_uri": "https://localhost:8080/",
          "height": 363
        },
        "id": "pNzuDiBSIS2V",
        "outputId": "a59aafff-13e7-46b5-8626-66573e5b7999"
      },
      "outputs": [
        {
          "output_type": "execute_result",
          "data": {
            "text/plain": [
              "      f  alpha       c  U_infinity     delta     SSPL\n",
              "0   800    0.0  0.3048        71.3  0.002663  126.201\n",
              "1  1000    0.0  0.3048        71.3  0.002663  125.201\n",
              "2  1250    0.0  0.3048        71.3  0.002663  125.951\n",
              "3  1600    0.0  0.3048        71.3  0.002663  127.591\n",
              "4  2000    0.0  0.3048        71.3  0.002663  127.461\n",
              "5  2500    0.0  0.3048        71.3  0.002663  125.571\n",
              "6  3150    0.0  0.3048        71.3  0.002663  125.201\n",
              "7  4000    0.0  0.3048        71.3  0.002663  123.061\n",
              "8  5000    0.0  0.3048        71.3  0.002663  121.301\n",
              "9  6300    0.0  0.3048        71.3  0.002663  119.541"
            ],
            "text/html": [
              "\n",
              "  <div id=\"df-848e91b7-e884-4255-a275-7efd59852af2\">\n",
              "    <div class=\"colab-df-container\">\n",
              "      <div>\n",
              "<style scoped>\n",
              "    .dataframe tbody tr th:only-of-type {\n",
              "        vertical-align: middle;\n",
              "    }\n",
              "\n",
              "    .dataframe tbody tr th {\n",
              "        vertical-align: top;\n",
              "    }\n",
              "\n",
              "    .dataframe thead th {\n",
              "        text-align: right;\n",
              "    }\n",
              "</style>\n",
              "<table border=\"1\" class=\"dataframe\">\n",
              "  <thead>\n",
              "    <tr style=\"text-align: right;\">\n",
              "      <th></th>\n",
              "      <th>f</th>\n",
              "      <th>alpha</th>\n",
              "      <th>c</th>\n",
              "      <th>U_infinity</th>\n",
              "      <th>delta</th>\n",
              "      <th>SSPL</th>\n",
              "    </tr>\n",
              "  </thead>\n",
              "  <tbody>\n",
              "    <tr>\n",
              "      <th>0</th>\n",
              "      <td>800</td>\n",
              "      <td>0.0</td>\n",
              "      <td>0.3048</td>\n",
              "      <td>71.3</td>\n",
              "      <td>0.002663</td>\n",
              "      <td>126.201</td>\n",
              "    </tr>\n",
              "    <tr>\n",
              "      <th>1</th>\n",
              "      <td>1000</td>\n",
              "      <td>0.0</td>\n",
              "      <td>0.3048</td>\n",
              "      <td>71.3</td>\n",
              "      <td>0.002663</td>\n",
              "      <td>125.201</td>\n",
              "    </tr>\n",
              "    <tr>\n",
              "      <th>2</th>\n",
              "      <td>1250</td>\n",
              "      <td>0.0</td>\n",
              "      <td>0.3048</td>\n",
              "      <td>71.3</td>\n",
              "      <td>0.002663</td>\n",
              "      <td>125.951</td>\n",
              "    </tr>\n",
              "    <tr>\n",
              "      <th>3</th>\n",
              "      <td>1600</td>\n",
              "      <td>0.0</td>\n",
              "      <td>0.3048</td>\n",
              "      <td>71.3</td>\n",
              "      <td>0.002663</td>\n",
              "      <td>127.591</td>\n",
              "    </tr>\n",
              "    <tr>\n",
              "      <th>4</th>\n",
              "      <td>2000</td>\n",
              "      <td>0.0</td>\n",
              "      <td>0.3048</td>\n",
              "      <td>71.3</td>\n",
              "      <td>0.002663</td>\n",
              "      <td>127.461</td>\n",
              "    </tr>\n",
              "    <tr>\n",
              "      <th>5</th>\n",
              "      <td>2500</td>\n",
              "      <td>0.0</td>\n",
              "      <td>0.3048</td>\n",
              "      <td>71.3</td>\n",
              "      <td>0.002663</td>\n",
              "      <td>125.571</td>\n",
              "    </tr>\n",
              "    <tr>\n",
              "      <th>6</th>\n",
              "      <td>3150</td>\n",
              "      <td>0.0</td>\n",
              "      <td>0.3048</td>\n",
              "      <td>71.3</td>\n",
              "      <td>0.002663</td>\n",
              "      <td>125.201</td>\n",
              "    </tr>\n",
              "    <tr>\n",
              "      <th>7</th>\n",
              "      <td>4000</td>\n",
              "      <td>0.0</td>\n",
              "      <td>0.3048</td>\n",
              "      <td>71.3</td>\n",
              "      <td>0.002663</td>\n",
              "      <td>123.061</td>\n",
              "    </tr>\n",
              "    <tr>\n",
              "      <th>8</th>\n",
              "      <td>5000</td>\n",
              "      <td>0.0</td>\n",
              "      <td>0.3048</td>\n",
              "      <td>71.3</td>\n",
              "      <td>0.002663</td>\n",
              "      <td>121.301</td>\n",
              "    </tr>\n",
              "    <tr>\n",
              "      <th>9</th>\n",
              "      <td>6300</td>\n",
              "      <td>0.0</td>\n",
              "      <td>0.3048</td>\n",
              "      <td>71.3</td>\n",
              "      <td>0.002663</td>\n",
              "      <td>119.541</td>\n",
              "    </tr>\n",
              "  </tbody>\n",
              "</table>\n",
              "</div>\n",
              "      <button class=\"colab-df-convert\" onclick=\"convertToInteractive('df-848e91b7-e884-4255-a275-7efd59852af2')\"\n",
              "              title=\"Convert this dataframe to an interactive table.\"\n",
              "              style=\"display:none;\">\n",
              "        \n",
              "  <svg xmlns=\"http://www.w3.org/2000/svg\" height=\"24px\"viewBox=\"0 0 24 24\"\n",
              "       width=\"24px\">\n",
              "    <path d=\"M0 0h24v24H0V0z\" fill=\"none\"/>\n",
              "    <path d=\"M18.56 5.44l.94 2.06.94-2.06 2.06-.94-2.06-.94-.94-2.06-.94 2.06-2.06.94zm-11 1L8.5 8.5l.94-2.06 2.06-.94-2.06-.94L8.5 2.5l-.94 2.06-2.06.94zm10 10l.94 2.06.94-2.06 2.06-.94-2.06-.94-.94-2.06-.94 2.06-2.06.94z\"/><path d=\"M17.41 7.96l-1.37-1.37c-.4-.4-.92-.59-1.43-.59-.52 0-1.04.2-1.43.59L10.3 9.45l-7.72 7.72c-.78.78-.78 2.05 0 2.83L4 21.41c.39.39.9.59 1.41.59.51 0 1.02-.2 1.41-.59l7.78-7.78 2.81-2.81c.8-.78.8-2.07 0-2.86zM5.41 20L4 18.59l7.72-7.72 1.47 1.35L5.41 20z\"/>\n",
              "  </svg>\n",
              "      </button>\n",
              "      \n",
              "  <style>\n",
              "    .colab-df-container {\n",
              "      display:flex;\n",
              "      flex-wrap:wrap;\n",
              "      gap: 12px;\n",
              "    }\n",
              "\n",
              "    .colab-df-convert {\n",
              "      background-color: #E8F0FE;\n",
              "      border: none;\n",
              "      border-radius: 50%;\n",
              "      cursor: pointer;\n",
              "      display: none;\n",
              "      fill: #1967D2;\n",
              "      height: 32px;\n",
              "      padding: 0 0 0 0;\n",
              "      width: 32px;\n",
              "    }\n",
              "\n",
              "    .colab-df-convert:hover {\n",
              "      background-color: #E2EBFA;\n",
              "      box-shadow: 0px 1px 2px rgba(60, 64, 67, 0.3), 0px 1px 3px 1px rgba(60, 64, 67, 0.15);\n",
              "      fill: #174EA6;\n",
              "    }\n",
              "\n",
              "    [theme=dark] .colab-df-convert {\n",
              "      background-color: #3B4455;\n",
              "      fill: #D2E3FC;\n",
              "    }\n",
              "\n",
              "    [theme=dark] .colab-df-convert:hover {\n",
              "      background-color: #434B5C;\n",
              "      box-shadow: 0px 1px 3px 1px rgba(0, 0, 0, 0.15);\n",
              "      filter: drop-shadow(0px 1px 2px rgba(0, 0, 0, 0.3));\n",
              "      fill: #FFFFFF;\n",
              "    }\n",
              "  </style>\n",
              "\n",
              "      <script>\n",
              "        const buttonEl =\n",
              "          document.querySelector('#df-848e91b7-e884-4255-a275-7efd59852af2 button.colab-df-convert');\n",
              "        buttonEl.style.display =\n",
              "          google.colab.kernel.accessAllowed ? 'block' : 'none';\n",
              "\n",
              "        async function convertToInteractive(key) {\n",
              "          const element = document.querySelector('#df-848e91b7-e884-4255-a275-7efd59852af2');\n",
              "          const dataTable =\n",
              "            await google.colab.kernel.invokeFunction('convertToInteractive',\n",
              "                                                     [key], {});\n",
              "          if (!dataTable) return;\n",
              "\n",
              "          const docLinkHtml = 'Like what you see? Visit the ' +\n",
              "            '<a target=\"_blank\" href=https://colab.research.google.com/notebooks/data_table.ipynb>data table notebook</a>'\n",
              "            + ' to learn more about interactive tables.';\n",
              "          element.innerHTML = '';\n",
              "          dataTable['output_type'] = 'display_data';\n",
              "          await google.colab.output.renderOutput(dataTable, element);\n",
              "          const docLink = document.createElement('div');\n",
              "          docLink.innerHTML = docLinkHtml;\n",
              "          element.appendChild(docLink);\n",
              "        }\n",
              "      </script>\n",
              "    </div>\n",
              "  </div>\n",
              "  "
            ]
          },
          "metadata": {},
          "execution_count": 3
        }
      ],
      "source": [
        "#We are displaying the top 10 rows of the dataset just to do a sanity check if all \n",
        "#the required features were correctly read into the datafrane\n",
        "\n",
        "dataset.head(10)"
      ]
    },
    {
      "cell_type": "code",
      "execution_count": 4,
      "metadata": {
        "colab": {
          "base_uri": "https://localhost:8080/"
        },
        "id": "I50_qQSMIS2W",
        "outputId": "9f4cfea6-b56f-463d-84b4-3471f1e0f9cf"
      },
      "outputs": [
        {
          "output_type": "execute_result",
          "data": {
            "text/plain": [
              "(1503, 6)"
            ]
          },
          "metadata": {},
          "execution_count": 4
        }
      ],
      "source": [
        "#In this step, we want to know the number of data samples and the number of features(including the dependant feature). So there are 1503 data samples provided to us for analysis and 6 features \n",
        "#including the dependant variable\n",
        "\n",
        "dataset.shape"
      ]
    },
    {
      "cell_type": "code",
      "execution_count": 5,
      "metadata": {
        "id": "BmnUgPAOIS2X"
      },
      "outputs": [],
      "source": [
        "#Now Before we do a univariate and multivariate data analysis, we want to drop the duplicate samples if any\n",
        "\n",
        "dataset=dataset.drop_duplicates()"
      ]
    },
    {
      "cell_type": "code",
      "execution_count": 6,
      "metadata": {
        "colab": {
          "base_uri": "https://localhost:8080/"
        },
        "id": "au7wEvwMIS2X",
        "outputId": "5bebc12e-fecc-4408-83f9-f2b8f35fddef"
      },
      "outputs": [
        {
          "output_type": "execute_result",
          "data": {
            "text/plain": [
              "(1503, 6)"
            ]
          },
          "metadata": {},
          "execution_count": 6
        }
      ],
      "source": [
        "#After we have dropped the duplicates we want to see the number of data samples. In this case we observe that the number of data samples are same even after removing the duplicates which clearly \n",
        "#indicates that there were no duplicates in the dataset\n",
        "\n",
        "dataset.shape"
      ]
    },
    {
      "cell_type": "code",
      "execution_count": 7,
      "metadata": {
        "colab": {
          "base_uri": "https://localhost:8080/"
        },
        "id": "i2u7ktvFIS2Y",
        "outputId": "8269052f-c106-45d3-cd82-4bcaf2578fbf"
      },
      "outputs": [
        {
          "output_type": "stream",
          "name": "stdout",
          "text": [
            "<class 'pandas.core.frame.DataFrame'>\n",
            "Int64Index: 1503 entries, 0 to 1502\n",
            "Data columns (total 6 columns):\n",
            " #   Column      Non-Null Count  Dtype  \n",
            "---  ------      --------------  -----  \n",
            " 0   f           1503 non-null   int64  \n",
            " 1   alpha       1503 non-null   float64\n",
            " 2   c           1503 non-null   float64\n",
            " 3   U_infinity  1503 non-null   float64\n",
            " 4   delta       1503 non-null   float64\n",
            " 5   SSPL        1503 non-null   float64\n",
            "dtypes: float64(5), int64(1)\n",
            "memory usage: 82.2 KB\n"
          ]
        }
      ],
      "source": [
        "#In this step we see the datatype of each column and also see that there is no missing values. Also in the below there is another \n",
        "#way to check if there are missing values\n",
        "\n",
        "#Also another observation is that there is no categorical variable and so no need to do the one hot encoding\n",
        "\n",
        "dataset.info()"
      ]
    },
    {
      "cell_type": "code",
      "execution_count": 8,
      "metadata": {
        "colab": {
          "base_uri": "https://localhost:8080/",
          "height": 300
        },
        "id": "OsWHUQ5XIS2Y",
        "outputId": "d7df69e0-acca-4350-f219-3c6e9af99ad3"
      },
      "outputs": [
        {
          "output_type": "execute_result",
          "data": {
            "text/plain": [
              "                  f        alpha            c   U_infinity        delta  \\\n",
              "count   1503.000000  1503.000000  1503.000000  1503.000000  1503.000000   \n",
              "mean    2886.380572     6.782302     0.136548    50.860745     0.011140   \n",
              "std     3152.573137     5.918128     0.093541    15.572784     0.013150   \n",
              "min      200.000000     0.000000     0.025400    31.700000     0.000401   \n",
              "25%      800.000000     2.000000     0.050800    39.600000     0.002535   \n",
              "50%     1600.000000     5.400000     0.101600    39.600000     0.004957   \n",
              "75%     4000.000000     9.900000     0.228600    71.300000     0.015576   \n",
              "max    20000.000000    22.200000     0.304800    71.300000     0.058411   \n",
              "\n",
              "              SSPL  \n",
              "count  1503.000000  \n",
              "mean    124.835943  \n",
              "std       6.898657  \n",
              "min     103.380000  \n",
              "25%     120.191000  \n",
              "50%     125.721000  \n",
              "75%     129.995500  \n",
              "max     140.987000  "
            ],
            "text/html": [
              "\n",
              "  <div id=\"df-98fa6435-1f6c-4f99-9773-8ef70f8378c3\">\n",
              "    <div class=\"colab-df-container\">\n",
              "      <div>\n",
              "<style scoped>\n",
              "    .dataframe tbody tr th:only-of-type {\n",
              "        vertical-align: middle;\n",
              "    }\n",
              "\n",
              "    .dataframe tbody tr th {\n",
              "        vertical-align: top;\n",
              "    }\n",
              "\n",
              "    .dataframe thead th {\n",
              "        text-align: right;\n",
              "    }\n",
              "</style>\n",
              "<table border=\"1\" class=\"dataframe\">\n",
              "  <thead>\n",
              "    <tr style=\"text-align: right;\">\n",
              "      <th></th>\n",
              "      <th>f</th>\n",
              "      <th>alpha</th>\n",
              "      <th>c</th>\n",
              "      <th>U_infinity</th>\n",
              "      <th>delta</th>\n",
              "      <th>SSPL</th>\n",
              "    </tr>\n",
              "  </thead>\n",
              "  <tbody>\n",
              "    <tr>\n",
              "      <th>count</th>\n",
              "      <td>1503.000000</td>\n",
              "      <td>1503.000000</td>\n",
              "      <td>1503.000000</td>\n",
              "      <td>1503.000000</td>\n",
              "      <td>1503.000000</td>\n",
              "      <td>1503.000000</td>\n",
              "    </tr>\n",
              "    <tr>\n",
              "      <th>mean</th>\n",
              "      <td>2886.380572</td>\n",
              "      <td>6.782302</td>\n",
              "      <td>0.136548</td>\n",
              "      <td>50.860745</td>\n",
              "      <td>0.011140</td>\n",
              "      <td>124.835943</td>\n",
              "    </tr>\n",
              "    <tr>\n",
              "      <th>std</th>\n",
              "      <td>3152.573137</td>\n",
              "      <td>5.918128</td>\n",
              "      <td>0.093541</td>\n",
              "      <td>15.572784</td>\n",
              "      <td>0.013150</td>\n",
              "      <td>6.898657</td>\n",
              "    </tr>\n",
              "    <tr>\n",
              "      <th>min</th>\n",
              "      <td>200.000000</td>\n",
              "      <td>0.000000</td>\n",
              "      <td>0.025400</td>\n",
              "      <td>31.700000</td>\n",
              "      <td>0.000401</td>\n",
              "      <td>103.380000</td>\n",
              "    </tr>\n",
              "    <tr>\n",
              "      <th>25%</th>\n",
              "      <td>800.000000</td>\n",
              "      <td>2.000000</td>\n",
              "      <td>0.050800</td>\n",
              "      <td>39.600000</td>\n",
              "      <td>0.002535</td>\n",
              "      <td>120.191000</td>\n",
              "    </tr>\n",
              "    <tr>\n",
              "      <th>50%</th>\n",
              "      <td>1600.000000</td>\n",
              "      <td>5.400000</td>\n",
              "      <td>0.101600</td>\n",
              "      <td>39.600000</td>\n",
              "      <td>0.004957</td>\n",
              "      <td>125.721000</td>\n",
              "    </tr>\n",
              "    <tr>\n",
              "      <th>75%</th>\n",
              "      <td>4000.000000</td>\n",
              "      <td>9.900000</td>\n",
              "      <td>0.228600</td>\n",
              "      <td>71.300000</td>\n",
              "      <td>0.015576</td>\n",
              "      <td>129.995500</td>\n",
              "    </tr>\n",
              "    <tr>\n",
              "      <th>max</th>\n",
              "      <td>20000.000000</td>\n",
              "      <td>22.200000</td>\n",
              "      <td>0.304800</td>\n",
              "      <td>71.300000</td>\n",
              "      <td>0.058411</td>\n",
              "      <td>140.987000</td>\n",
              "    </tr>\n",
              "  </tbody>\n",
              "</table>\n",
              "</div>\n",
              "      <button class=\"colab-df-convert\" onclick=\"convertToInteractive('df-98fa6435-1f6c-4f99-9773-8ef70f8378c3')\"\n",
              "              title=\"Convert this dataframe to an interactive table.\"\n",
              "              style=\"display:none;\">\n",
              "        \n",
              "  <svg xmlns=\"http://www.w3.org/2000/svg\" height=\"24px\"viewBox=\"0 0 24 24\"\n",
              "       width=\"24px\">\n",
              "    <path d=\"M0 0h24v24H0V0z\" fill=\"none\"/>\n",
              "    <path d=\"M18.56 5.44l.94 2.06.94-2.06 2.06-.94-2.06-.94-.94-2.06-.94 2.06-2.06.94zm-11 1L8.5 8.5l.94-2.06 2.06-.94-2.06-.94L8.5 2.5l-.94 2.06-2.06.94zm10 10l.94 2.06.94-2.06 2.06-.94-2.06-.94-.94-2.06-.94 2.06-2.06.94z\"/><path d=\"M17.41 7.96l-1.37-1.37c-.4-.4-.92-.59-1.43-.59-.52 0-1.04.2-1.43.59L10.3 9.45l-7.72 7.72c-.78.78-.78 2.05 0 2.83L4 21.41c.39.39.9.59 1.41.59.51 0 1.02-.2 1.41-.59l7.78-7.78 2.81-2.81c.8-.78.8-2.07 0-2.86zM5.41 20L4 18.59l7.72-7.72 1.47 1.35L5.41 20z\"/>\n",
              "  </svg>\n",
              "      </button>\n",
              "      \n",
              "  <style>\n",
              "    .colab-df-container {\n",
              "      display:flex;\n",
              "      flex-wrap:wrap;\n",
              "      gap: 12px;\n",
              "    }\n",
              "\n",
              "    .colab-df-convert {\n",
              "      background-color: #E8F0FE;\n",
              "      border: none;\n",
              "      border-radius: 50%;\n",
              "      cursor: pointer;\n",
              "      display: none;\n",
              "      fill: #1967D2;\n",
              "      height: 32px;\n",
              "      padding: 0 0 0 0;\n",
              "      width: 32px;\n",
              "    }\n",
              "\n",
              "    .colab-df-convert:hover {\n",
              "      background-color: #E2EBFA;\n",
              "      box-shadow: 0px 1px 2px rgba(60, 64, 67, 0.3), 0px 1px 3px 1px rgba(60, 64, 67, 0.15);\n",
              "      fill: #174EA6;\n",
              "    }\n",
              "\n",
              "    [theme=dark] .colab-df-convert {\n",
              "      background-color: #3B4455;\n",
              "      fill: #D2E3FC;\n",
              "    }\n",
              "\n",
              "    [theme=dark] .colab-df-convert:hover {\n",
              "      background-color: #434B5C;\n",
              "      box-shadow: 0px 1px 3px 1px rgba(0, 0, 0, 0.15);\n",
              "      filter: drop-shadow(0px 1px 2px rgba(0, 0, 0, 0.3));\n",
              "      fill: #FFFFFF;\n",
              "    }\n",
              "  </style>\n",
              "\n",
              "      <script>\n",
              "        const buttonEl =\n",
              "          document.querySelector('#df-98fa6435-1f6c-4f99-9773-8ef70f8378c3 button.colab-df-convert');\n",
              "        buttonEl.style.display =\n",
              "          google.colab.kernel.accessAllowed ? 'block' : 'none';\n",
              "\n",
              "        async function convertToInteractive(key) {\n",
              "          const element = document.querySelector('#df-98fa6435-1f6c-4f99-9773-8ef70f8378c3');\n",
              "          const dataTable =\n",
              "            await google.colab.kernel.invokeFunction('convertToInteractive',\n",
              "                                                     [key], {});\n",
              "          if (!dataTable) return;\n",
              "\n",
              "          const docLinkHtml = 'Like what you see? Visit the ' +\n",
              "            '<a target=\"_blank\" href=https://colab.research.google.com/notebooks/data_table.ipynb>data table notebook</a>'\n",
              "            + ' to learn more about interactive tables.';\n",
              "          element.innerHTML = '';\n",
              "          dataTable['output_type'] = 'display_data';\n",
              "          await google.colab.output.renderOutput(dataTable, element);\n",
              "          const docLink = document.createElement('div');\n",
              "          docLink.innerHTML = docLinkHtml;\n",
              "          element.appendChild(docLink);\n",
              "        }\n",
              "      </script>\n",
              "    </div>\n",
              "  </div>\n",
              "  "
            ]
          },
          "metadata": {},
          "execution_count": 8
        }
      ],
      "source": [
        "#This step is a part of univariate analysis since we are finding the mean, standard deviation, other metrics like percentile. \n",
        "#From this step and also from the data analysis we conclude the follows-:\n",
        "\n",
        "#1)For the first column f we see that mean is 2886 but maximum value is 20000 which implies that there might be some outliers which we may have to treat\n",
        "#2)For the first column alpha we see that mean is 6.7 but maximum value is 22 which implies that there might be some outliers which we may have to treat\n",
        "#3)Also since in almost all variables the mean is more than median, the features are likely to be right skwed\n",
        "dataset.describe()"
      ]
    },
    {
      "cell_type": "code",
      "execution_count": 9,
      "metadata": {
        "colab": {
          "base_uri": "https://localhost:8080/",
          "height": 1000
        },
        "id": "ANC_QvZVIS2Y",
        "outputId": "0196e492-e87e-48b7-fa89-eefd1df57958"
      },
      "outputs": [
        {
          "output_type": "execute_result",
          "data": {
            "text/plain": [
              "<seaborn.axisgrid.PairGrid at 0x7f1076176b90>"
            ]
          },
          "metadata": {},
          "execution_count": 9
        },
        {
          "output_type": "display_data",
          "data": {
            "text/plain": [
              "<Figure size 1080x1080 with 42 Axes>"
            ],
            "image/png": "[encoded data removed]"
          },
          "metadata": {
            "needs_background": "light"
          }
        }
      ],
      "source": [
        "#In this step, we want to understand the distribution of each variable with other variable. Here we see that alpha and delta are highly positively co-related \n",
        "#positively co-related. But however to decide the amount of co-relation, we have used a heat map visualization below to quantify the co-relation\n",
        "\n",
        "sb.pairplot(dataset)"
      ]
    },
    {
      "cell_type": "code",
      "execution_count": 10,
      "metadata": {
        "colab": {
          "base_uri": "https://localhost:8080/",
          "height": 351
        },
        "id": "Fj36SY9EIS2Z",
        "outputId": "aba00748-5b02-44df-e7c5-81c19c705b4f"
      },
      "outputs": [
        {
          "output_type": "stream",
          "name": "stderr",
          "text": [
            "/usr/local/lib/python3.7/dist-packages/seaborn/distributions.py:2619: FutureWarning: `distplot` is a deprecated function and will be removed in a future version. Please adapt your code to use either `displot` (a figure-level function with similar flexibility) or `histplot` (an axes-level function for histograms).\n",
            "  warnings.warn(msg, FutureWarning)\n"
          ]
        },
        {
          "output_type": "execute_result",
          "data": {
            "text/plain": [
              "<matplotlib.axes._subplots.AxesSubplot at 0x7f1071976850>"
            ]
          },
          "metadata": {},
          "execution_count": 10
        },
        {
          "output_type": "display_data",
          "data": {
            "text/plain": [
              "<Figure size 432x288 with 1 Axes>"
            ],
            "image/png": "[encoded data removed]"
          },
          "metadata": {
            "needs_background": "light"
          }
        }
      ],
      "source": [
        "#In the next series of cell, we want to check the univariate distribution of data for each columns.\n",
        "\n",
        "#In this step we are checking for distribution of f and it shows that it is approximately \n",
        "#right skwed. \n",
        "\n",
        "sb.distplot(dataset['f'])"
      ]
    },
    {
      "cell_type": "code",
      "execution_count": 11,
      "metadata": {
        "colab": {
          "base_uri": "https://localhost:8080/",
          "height": 351
        },
        "id": "6Ac8ZLNnIS2Z",
        "outputId": "9e892075-d47c-4ce3-9325-62c2756c335e"
      },
      "outputs": [
        {
          "output_type": "stream",
          "name": "stderr",
          "text": [
            "/usr/local/lib/python3.7/dist-packages/seaborn/distributions.py:2619: FutureWarning: `distplot` is a deprecated function and will be removed in a future version. Please adapt your code to use either `displot` (a figure-level function with similar flexibility) or `histplot` (an axes-level function for histograms).\n",
            "  warnings.warn(msg, FutureWarning)\n"
          ]
        },
        {
          "output_type": "execute_result",
          "data": {
            "text/plain": [
              "<matplotlib.axes._subplots.AxesSubplot at 0x7f106e008790>"
            ]
          },
          "metadata": {},
          "execution_count": 11
        },
        {
          "output_type": "display_data",
          "data": {
            "text/plain": [
              "<Figure size 432x288 with 1 Axes>"
            ],
            "image/png": "[encoded data removed]"
          },
          "metadata": {
            "needs_background": "light"
          }
        }
      ],
      "source": [
        "sb.distplot(dataset['alpha'])"
      ]
    },
    {
      "cell_type": "code",
      "execution_count": null,
      "metadata": {
        "colab": {
          "base_uri": "https://localhost:8080/",
          "height": 351
        },
        "id": "M-xvpSctIS2a",
        "outputId": "f22ded55-b935-42f7-ab43-dd9027ce1778"
      },
      "outputs": [
        {
          "output_type": "stream",
          "name": "stderr",
          "text": [
            "/usr/local/lib/python3.7/dist-packages/seaborn/distributions.py:2619: FutureWarning: `distplot` is a deprecated function and will be removed in a future version. Please adapt your code to use either `displot` (a figure-level function with similar flexibility) or `histplot` (an axes-level function for histograms).\n",
            "  warnings.warn(msg, FutureWarning)\n"
          ]
        },
        {
          "output_type": "execute_result",
          "data": {
            "text/plain": [
              "<matplotlib.axes._subplots.AxesSubplot at 0x7fbba5092ed0>"
            ]
          },
          "metadata": {},
          "execution_count": 14
        },
        {
          "output_type": "display_data",
          "data": {
            "image/png": "[encoded data removed]",
            "text/plain": [
              "<Figure size 432x288 with 1 Axes>"
            ]
          },
          "metadata": {
            "needs_background": "light"
          }
        }
      ],
      "source": [
        "sb.distplot(dataset['c'])"
      ]
    },
    {
      "cell_type": "code",
      "execution_count": null,
      "metadata": {
        "colab": {
          "base_uri": "https://localhost:8080/",
          "height": 352
        },
        "id": "DJ3lJnLPIS2a",
        "outputId": "55ae2495-45f6-48d1-f9d1-02945bb5c488"
      },
      "outputs": [
        {
          "output_type": "stream",
          "name": "stderr",
          "text": [
            "/usr/local/lib/python3.7/dist-packages/seaborn/distributions.py:2619: FutureWarning: `distplot` is a deprecated function and will be removed in a future version. Please adapt your code to use either `displot` (a figure-level function with similar flexibility) or `histplot` (an axes-level function for histograms).\n",
            "  warnings.warn(msg, FutureWarning)\n"
          ]
        },
        {
          "output_type": "execute_result",
          "data": {
            "text/plain": [
              "<matplotlib.axes._subplots.AxesSubplot at 0x7fbba4f6b090>"
            ]
          },
          "metadata": {},
          "execution_count": 15
        },
        {
          "output_type": "display_data",
          "data": {
            "image/png": "[encoded data removed]",
            "text/plain": [
              "<Figure size 432x288 with 1 Axes>"
            ]
          },
          "metadata": {
            "needs_background": "light"
          }
        }
      ],
      "source": [
        "sb.distplot(dataset['U_infinity'])"
      ]
    },
    {
      "cell_type": "code",
      "execution_count": null,
      "metadata": {
        "colab": {
          "base_uri": "https://localhost:8080/",
          "height": 354
        },
        "id": "D9AyLVwbIS2a",
        "outputId": "1cb28b53-45cc-4353-e2fe-9e1c02eb7794"
      },
      "outputs": [
        {
          "output_type": "stream",
          "name": "stderr",
          "text": [
            "/usr/local/lib/python3.7/dist-packages/seaborn/distributions.py:2619: FutureWarning: `distplot` is a deprecated function and will be removed in a future version. Please adapt your code to use either `displot` (a figure-level function with similar flexibility) or `histplot` (an axes-level function for histograms).\n",
            "  warnings.warn(msg, FutureWarning)\n"
          ]
        },
        {
          "output_type": "execute_result",
          "data": {
            "text/plain": [
              "<matplotlib.axes._subplots.AxesSubplot at 0x7fbba4f87ad0>"
            ]
          },
          "metadata": {},
          "execution_count": 16
        },
        {
          "output_type": "display_data",
          "data": {
            "image/png": "[encoded data removed]",
            "text/plain": [
              "<Figure size 432x288 with 1 Axes>"
            ]
          },
          "metadata": {
            "needs_background": "light"
          }
        }
      ],
      "source": [
        "sb.distplot(dataset['delta'])"
      ]
    },
    {
      "cell_type": "code",
      "execution_count": null,
      "metadata": {
        "colab": {
          "base_uri": "https://localhost:8080/",
          "height": 351
        },
        "id": "rfoN9xxlIS2b",
        "outputId": "23b3a106-171e-4b24-b0d6-99d8b2bc27b9"
      },
      "outputs": [
        {
          "output_type": "stream",
          "name": "stderr",
          "text": [
            "/usr/local/lib/python3.7/dist-packages/seaborn/distributions.py:2619: FutureWarning: `distplot` is a deprecated function and will be removed in a future version. Please adapt your code to use either `displot` (a figure-level function with similar flexibility) or `histplot` (an axes-level function for histograms).\n",
            "  warnings.warn(msg, FutureWarning)\n"
          ]
        },
        {
          "output_type": "execute_result",
          "data": {
            "text/plain": [
              "<matplotlib.axes._subplots.AxesSubplot at 0x7fbba4de87d0>"
            ]
          },
          "metadata": {},
          "execution_count": 17
        },
        {
          "output_type": "display_data",
          "data": {
            "image/png": "[encoded data removed]",
            "text/plain": [
              "<Figure size 432x288 with 1 Axes>"
            ]
          },
          "metadata": {
            "needs_background": "light"
          }
        }
      ],
      "source": [
        "sb.distplot(dataset['SSPL'])"
      ]
    },
    {
      "cell_type": "code",
      "execution_count": null,
      "metadata": {
        "colab": {
          "base_uri": "https://localhost:8080/"
        },
        "id": "8oJXSM9jIS2b",
        "outputId": "3bd2df3d-2075-4fdb-e835-11af8a7ca2a3"
      },
      "outputs": [
        {
          "output_type": "execute_result",
          "data": {
            "text/plain": [
              "f             0\n",
              "alpha         0\n",
              "c             0\n",
              "U_infinity    0\n",
              "delta         0\n",
              "SSPL          0\n",
              "dtype: int64"
            ]
          },
          "metadata": {},
          "execution_count": 18
        }
      ],
      "source": [
        "#Here we check if there are any missing values. Since the sum is 0 everywhere, looks like there are no missing values\n",
        "\n",
        "dataset.isnull().sum()"
      ]
    },
    {
      "cell_type": "code",
      "execution_count": null,
      "metadata": {
        "colab": {
          "base_uri": "https://localhost:8080/",
          "height": 351
        },
        "id": "5HNYvyBLIS2b",
        "outputId": "bcaa945c-ddc2-420a-c795-c5cf1c0c713c"
      },
      "outputs": [
        {
          "output_type": "stream",
          "name": "stderr",
          "text": [
            "/usr/local/lib/python3.7/dist-packages/seaborn/_decorators.py:43: FutureWarning: Pass the following variable as a keyword arg: x. From version 0.12, the only valid positional argument will be `data`, and passing other arguments without an explicit keyword will result in an error or misinterpretation.\n",
            "  FutureWarning\n"
          ]
        },
        {
          "output_type": "execute_result",
          "data": {
            "text/plain": [
              "<matplotlib.axes._subplots.AxesSubplot at 0x7fbba9166650>"
            ]
          },
          "metadata": {},
          "execution_count": 19
        },
        {
          "output_type": "display_data",
          "data": {
            "image/png": "[encoded data removed]",
            "text/plain": [
              "<Figure size 432x288 with 1 Axes>"
            ]
          },
          "metadata": {
            "needs_background": "light"
          }
        }
      ],
      "source": [
        "#Here we will check if any of the features have outliers. From the output of the next cells, it looks \n",
        "#like all the features except C, u_infinity have outliers\n",
        "\n",
        "sb.boxplot(dataset['f'])"
      ]
    },
    {
      "cell_type": "code",
      "execution_count": null,
      "metadata": {
        "colab": {
          "base_uri": "https://localhost:8080/",
          "height": 351
        },
        "id": "oWPuZ8y2IS2b",
        "outputId": "9050836b-a272-47a1-cd99-b9a7e114dbd5"
      },
      "outputs": [
        {
          "output_type": "stream",
          "name": "stderr",
          "text": [
            "/usr/local/lib/python3.7/dist-packages/seaborn/_decorators.py:43: FutureWarning: Pass the following variable as a keyword arg: x. From version 0.12, the only valid positional argument will be `data`, and passing other arguments without an explicit keyword will result in an error or misinterpretation.\n",
            "  FutureWarning\n"
          ]
        },
        {
          "output_type": "execute_result",
          "data": {
            "text/plain": [
              "<matplotlib.axes._subplots.AxesSubplot at 0x7fbba4cf3310>"
            ]
          },
          "metadata": {},
          "execution_count": 20
        },
        {
          "output_type": "display_data",
          "data": {
            "image/png": "[encoded data removed]",
            "text/plain": [
              "<Figure size 432x288 with 1 Axes>"
            ]
          },
          "metadata": {
            "needs_background": "light"
          }
        }
      ],
      "source": [
        "sb.boxplot(dataset['alpha'])"
      ]
    },
    {
      "cell_type": "code",
      "execution_count": null,
      "metadata": {
        "colab": {
          "base_uri": "https://localhost:8080/",
          "height": 351
        },
        "id": "eoYjx_lBIS2c",
        "outputId": "939fdbc5-4cc3-49d7-9ef2-e2759c72913f"
      },
      "outputs": [
        {
          "output_type": "stream",
          "name": "stderr",
          "text": [
            "/usr/local/lib/python3.7/dist-packages/seaborn/_decorators.py:43: FutureWarning: Pass the following variable as a keyword arg: x. From version 0.12, the only valid positional argument will be `data`, and passing other arguments without an explicit keyword will result in an error or misinterpretation.\n",
            "  FutureWarning\n"
          ]
        },
        {
          "output_type": "execute_result",
          "data": {
            "text/plain": [
              "<matplotlib.axes._subplots.AxesSubplot at 0x7fbba4d90b50>"
            ]
          },
          "metadata": {},
          "execution_count": 21
        },
        {
          "output_type": "display_data",
          "data": {
            "image/png": "[encoded data removed]",
            "text/plain": [
              "<Figure size 432x288 with 1 Axes>"
            ]
          },
          "metadata": {
            "needs_background": "light"
          }
        }
      ],
      "source": [
        "sb.boxplot(dataset['c'])"
      ]
    },
    {
      "cell_type": "code",
      "execution_count": null,
      "metadata": {
        "colab": {
          "base_uri": "https://localhost:8080/",
          "height": 352
        },
        "id": "7_py5hE3IS2c",
        "outputId": "ce2a3ba1-776a-48a3-e593-f237ca33a7b8"
      },
      "outputs": [
        {
          "output_type": "stream",
          "name": "stderr",
          "text": [
            "/usr/local/lib/python3.7/dist-packages/seaborn/_decorators.py:43: FutureWarning: Pass the following variable as a keyword arg: x. From version 0.12, the only valid positional argument will be `data`, and passing other arguments without an explicit keyword will result in an error or misinterpretation.\n",
            "  FutureWarning\n"
          ]
        },
        {
          "output_type": "execute_result",
          "data": {
            "text/plain": [
              "<matplotlib.axes._subplots.AxesSubplot at 0x7fbba8ecc650>"
            ]
          },
          "metadata": {},
          "execution_count": 22
        },
        {
          "output_type": "display_data",
          "data": {
            "image/png": "[encoded data removed]",
            "text/plain": [
              "<Figure size 432x288 with 1 Axes>"
            ]
          },
          "metadata": {
            "needs_background": "light"
          }
        }
      ],
      "source": [
        "sb.boxplot(dataset['U_infinity'])"
      ]
    },
    {
      "cell_type": "code",
      "execution_count": null,
      "metadata": {
        "colab": {
          "base_uri": "https://localhost:8080/",
          "height": 351
        },
        "id": "jX9eV5GHIS2c",
        "outputId": "d8b7a107-faee-4d2b-eb36-eff20388d29c"
      },
      "outputs": [
        {
          "output_type": "stream",
          "name": "stderr",
          "text": [
            "/usr/local/lib/python3.7/dist-packages/seaborn/_decorators.py:43: FutureWarning: Pass the following variable as a keyword arg: x. From version 0.12, the only valid positional argument will be `data`, and passing other arguments without an explicit keyword will result in an error or misinterpretation.\n",
            "  FutureWarning\n"
          ]
        },
        {
          "output_type": "execute_result",
          "data": {
            "text/plain": [
              "<matplotlib.axes._subplots.AxesSubplot at 0x7fbba8e171d0>"
            ]
          },
          "metadata": {},
          "execution_count": 23
        },
        {
          "output_type": "display_data",
          "data": {
            "image/png": "[encoded data removed]",
            "text/plain": [
              "<Figure size 432x288 with 1 Axes>"
            ]
          },
          "metadata": {
            "needs_background": "light"
          }
        }
      ],
      "source": [
        "sb.boxplot(dataset['delta'])"
      ]
    },
    {
      "cell_type": "code",
      "execution_count": null,
      "metadata": {
        "colab": {
          "base_uri": "https://localhost:8080/",
          "height": 287
        },
        "id": "LB6vprDkIS2c",
        "outputId": "3b850401-bd0c-4fbb-f50d-cb0967589db2"
      },
      "outputs": [
        {
          "output_type": "execute_result",
          "data": {
            "text/plain": [
              "<matplotlib.axes._subplots.AxesSubplot at 0x7fbba8f1bd10>"
            ]
          },
          "metadata": {},
          "execution_count": 24
        },
        {
          "output_type": "display_data",
          "data": {
            "image/png": "[encoded data removed]",
            "text/plain": [
              "<Figure size 432x288 with 2 Axes>"
            ]
          },
          "metadata": {
            "needs_background": "light"
          }
        }
      ],
      "source": [
        "#Here we want to test the co-relation between each pair of variables by plotting a heat map. Here we see that alpha and delta are highly positively co-related \n",
        "#with a co-relation of 0.75. There may be other co-relations as well but we will consider all those values >0.5 and <-0.5 as \n",
        "#highly positively co-related and highly negatively co-related respectively. So in the data pre-processing part, we will explore the possibility where we can exclude either alpha or delta\n",
        "#but the final decision depends on the statistical evidence\n",
        "\n",
        "sb.heatmap(dataset.corr(),annot=True,cmap='magma')"
      ]
    },
    {
      "cell_type": "code",
      "execution_count": null,
      "metadata": {
        "colab": {
          "base_uri": "https://localhost:8080/",
          "height": 206
        },
        "id": "nhWFl8MqIS2d",
        "outputId": "c284c9dc-c8b7-4c26-cd05-a6789edf793c"
      },
      "outputs": [
        {
          "output_type": "execute_result",
          "data": {
            "text/html": [
              "\n",
              "  <div id=\"df-d239f0a8-c676-47a6-bff8-8d4c15f029df\">\n",
              "    <div class=\"colab-df-container\">\n",
              "      <div>\n",
              "<style scoped>\n",
              "    .dataframe tbody tr th:only-of-type {\n",
              "        vertical-align: middle;\n",
              "    }\n",
              "\n",
              "    .dataframe tbody tr th {\n",
              "        vertical-align: top;\n",
              "    }\n",
              "\n",
              "    .dataframe thead th {\n",
              "        text-align: right;\n",
              "    }\n",
              "</style>\n",
              "<table border=\"1\" class=\"dataframe\">\n",
              "  <thead>\n",
              "    <tr style=\"text-align: right;\">\n",
              "      <th></th>\n",
              "      <th>feature</th>\n",
              "      <th>VIF</th>\n",
              "    </tr>\n",
              "  </thead>\n",
              "  <tbody>\n",
              "    <tr>\n",
              "      <th>0</th>\n",
              "      <td>f</td>\n",
              "      <td>1.942627</td>\n",
              "    </tr>\n",
              "    <tr>\n",
              "      <th>1</th>\n",
              "      <td>alpha</td>\n",
              "      <td>6.557489</td>\n",
              "    </tr>\n",
              "    <tr>\n",
              "      <th>2</th>\n",
              "      <td>c</td>\n",
              "      <td>3.254447</td>\n",
              "    </tr>\n",
              "    <tr>\n",
              "      <th>3</th>\n",
              "      <td>U_infinity</td>\n",
              "      <td>7.148723</td>\n",
              "    </tr>\n",
              "    <tr>\n",
              "      <th>4</th>\n",
              "      <td>delta</td>\n",
              "      <td>4.299617</td>\n",
              "    </tr>\n",
              "  </tbody>\n",
              "</table>\n",
              "</div>\n",
              "      <button class=\"colab-df-convert\" onclick=\"convertToInteractive('df-d239f0a8-c676-47a6-bff8-8d4c15f029df')\"\n",
              "              title=\"Convert this dataframe to an interactive table.\"\n",
              "              style=\"display:none;\">\n",
              "        \n",
              "  <svg xmlns=\"http://www.w3.org/2000/svg\" height=\"24px\"viewBox=\"0 0 24 24\"\n",
              "       width=\"24px\">\n",
              "    <path d=\"M0 0h24v24H0V0z\" fill=\"none\"/>\n",
              "    <path d=\"M18.56 5.44l.94 2.06.94-2.06 2.06-.94-2.06-.94-.94-2.06-.94 2.06-2.06.94zm-11 1L8.5 8.5l.94-2.06 2.06-.94-2.06-.94L8.5 2.5l-.94 2.06-2.06.94zm10 10l.94 2.06.94-2.06 2.06-.94-2.06-.94-.94-2.06-.94 2.06-2.06.94z\"/><path d=\"M17.41 7.96l-1.37-1.37c-.4-.4-.92-.59-1.43-.59-.52 0-1.04.2-1.43.59L10.3 9.45l-7.72 7.72c-.78.78-.78 2.05 0 2.83L4 21.41c.39.39.9.59 1.41.59.51 0 1.02-.2 1.41-.59l7.78-7.78 2.81-2.81c.8-.78.8-2.07 0-2.86zM5.41 20L4 18.59l7.72-7.72 1.47 1.35L5.41 20z\"/>\n",
              "  </svg>\n",
              "      </button>\n",
              "      \n",
              "  <style>\n",
              "    .colab-df-container {\n",
              "      display:flex;\n",
              "      flex-wrap:wrap;\n",
              "      gap: 12px;\n",
              "    }\n",
              "\n",
              "    .colab-df-convert {\n",
              "      background-color: #E8F0FE;\n",
              "      border: none;\n",
              "      border-radius: 50%;\n",
              "      cursor: pointer;\n",
              "      display: none;\n",
              "      fill: #1967D2;\n",
              "      height: 32px;\n",
              "      padding: 0 0 0 0;\n",
              "      width: 32px;\n",
              "    }\n",
              "\n",
              "    .colab-df-convert:hover {\n",
              "      background-color: #E2EBFA;\n",
              "      box-shadow: 0px 1px 2px rgba(60, 64, 67, 0.3), 0px 1px 3px 1px rgba(60, 64, 67, 0.15);\n",
              "      fill: #174EA6;\n",
              "    }\n",
              "\n",
              "    [theme=dark] .colab-df-convert {\n",
              "      background-color: #3B4455;\n",
              "      fill: #D2E3FC;\n",
              "    }\n",
              "\n",
              "    [theme=dark] .colab-df-convert:hover {\n",
              "      background-color: #434B5C;\n",
              "      box-shadow: 0px 1px 3px 1px rgba(0, 0, 0, 0.15);\n",
              "      filter: drop-shadow(0px 1px 2px rgba(0, 0, 0, 0.3));\n",
              "      fill: #FFFFFF;\n",
              "    }\n",
              "  </style>\n",
              "\n",
              "      <script>\n",
              "        const buttonEl =\n",
              "          document.querySelector('#df-d239f0a8-c676-47a6-bff8-8d4c15f029df button.colab-df-convert');\n",
              "        buttonEl.style.display =\n",
              "          google.colab.kernel.accessAllowed ? 'block' : 'none';\n",
              "\n",
              "        async function convertToInteractive(key) {\n",
              "          const element = document.querySelector('#df-d239f0a8-c676-47a6-bff8-8d4c15f029df');\n",
              "          const dataTable =\n",
              "            await google.colab.kernel.invokeFunction('convertToInteractive',\n",
              "                                                     [key], {});\n",
              "          if (!dataTable) return;\n",
              "\n",
              "          const docLinkHtml = 'Like what you see? Visit the ' +\n",
              "            '<a target=\"_blank\" href=https://colab.research.google.com/notebooks/data_table.ipynb>data table notebook</a>'\n",
              "            + ' to learn more about interactive tables.';\n",
              "          element.innerHTML = '';\n",
              "          dataTable['output_type'] = 'display_data';\n",
              "          await google.colab.output.renderOutput(dataTable, element);\n",
              "          const docLink = document.createElement('div');\n",
              "          docLink.innerHTML = docLinkHtml;\n",
              "          element.appendChild(docLink);\n",
              "        }\n",
              "      </script>\n",
              "    </div>\n",
              "  </div>\n",
              "  "
            ],
            "text/plain": [
              "      feature       VIF\n",
              "0           f  1.942627\n",
              "1       alpha  6.557489\n",
              "2           c  3.254447\n",
              "3  U_infinity  7.148723\n",
              "4       delta  4.299617"
            ]
          },
          "metadata": {},
          "execution_count": 25
        }
      ],
      "source": [
        "#In the previous step we have tested the co-relation between each pair of variables but that still does not help us identify multi collinearity\n",
        "#which means that an variable can be a linear combination of more than 1 variable. So the VIF helps us identify the independant variables \n",
        "#that can be a very close approximation of a linear combination of more than 1 independant variable. We consider the threshold to be 5\n",
        "#.if VIF is more than 5, then we remove certain such variables. In the below we have 2 variables where VIF is > 5.\n",
        "#So in the pre-processing we will explore the pssibility where we can exclude U_infinity but the final decision will depend on the statistical evidence\n",
        "\n",
        "\n",
        "X = dataset[['f', 'alpha', 'c','U_infinity','delta']]\n",
        "  \n",
        "# VIF dataframe\n",
        "vif_data = pd.DataFrame()\n",
        "vif_data[\"feature\"] = X.columns\n",
        "  \n",
        "# calculating VIF for each feature\n",
        "vif_data[\"VIF\"] = [variance_inflation_factor(X.values, i)\n",
        "                          for i in range(len(X.columns))]\n",
        "\n",
        "vif_data"
      ]
    },
    {
      "cell_type": "markdown",
      "metadata": {
        "id": "v_93B7FsIS2d"
      },
      "source": [
        "Conclusions of Exploratory data Analysis\n",
        "\n",
        "1) outlier treatment is important for columns as some of the columns have outliers\n",
        "\n",
        "2) Missing value treatment is not required since there are no missing values\n",
        "\n",
        "3) One hot encoding is not required as there are no categorical variables\n",
        "\n",
        "4) Almost all the features are right skewed. Though we have this insight there is nothing we are going to do with this insight. However the target variable SSPL is left skewed\n",
        "\n",
        "5) Alpha and Delta have a high positive co-relation of 0.75. So one of these can be a candidate for excluding which we will decide in the feature selection stage using statistical metrics like adjusted R squared and p-value\n",
        "\n",
        "6) U_Infinity has a high VIF of 7.14. So it might be a possible feature to exclude which we will decide in feature selection stage using statistical metrics like adjusted R squared and p-value\n",
        "\n",
        "\n",
        "So above are some of the insights. "
      ]
    },
    {
      "cell_type": "raw",
      "metadata": {
        "id": "L5qme2gmIS2d"
      },
      "source": [
        "In the below cells we do the data pre-processing part"
      ]
    },
    {
      "cell_type": "markdown",
      "metadata": {
        "id": "LhgQzGK_IS2d"
      },
      "source": [
        "<h1>Data Pre-Processing</h1>"
      ]
    },
    {
      "cell_type": "markdown",
      "metadata": {
        "id": "ZtxU67CEIS2d"
      },
      "source": [
        "Data pre-Processing is a very important step because the data has to be as clean as possible so that our model can produce reliable results. following are the steps which we do in Data Pre-processing\n",
        "\n",
        "1) Outlier treatment using IQR technique. in this case it is required\n",
        "\n",
        "2) Missing Value treatment. This is not required in this case\n",
        "\n",
        "3) One hot encoding to treat categorical variables. This is not required in this case\n",
        "\n",
        "4) We need to scale all our features so that one feature is not dominant over other just because of its numerical magnitude. For this purpose many scalers are available. However we will use the min-max scaler here\n",
        "\n"
      ]
    },
    {
      "cell_type": "code",
      "execution_count": 12,
      "metadata": {
        "id": "-G5x3o5vIS2e"
      },
      "outputs": [],
      "source": [
        "#Here we perform the outlier treatment by replacing the outliers with either Q3+ 1.5 * IQR or Q1 - 1.5 * IQR . \n",
        "\n",
        "Q1 = dataset.quantile(0.25)\n",
        "Q3 = dataset.quantile(0.75)\n",
        "IQR = Q3 - Q1\n",
        "lower_limit=Q1-(1.5 * IQR)\n",
        "upper_limit=Q3+(1.5 * IQR)\n",
        "dataset.loc[dataset['f'] > upper_limit['f'],'f']=upper_limit['f']\n",
        "dataset.loc[dataset['f'] < lower_limit['f'],'f']=lower_limit['f']\n",
        "\n",
        "\n",
        "dataset.loc[dataset['alpha'] > upper_limit['alpha'],'alpha']=upper_limit['alpha']\n",
        "dataset.loc[dataset['alpha'] < lower_limit['alpha'],'alpha']=lower_limit['alpha']\n",
        "\n",
        "\n",
        "dataset.loc[dataset['c'] > upper_limit['c'],'c']=upper_limit['c']\n",
        "dataset.loc[dataset['c'] < lower_limit['c'],'c']=lower_limit['c']\n",
        "\n",
        "\n",
        "dataset.loc[dataset['U_infinity'] > upper_limit['U_infinity'],'U_infinity']=upper_limit['U_infinity']\n",
        "dataset.loc[dataset['U_infinity'] < lower_limit['U_infinity'],'U_infinity']=lower_limit['U_infinity']\n",
        "\n",
        "\n",
        "dataset.loc[dataset['delta'] > upper_limit['delta'],'delta']=upper_limit['delta']\n",
        "dataset.loc[dataset['delta'] < lower_limit['delta'],'delta']=lower_limit['delta']"
      ]
    },
    {
      "cell_type": "code",
      "execution_count": 13,
      "metadata": {
        "id": "ME-jK_QNIS2e"
      },
      "outputs": [],
      "source": [
        "#Here we are scaling all the variables between 0 and 1 by using a min-max scaler\n",
        "\n",
        "min_max_scaler = MinMaxScaler()\n",
        "dataset[[\"f\", \"alpha\",\"c\",\"U_infinity\",\"delta\",\"SSPL\"]] = min_max_scaler.fit_transform(dataset[[\"f\", \"alpha\",\"c\",\"U_infinity\",\"delta\",\"SSPL\"]])\n"
      ]
    },
    {
      "cell_type": "code",
      "execution_count": 14,
      "metadata": {
        "id": "Y3GtGxaMIS2e"
      },
      "outputs": [],
      "source": [
        "#Here we are removing the feature alpha as decided during the EDA phase due to high VIF and high postive co-relation with delta\n",
        "\n",
        "dataset=dataset[[\"f\",\"alpha\", \"c\",\"U_infinity\",\"delta\",\"SSPL\"]]"
      ]
    },
    {
      "cell_type": "code",
      "execution_count": 15,
      "metadata": {
        "colab": {
          "base_uri": "https://localhost:8080/",
          "height": 423
        },
        "id": "Oc360kTvIS2e",
        "outputId": "7bf2ff20-0694-4ef5-99bd-162309b1e0a9"
      },
      "outputs": [
        {
          "output_type": "execute_result",
          "data": {
            "text/plain": [
              "             f     alpha         c  U_infinity     delta      SSPL\n",
              "0     0.069767  0.000000  1.000000    1.000000  0.065139  0.606829\n",
              "1     0.093023  0.000000  1.000000    1.000000  0.065139  0.580238\n",
              "2     0.122093  0.000000  1.000000    1.000000  0.065139  0.600181\n",
              "3     0.162791  0.000000  1.000000    1.000000  0.065139  0.643790\n",
              "4     0.209302  0.000000  1.000000    1.000000  0.065139  0.640333\n",
              "...        ...       ...       ...         ...       ...       ...\n",
              "1498  0.267442  0.717241  0.272727    0.199495  1.000000  0.183051\n",
              "1499  0.343023  0.717241  0.272727    0.199495  1.000000  0.156194\n",
              "1500  0.441860  0.717241  0.272727    0.199495  1.000000  0.085729\n",
              "1501  0.558140  0.717241  0.272727    0.199495  1.000000  0.075624\n",
              "1502  0.709302  0.717241  0.272727    0.199495  1.000000  0.021911\n",
              "\n",
              "[1503 rows x 6 columns]"
            ],
            "text/html": [
              "\n",
              "  <div id=\"df-f7a281c7-bd33-40b7-98fa-83f5057d0cfd\">\n",
              "    <div class=\"colab-df-container\">\n",
              "      <div>\n",
              "<style scoped>\n",
              "    .dataframe tbody tr th:only-of-type {\n",
              "        vertical-align: middle;\n",
              "    }\n",
              "\n",
              "    .dataframe tbody tr th {\n",
              "        vertical-align: top;\n",
              "    }\n",
              "\n",
              "    .dataframe thead th {\n",
              "        text-align: right;\n",
              "    }\n",
              "</style>\n",
              "<table border=\"1\" class=\"dataframe\">\n",
              "  <thead>\n",
              "    <tr style=\"text-align: right;\">\n",
              "      <th></th>\n",
              "      <th>f</th>\n",
              "      <th>alpha</th>\n",
              "      <th>c</th>\n",
              "      <th>U_infinity</th>\n",
              "      <th>delta</th>\n",
              "      <th>SSPL</th>\n",
              "    </tr>\n",
              "  </thead>\n",
              "  <tbody>\n",
              "    <tr>\n",
              "      <th>0</th>\n",
              "      <td>0.069767</td>\n",
              "      <td>0.000000</td>\n",
              "      <td>1.000000</td>\n",
              "      <td>1.000000</td>\n",
              "      <td>0.065139</td>\n",
              "      <td>0.606829</td>\n",
              "    </tr>\n",
              "    <tr>\n",
              "      <th>1</th>\n",
              "      <td>0.093023</td>\n",
              "      <td>0.000000</td>\n",
              "      <td>1.000000</td>\n",
              "      <td>1.000000</td>\n",
              "      <td>0.065139</td>\n",
              "      <td>0.580238</td>\n",
              "    </tr>\n",
              "    <tr>\n",
              "      <th>2</th>\n",
              "      <td>0.122093</td>\n",
              "      <td>0.000000</td>\n",
              "      <td>1.000000</td>\n",
              "      <td>1.000000</td>\n",
              "      <td>0.065139</td>\n",
              "      <td>0.600181</td>\n",
              "    </tr>\n",
              "    <tr>\n",
              "      <th>3</th>\n",
              "      <td>0.162791</td>\n",
              "      <td>0.000000</td>\n",
              "      <td>1.000000</td>\n",
              "      <td>1.000000</td>\n",
              "      <td>0.065139</td>\n",
              "      <td>0.643790</td>\n",
              "    </tr>\n",
              "    <tr>\n",
              "      <th>4</th>\n",
              "      <td>0.209302</td>\n",
              "      <td>0.000000</td>\n",
              "      <td>1.000000</td>\n",
              "      <td>1.000000</td>\n",
              "      <td>0.065139</td>\n",
              "      <td>0.640333</td>\n",
              "    </tr>\n",
              "    <tr>\n",
              "      <th>...</th>\n",
              "      <td>...</td>\n",
              "      <td>...</td>\n",
              "      <td>...</td>\n",
              "      <td>...</td>\n",
              "      <td>...</td>\n",
              "      <td>...</td>\n",
              "    </tr>\n",
              "    <tr>\n",
              "      <th>1498</th>\n",
              "      <td>0.267442</td>\n",
              "      <td>0.717241</td>\n",
              "      <td>0.272727</td>\n",
              "      <td>0.199495</td>\n",
              "      <td>1.000000</td>\n",
              "      <td>0.183051</td>\n",
              "    </tr>\n",
              "    <tr>\n",
              "      <th>1499</th>\n",
              "      <td>0.343023</td>\n",
              "      <td>0.717241</td>\n",
              "      <td>0.272727</td>\n",
              "      <td>0.199495</td>\n",
              "      <td>1.000000</td>\n",
              "      <td>0.156194</td>\n",
              "    </tr>\n",
              "    <tr>\n",
              "      <th>1500</th>\n",
              "      <td>0.441860</td>\n",
              "      <td>0.717241</td>\n",
              "      <td>0.272727</td>\n",
              "      <td>0.199495</td>\n",
              "      <td>1.000000</td>\n",
              "      <td>0.085729</td>\n",
              "    </tr>\n",
              "    <tr>\n",
              "      <th>1501</th>\n",
              "      <td>0.558140</td>\n",
              "      <td>0.717241</td>\n",
              "      <td>0.272727</td>\n",
              "      <td>0.199495</td>\n",
              "      <td>1.000000</td>\n",
              "      <td>0.075624</td>\n",
              "    </tr>\n",
              "    <tr>\n",
              "      <th>1502</th>\n",
              "      <td>0.709302</td>\n",
              "      <td>0.717241</td>\n",
              "      <td>0.272727</td>\n",
              "      <td>0.199495</td>\n",
              "      <td>1.000000</td>\n",
              "      <td>0.021911</td>\n",
              "    </tr>\n",
              "  </tbody>\n",
              "</table>\n",
              "<p>1503 rows × 6 columns</p>\n",
              "</div>\n",
              "      <button class=\"colab-df-convert\" onclick=\"convertToInteractive('df-f7a281c7-bd33-40b7-98fa-83f5057d0cfd')\"\n",
              "              title=\"Convert this dataframe to an interactive table.\"\n",
              "              style=\"display:none;\">\n",
              "        \n",
              "  <svg xmlns=\"http://www.w3.org/2000/svg\" height=\"24px\"viewBox=\"0 0 24 24\"\n",
              "       width=\"24px\">\n",
              "    <path d=\"M0 0h24v24H0V0z\" fill=\"none\"/>\n",
              "    <path d=\"M18.56 5.44l.94 2.06.94-2.06 2.06-.94-2.06-.94-.94-2.06-.94 2.06-2.06.94zm-11 1L8.5 8.5l.94-2.06 2.06-.94-2.06-.94L8.5 2.5l-.94 2.06-2.06.94zm10 10l.94 2.06.94-2.06 2.06-.94-2.06-.94-.94-2.06-.94 2.06-2.06.94z\"/><path d=\"M17.41 7.96l-1.37-1.37c-.4-.4-.92-.59-1.43-.59-.52 0-1.04.2-1.43.59L10.3 9.45l-7.72 7.72c-.78.78-.78 2.05 0 2.83L4 21.41c.39.39.9.59 1.41.59.51 0 1.02-.2 1.41-.59l7.78-7.78 2.81-2.81c.8-.78.8-2.07 0-2.86zM5.41 20L4 18.59l7.72-7.72 1.47 1.35L5.41 20z\"/>\n",
              "  </svg>\n",
              "      </button>\n",
              "      \n",
              "  <style>\n",
              "    .colab-df-container {\n",
              "      display:flex;\n",
              "      flex-wrap:wrap;\n",
              "      gap: 12px;\n",
              "    }\n",
              "\n",
              "    .colab-df-convert {\n",
              "      background-color: #E8F0FE;\n",
              "      border: none;\n",
              "      border-radius: 50%;\n",
              "      cursor: pointer;\n",
              "      display: none;\n",
              "      fill: #1967D2;\n",
              "      height: 32px;\n",
              "      padding: 0 0 0 0;\n",
              "      width: 32px;\n",
              "    }\n",
              "\n",
              "    .colab-df-convert:hover {\n",
              "      background-color: #E2EBFA;\n",
              "      box-shadow: 0px 1px 2px rgba(60, 64, 67, 0.3), 0px 1px 3px 1px rgba(60, 64, 67, 0.15);\n",
              "      fill: #174EA6;\n",
              "    }\n",
              "\n",
              "    [theme=dark] .colab-df-convert {\n",
              "      background-color: #3B4455;\n",
              "      fill: #D2E3FC;\n",
              "    }\n",
              "\n",
              "    [theme=dark] .colab-df-convert:hover {\n",
              "      background-color: #434B5C;\n",
              "      box-shadow: 0px 1px 3px 1px rgba(0, 0, 0, 0.15);\n",
              "      filter: drop-shadow(0px 1px 2px rgba(0, 0, 0, 0.3));\n",
              "      fill: #FFFFFF;\n",
              "    }\n",
              "  </style>\n",
              "\n",
              "      <script>\n",
              "        const buttonEl =\n",
              "          document.querySelector('#df-f7a281c7-bd33-40b7-98fa-83f5057d0cfd button.colab-df-convert');\n",
              "        buttonEl.style.display =\n",
              "          google.colab.kernel.accessAllowed ? 'block' : 'none';\n",
              "\n",
              "        async function convertToInteractive(key) {\n",
              "          const element = document.querySelector('#df-f7a281c7-bd33-40b7-98fa-83f5057d0cfd');\n",
              "          const dataTable =\n",
              "            await google.colab.kernel.invokeFunction('convertToInteractive',\n",
              "                                                     [key], {});\n",
              "          if (!dataTable) return;\n",
              "\n",
              "          const docLinkHtml = 'Like what you see? Visit the ' +\n",
              "            '<a target=\"_blank\" href=https://colab.research.google.com/notebooks/data_table.ipynb>data table notebook</a>'\n",
              "            + ' to learn more about interactive tables.';\n",
              "          element.innerHTML = '';\n",
              "          dataTable['output_type'] = 'display_data';\n",
              "          await google.colab.output.renderOutput(dataTable, element);\n",
              "          const docLink = document.createElement('div');\n",
              "          docLink.innerHTML = docLinkHtml;\n",
              "          element.appendChild(docLink);\n",
              "        }\n",
              "      </script>\n",
              "    </div>\n",
              "  </div>\n",
              "  "
            ]
          },
          "metadata": {},
          "execution_count": 15
        }
      ],
      "source": [
        "dataset"
      ]
    },
    {
      "cell_type": "markdown",
      "metadata": {
        "id": "wqDZml1SIS2f"
      },
      "source": [
        "<h1>Feature Selection</h1>"
      ]
    },
    {
      "cell_type": "raw",
      "metadata": {
        "id": "UI2wWAIyIS2f"
      },
      "source": [
        "In the EDA phase we saw that either of (alpha or delta) and U_infinity were the possible candiates for elimination. \n",
        "However here we will produce a statistical evidence that a particular variable may be removed. \n",
        "\n",
        "We will use the adjusted R squared and p-value to evaluate\n",
        "\n",
        "Adjusted R squared talks about the % variation of the target explained by the independent variables. So higher the Adjusted R Squared, better it is\n",
        "\n",
        "p-value talks about the probability of null hypthesis is true. Here we will consider a 95 % confidence interval . So if p-value is < 0.05 then we will take the null hypothesis to be false. If not we will take the null hypothesis to be true\n",
        "\n",
        "   Null hypthesis -: independant variable does not play any role in determining the dependant variable\n",
        "   \n",
        "   Alternate Hypthesis -: Independant Variable plays a role in determining the dependant variable\n",
        "   \n",
        "\n",
        "So in the next 5 cells we will test the 5 combinations. \n",
        "\n",
        "combination 1 -: Exclude alpha and U_Infinity\n",
        "\n",
        "combination 2 -: Exclude delta and U_Infinity\n",
        "\n",
        "combination 3 -: Exclude  U_Infinity\n",
        "\n",
        "Combination 4 -: Exclude alpha\n",
        "\n",
        "combination 5 -: Exclude Delta\n",
        "\n",
        "\n",
        "\n"
      ]
    },
    {
      "cell_type": "code",
      "execution_count": null,
      "metadata": {
        "colab": {
          "base_uri": "https://localhost:8080/",
          "height": 486
        },
        "id": "nsvlzl3mIS2f",
        "outputId": "685a0014-4c3d-4ed9-9d80-80771308fdc8"
      },
      "outputs": [
        {
          "output_type": "execute_result",
          "data": {
            "text/html": [
              "<table class=\"simpletable\">\n",
              "<caption>OLS Regression Results</caption>\n",
              "<tr>\n",
              "  <th>Dep. Variable:</th>          <td>SSPL</td>       <th>  R-squared:         </th> <td>   0.459</td> \n",
              "</tr>\n",
              "<tr>\n",
              "  <th>Model:</th>                   <td>OLS</td>       <th>  Adj. R-squared:    </th> <td>   0.458</td> \n",
              "</tr>\n",
              "<tr>\n",
              "  <th>Method:</th>             <td>Least Squares</td>  <th>  F-statistic:       </th> <td>   424.5</td> \n",
              "</tr>\n",
              "<tr>\n",
              "  <th>Date:</th>             <td>Sat, 25 Dec 2021</td> <th>  Prob (F-statistic):</th> <td>1.40e-199</td>\n",
              "</tr>\n",
              "<tr>\n",
              "  <th>Time:</th>                 <td>19:49:31</td>     <th>  Log-Likelihood:    </th> <td>  878.87</td> \n",
              "</tr>\n",
              "<tr>\n",
              "  <th>No. Observations:</th>      <td>  1503</td>      <th>  AIC:               </th> <td>  -1750.</td> \n",
              "</tr>\n",
              "<tr>\n",
              "  <th>Df Residuals:</th>          <td>  1499</td>      <th>  BIC:               </th> <td>  -1728.</td> \n",
              "</tr>\n",
              "<tr>\n",
              "  <th>Df Model:</th>              <td>     3</td>      <th>                     </th>     <td> </td>    \n",
              "</tr>\n",
              "<tr>\n",
              "  <th>Covariance Type:</th>      <td>nonrobust</td>    <th>                     </th>     <td> </td>    \n",
              "</tr>\n",
              "</table>\n",
              "<table class=\"simpletable\">\n",
              "<tr>\n",
              "    <td></td>       <th>coef</th>     <th>std err</th>      <th>t</th>      <th>P>|t|</th>  <th>[0.025</th>    <th>0.975]</th>  \n",
              "</tr>\n",
              "<tr>\n",
              "  <th>const</th> <td>    0.8346</td> <td>    0.008</td> <td>   99.352</td> <td> 0.000</td> <td>    0.818</td> <td>    0.851</td>\n",
              "</tr>\n",
              "<tr>\n",
              "  <th>f</th>     <td>   -0.3428</td> <td>    0.012</td> <td>  -27.705</td> <td> 0.000</td> <td>   -0.367</td> <td>   -0.319</td>\n",
              "</tr>\n",
              "<tr>\n",
              "  <th>c</th>     <td>   -0.2003</td> <td>    0.011</td> <td>  -18.567</td> <td> 0.000</td> <td>   -0.221</td> <td>   -0.179</td>\n",
              "</tr>\n",
              "<tr>\n",
              "  <th>delta</th> <td>   -0.2990</td> <td>    0.012</td> <td>  -25.305</td> <td> 0.000</td> <td>   -0.322</td> <td>   -0.276</td>\n",
              "</tr>\n",
              "</table>\n",
              "<table class=\"simpletable\">\n",
              "<tr>\n",
              "  <th>Omnibus:</th>       <td>34.450</td> <th>  Durbin-Watson:     </th> <td>   0.349</td>\n",
              "</tr>\n",
              "<tr>\n",
              "  <th>Prob(Omnibus):</th> <td> 0.000</td> <th>  Jarque-Bera (JB):  </th> <td>  60.806</td>\n",
              "</tr>\n",
              "<tr>\n",
              "  <th>Skew:</th>          <td>-0.164</td> <th>  Prob(JB):          </th> <td>6.25e-14</td>\n",
              "</tr>\n",
              "<tr>\n",
              "  <th>Kurtosis:</th>      <td> 3.929</td> <th>  Cond. No.          </th> <td>    5.30</td>\n",
              "</tr>\n",
              "</table><br/><br/>Warnings:<br/>[1] Standard Errors assume that the covariance matrix of the errors is correctly specified."
            ],
            "text/plain": [
              "<class 'statsmodels.iolib.summary.Summary'>\n",
              "\"\"\"\n",
              "                            OLS Regression Results                            \n",
              "==============================================================================\n",
              "Dep. Variable:                   SSPL   R-squared:                       0.459\n",
              "Model:                            OLS   Adj. R-squared:                  0.458\n",
              "Method:                 Least Squares   F-statistic:                     424.5\n",
              "Date:                Sat, 25 Dec 2021   Prob (F-statistic):          1.40e-199\n",
              "Time:                        19:49:31   Log-Likelihood:                 878.87\n",
              "No. Observations:                1503   AIC:                            -1750.\n",
              "Df Residuals:                    1499   BIC:                            -1728.\n",
              "Df Model:                           3                                         \n",
              "Covariance Type:            nonrobust                                         \n",
              "==============================================================================\n",
              "                 coef    std err          t      P>|t|      [0.025      0.975]\n",
              "------------------------------------------------------------------------------\n",
              "const          0.8346      0.008     99.352      0.000       0.818       0.851\n",
              "f             -0.3428      0.012    -27.705      0.000      -0.367      -0.319\n",
              "c             -0.2003      0.011    -18.567      0.000      -0.221      -0.179\n",
              "delta         -0.2990      0.012    -25.305      0.000      -0.322      -0.276\n",
              "==============================================================================\n",
              "Omnibus:                       34.450   Durbin-Watson:                   0.349\n",
              "Prob(Omnibus):                  0.000   Jarque-Bera (JB):               60.806\n",
              "Skew:                          -0.164   Prob(JB):                     6.25e-14\n",
              "Kurtosis:                       3.929   Cond. No.                         5.30\n",
              "==============================================================================\n",
              "\n",
              "Warnings:\n",
              "[1] Standard Errors assume that the covariance matrix of the errors is correctly specified.\n",
              "\"\"\""
            ]
          },
          "metadata": {},
          "execution_count": 30
        }
      ],
      "source": [
        "X_dataset=dataset[[\"f\", \"c\",\"delta\"]]\n",
        "Y_dataset=dataset[[\"SSPL\"]]\n",
        "X_dataset = sm.add_constant(X_dataset)\n",
        "\n",
        "model = sm.OLS(Y_dataset, X_dataset).fit()\n",
        "\n",
        "model.summary()"
      ]
    },
    {
      "cell_type": "code",
      "execution_count": null,
      "metadata": {
        "colab": {
          "base_uri": "https://localhost:8080/",
          "height": 486
        },
        "id": "Hb4dP4YQIS2f",
        "outputId": "0ecffe50-2d56-4913-a186-e614c8f564e5"
      },
      "outputs": [
        {
          "output_type": "execute_result",
          "data": {
            "text/html": [
              "<table class=\"simpletable\">\n",
              "<caption>OLS Regression Results</caption>\n",
              "<tr>\n",
              "  <th>Dep. Variable:</th>          <td>SSPL</td>       <th>  R-squared:         </th> <td>   0.454</td> \n",
              "</tr>\n",
              "<tr>\n",
              "  <th>Model:</th>                   <td>OLS</td>       <th>  Adj. R-squared:    </th> <td>   0.453</td> \n",
              "</tr>\n",
              "<tr>\n",
              "  <th>Method:</th>             <td>Least Squares</td>  <th>  F-statistic:       </th> <td>   415.5</td> \n",
              "</tr>\n",
              "<tr>\n",
              "  <th>Date:</th>             <td>Sat, 25 Dec 2021</td> <th>  Prob (F-statistic):</th> <td>2.14e-196</td>\n",
              "</tr>\n",
              "<tr>\n",
              "  <th>Time:</th>                 <td>19:49:37</td>     <th>  Log-Likelihood:    </th> <td>  871.51</td> \n",
              "</tr>\n",
              "<tr>\n",
              "  <th>No. Observations:</th>      <td>  1503</td>      <th>  AIC:               </th> <td>  -1735.</td> \n",
              "</tr>\n",
              "<tr>\n",
              "  <th>Df Residuals:</th>          <td>  1499</td>      <th>  BIC:               </th> <td>  -1714.</td> \n",
              "</tr>\n",
              "<tr>\n",
              "  <th>Df Model:</th>              <td>     3</td>      <th>                     </th>     <td> </td>    \n",
              "</tr>\n",
              "<tr>\n",
              "  <th>Covariance Type:</th>      <td>nonrobust</td>    <th>                     </th>     <td> </td>    \n",
              "</tr>\n",
              "</table>\n",
              "<table class=\"simpletable\">\n",
              "<tr>\n",
              "    <td></td>       <th>coef</th>     <th>std err</th>      <th>t</th>      <th>P>|t|</th>  <th>[0.025</th>    <th>0.975]</th>  \n",
              "</tr>\n",
              "<tr>\n",
              "  <th>const</th> <td>    0.9118</td> <td>    0.011</td> <td>   84.716</td> <td> 0.000</td> <td>    0.891</td> <td>    0.933</td>\n",
              "</tr>\n",
              "<tr>\n",
              "  <th>f</th>     <td>   -0.3607</td> <td>    0.013</td> <td>  -28.510</td> <td> 0.000</td> <td>   -0.386</td> <td>   -0.336</td>\n",
              "</tr>\n",
              "<tr>\n",
              "  <th>alpha</th> <td>   -0.3925</td> <td>    0.016</td> <td>  -24.890</td> <td> 0.000</td> <td>   -0.423</td> <td>   -0.362</td>\n",
              "</tr>\n",
              "<tr>\n",
              "  <th>c</th>     <td>   -0.2887</td> <td>    0.012</td> <td>  -23.510</td> <td> 0.000</td> <td>   -0.313</td> <td>   -0.265</td>\n",
              "</tr>\n",
              "</table>\n",
              "<table class=\"simpletable\">\n",
              "<tr>\n",
              "  <th>Omnibus:</th>       <td>13.363</td> <th>  Durbin-Watson:     </th> <td>   0.346</td>\n",
              "</tr>\n",
              "<tr>\n",
              "  <th>Prob(Omnibus):</th> <td> 0.001</td> <th>  Jarque-Bera (JB):  </th> <td>  16.182</td>\n",
              "</tr>\n",
              "<tr>\n",
              "  <th>Skew:</th>          <td>-0.140</td> <th>  Prob(JB):          </th> <td>0.000306</td>\n",
              "</tr>\n",
              "<tr>\n",
              "  <th>Kurtosis:</th>      <td> 3.424</td> <th>  Cond. No.          </th> <td>    6.98</td>\n",
              "</tr>\n",
              "</table><br/><br/>Warnings:<br/>[1] Standard Errors assume that the covariance matrix of the errors is correctly specified."
            ],
            "text/plain": [
              "<class 'statsmodels.iolib.summary.Summary'>\n",
              "\"\"\"\n",
              "                            OLS Regression Results                            \n",
              "==============================================================================\n",
              "Dep. Variable:                   SSPL   R-squared:                       0.454\n",
              "Model:                            OLS   Adj. R-squared:                  0.453\n",
              "Method:                 Least Squares   F-statistic:                     415.5\n",
              "Date:                Sat, 25 Dec 2021   Prob (F-statistic):          2.14e-196\n",
              "Time:                        19:49:37   Log-Likelihood:                 871.51\n",
              "No. Observations:                1503   AIC:                            -1735.\n",
              "Df Residuals:                    1499   BIC:                            -1714.\n",
              "Df Model:                           3                                         \n",
              "Covariance Type:            nonrobust                                         \n",
              "==============================================================================\n",
              "                 coef    std err          t      P>|t|      [0.025      0.975]\n",
              "------------------------------------------------------------------------------\n",
              "const          0.9118      0.011     84.716      0.000       0.891       0.933\n",
              "f             -0.3607      0.013    -28.510      0.000      -0.386      -0.336\n",
              "alpha         -0.3925      0.016    -24.890      0.000      -0.423      -0.362\n",
              "c             -0.2887      0.012    -23.510      0.000      -0.313      -0.265\n",
              "==============================================================================\n",
              "Omnibus:                       13.363   Durbin-Watson:                   0.346\n",
              "Prob(Omnibus):                  0.001   Jarque-Bera (JB):               16.182\n",
              "Skew:                          -0.140   Prob(JB):                     0.000306\n",
              "Kurtosis:                       3.424   Cond. No.                         6.98\n",
              "==============================================================================\n",
              "\n",
              "Warnings:\n",
              "[1] Standard Errors assume that the covariance matrix of the errors is correctly specified.\n",
              "\"\"\""
            ]
          },
          "metadata": {},
          "execution_count": 31
        }
      ],
      "source": [
        "X_dataset=dataset[[\"f\",\"alpha\", \"c\"]]\n",
        "Y_dataset=dataset[[\"SSPL\"]]\n",
        "X_dataset = sm.add_constant(X_dataset)\n",
        "\n",
        "model = sm.OLS(Y_dataset, X_dataset).fit()\n",
        "\n",
        "model.summary()"
      ]
    },
    {
      "cell_type": "code",
      "execution_count": null,
      "metadata": {
        "colab": {
          "base_uri": "https://localhost:8080/",
          "height": 506
        },
        "id": "qjIOMzfYIS2g",
        "outputId": "7facbf98-f64d-4af2-db0c-c335b7b1e43f"
      },
      "outputs": [
        {
          "output_type": "execute_result",
          "data": {
            "text/html": [
              "<table class=\"simpletable\">\n",
              "<caption>OLS Regression Results</caption>\n",
              "<tr>\n",
              "  <th>Dep. Variable:</th>          <td>SSPL</td>       <th>  R-squared:         </th> <td>   0.481</td> \n",
              "</tr>\n",
              "<tr>\n",
              "  <th>Model:</th>                   <td>OLS</td>       <th>  Adj. R-squared:    </th> <td>   0.479</td> \n",
              "</tr>\n",
              "<tr>\n",
              "  <th>Method:</th>             <td>Least Squares</td>  <th>  F-statistic:       </th> <td>   346.4</td> \n",
              "</tr>\n",
              "<tr>\n",
              "  <th>Date:</th>             <td>Sat, 25 Dec 2021</td> <th>  Prob (F-statistic):</th> <td>3.39e-211</td>\n",
              "</tr>\n",
              "<tr>\n",
              "  <th>Time:</th>                 <td>19:49:40</td>     <th>  Log-Likelihood:    </th> <td>  908.87</td> \n",
              "</tr>\n",
              "<tr>\n",
              "  <th>No. Observations:</th>      <td>  1503</td>      <th>  AIC:               </th> <td>  -1808.</td> \n",
              "</tr>\n",
              "<tr>\n",
              "  <th>Df Residuals:</th>          <td>  1498</td>      <th>  BIC:               </th> <td>  -1781.</td> \n",
              "</tr>\n",
              "<tr>\n",
              "  <th>Df Model:</th>              <td>     4</td>      <th>                     </th>     <td> </td>    \n",
              "</tr>\n",
              "<tr>\n",
              "  <th>Covariance Type:</th>      <td>nonrobust</td>    <th>                     </th>     <td> </td>    \n",
              "</tr>\n",
              "</table>\n",
              "<table class=\"simpletable\">\n",
              "<tr>\n",
              "    <td></td>       <th>coef</th>     <th>std err</th>      <th>t</th>      <th>P>|t|</th>  <th>[0.025</th>    <th>0.975]</th>  \n",
              "</tr>\n",
              "<tr>\n",
              "  <th>const</th> <td>    0.8893</td> <td>    0.011</td> <td>   82.245</td> <td> 0.000</td> <td>    0.868</td> <td>    0.911</td>\n",
              "</tr>\n",
              "<tr>\n",
              "  <th>f</th>     <td>   -0.3606</td> <td>    0.012</td> <td>  -29.212</td> <td> 0.000</td> <td>   -0.385</td> <td>   -0.336</td>\n",
              "</tr>\n",
              "<tr>\n",
              "  <th>alpha</th> <td>   -0.2058</td> <td>    0.026</td> <td>   -7.811</td> <td> 0.000</td> <td>   -0.257</td> <td>   -0.154</td>\n",
              "</tr>\n",
              "<tr>\n",
              "  <th>c</th>     <td>   -0.2540</td> <td>    0.013</td> <td>  -20.131</td> <td> 0.000</td> <td>   -0.279</td> <td>   -0.229</td>\n",
              "</tr>\n",
              "<tr>\n",
              "  <th>delta</th> <td>   -0.1733</td> <td>    0.020</td> <td>   -8.738</td> <td> 0.000</td> <td>   -0.212</td> <td>   -0.134</td>\n",
              "</tr>\n",
              "</table>\n",
              "<table class=\"simpletable\">\n",
              "<tr>\n",
              "  <th>Omnibus:</th>       <td>24.231</td> <th>  Durbin-Watson:     </th> <td>   0.365</td>\n",
              "</tr>\n",
              "<tr>\n",
              "  <th>Prob(Omnibus):</th> <td> 0.000</td> <th>  Jarque-Bera (JB):  </th> <td>  37.431</td>\n",
              "</tr>\n",
              "<tr>\n",
              "  <th>Skew:</th>          <td>-0.142</td> <th>  Prob(JB):          </th> <td>7.45e-09</td>\n",
              "</tr>\n",
              "<tr>\n",
              "  <th>Kurtosis:</th>      <td> 3.719</td> <th>  Cond. No.          </th> <td>    11.6</td>\n",
              "</tr>\n",
              "</table><br/><br/>Warnings:<br/>[1] Standard Errors assume that the covariance matrix of the errors is correctly specified."
            ],
            "text/plain": [
              "<class 'statsmodels.iolib.summary.Summary'>\n",
              "\"\"\"\n",
              "                            OLS Regression Results                            \n",
              "==============================================================================\n",
              "Dep. Variable:                   SSPL   R-squared:                       0.481\n",
              "Model:                            OLS   Adj. R-squared:                  0.479\n",
              "Method:                 Least Squares   F-statistic:                     346.4\n",
              "Date:                Sat, 25 Dec 2021   Prob (F-statistic):          3.39e-211\n",
              "Time:                        19:49:40   Log-Likelihood:                 908.87\n",
              "No. Observations:                1503   AIC:                            -1808.\n",
              "Df Residuals:                    1498   BIC:                            -1781.\n",
              "Df Model:                           4                                         \n",
              "Covariance Type:            nonrobust                                         \n",
              "==============================================================================\n",
              "                 coef    std err          t      P>|t|      [0.025      0.975]\n",
              "------------------------------------------------------------------------------\n",
              "const          0.8893      0.011     82.245      0.000       0.868       0.911\n",
              "f             -0.3606      0.012    -29.212      0.000      -0.385      -0.336\n",
              "alpha         -0.2058      0.026     -7.811      0.000      -0.257      -0.154\n",
              "c             -0.2540      0.013    -20.131      0.000      -0.279      -0.229\n",
              "delta         -0.1733      0.020     -8.738      0.000      -0.212      -0.134\n",
              "==============================================================================\n",
              "Omnibus:                       24.231   Durbin-Watson:                   0.365\n",
              "Prob(Omnibus):                  0.000   Jarque-Bera (JB):               37.431\n",
              "Skew:                          -0.142   Prob(JB):                     7.45e-09\n",
              "Kurtosis:                       3.719   Cond. No.                         11.6\n",
              "==============================================================================\n",
              "\n",
              "Warnings:\n",
              "[1] Standard Errors assume that the covariance matrix of the errors is correctly specified.\n",
              "\"\"\""
            ]
          },
          "metadata": {},
          "execution_count": 32
        }
      ],
      "source": [
        "X_dataset=dataset[[\"f\",\"alpha\", \"c\",\"delta\"]]\n",
        "Y_dataset=dataset[[\"SSPL\"]]\n",
        "X_dataset = sm.add_constant(X_dataset)\n",
        "\n",
        "model = sm.OLS(Y_dataset, X_dataset).fit()\n",
        "\n",
        "model.summary()"
      ]
    },
    {
      "cell_type": "code",
      "execution_count": null,
      "metadata": {
        "colab": {
          "base_uri": "https://localhost:8080/",
          "height": 506
        },
        "id": "a5QIFebgIS2g",
        "outputId": "9b2c853b-3dc1-4883-8106-2afbbab5dc07"
      },
      "outputs": [
        {
          "output_type": "execute_result",
          "data": {
            "text/html": [
              "<table class=\"simpletable\">\n",
              "<caption>OLS Regression Results</caption>\n",
              "<tr>\n",
              "  <th>Dep. Variable:</th>          <td>SSPL</td>       <th>  R-squared:         </th> <td>   0.498</td> \n",
              "</tr>\n",
              "<tr>\n",
              "  <th>Model:</th>                   <td>OLS</td>       <th>  Adj. R-squared:    </th> <td>   0.497</td> \n",
              "</tr>\n",
              "<tr>\n",
              "  <th>Method:</th>             <td>Least Squares</td>  <th>  F-statistic:       </th> <td>   371.8</td> \n",
              "</tr>\n",
              "<tr>\n",
              "  <th>Date:</th>             <td>Sat, 25 Dec 2021</td> <th>  Prob (F-statistic):</th> <td>1.82e-222</td>\n",
              "</tr>\n",
              "<tr>\n",
              "  <th>Time:</th>                 <td>19:49:42</td>     <th>  Log-Likelihood:    </th> <td>  934.94</td> \n",
              "</tr>\n",
              "<tr>\n",
              "  <th>No. Observations:</th>      <td>  1503</td>      <th>  AIC:               </th> <td>  -1860.</td> \n",
              "</tr>\n",
              "<tr>\n",
              "  <th>Df Residuals:</th>          <td>  1498</td>      <th>  BIC:               </th> <td>  -1833.</td> \n",
              "</tr>\n",
              "<tr>\n",
              "  <th>Df Model:</th>              <td>     4</td>      <th>                     </th>     <td> </td>    \n",
              "</tr>\n",
              "<tr>\n",
              "  <th>Covariance Type:</th>      <td>nonrobust</td>    <th>                     </th>     <td> </td>    \n",
              "</tr>\n",
              "</table>\n",
              "<table class=\"simpletable\">\n",
              "<tr>\n",
              "       <td></td>         <th>coef</th>     <th>std err</th>      <th>t</th>      <th>P>|t|</th>  <th>[0.025</th>    <th>0.975]</th>  \n",
              "</tr>\n",
              "<tr>\n",
              "  <th>const</th>      <td>    0.7966</td> <td>    0.009</td> <td>   90.207</td> <td> 0.000</td> <td>    0.779</td> <td>    0.814</td>\n",
              "</tr>\n",
              "<tr>\n",
              "  <th>f</th>          <td>   -0.3590</td> <td>    0.012</td> <td>  -29.868</td> <td> 0.000</td> <td>   -0.383</td> <td>   -0.335</td>\n",
              "</tr>\n",
              "<tr>\n",
              "  <th>c</th>          <td>   -0.2019</td> <td>    0.010</td> <td>  -19.423</td> <td> 0.000</td> <td>   -0.222</td> <td>   -0.182</td>\n",
              "</tr>\n",
              "<tr>\n",
              "  <th>U_infinity</th> <td>    0.0927</td> <td>    0.009</td> <td>   10.773</td> <td> 0.000</td> <td>    0.076</td> <td>    0.110</td>\n",
              "</tr>\n",
              "<tr>\n",
              "  <th>delta</th>      <td>   -0.3043</td> <td>    0.011</td> <td>  -26.704</td> <td> 0.000</td> <td>   -0.327</td> <td>   -0.282</td>\n",
              "</tr>\n",
              "</table>\n",
              "<table class=\"simpletable\">\n",
              "<tr>\n",
              "  <th>Omnibus:</th>       <td>49.535</td> <th>  Durbin-Watson:     </th> <td>   0.364</td>\n",
              "</tr>\n",
              "<tr>\n",
              "  <th>Prob(Omnibus):</th> <td> 0.000</td> <th>  Jarque-Bera (JB):  </th> <td>  99.384</td>\n",
              "</tr>\n",
              "<tr>\n",
              "  <th>Skew:</th>          <td>-0.208</td> <th>  Prob(JB):          </th> <td>2.62e-22</td>\n",
              "</tr>\n",
              "<tr>\n",
              "  <th>Kurtosis:</th>      <td> 4.189</td> <th>  Cond. No.          </th> <td>    5.79</td>\n",
              "</tr>\n",
              "</table><br/><br/>Warnings:<br/>[1] Standard Errors assume that the covariance matrix of the errors is correctly specified."
            ],
            "text/plain": [
              "<class 'statsmodels.iolib.summary.Summary'>\n",
              "\"\"\"\n",
              "                            OLS Regression Results                            \n",
              "==============================================================================\n",
              "Dep. Variable:                   SSPL   R-squared:                       0.498\n",
              "Model:                            OLS   Adj. R-squared:                  0.497\n",
              "Method:                 Least Squares   F-statistic:                     371.8\n",
              "Date:                Sat, 25 Dec 2021   Prob (F-statistic):          1.82e-222\n",
              "Time:                        19:49:42   Log-Likelihood:                 934.94\n",
              "No. Observations:                1503   AIC:                            -1860.\n",
              "Df Residuals:                    1498   BIC:                            -1833.\n",
              "Df Model:                           4                                         \n",
              "Covariance Type:            nonrobust                                         \n",
              "==============================================================================\n",
              "                 coef    std err          t      P>|t|      [0.025      0.975]\n",
              "------------------------------------------------------------------------------\n",
              "const          0.7966      0.009     90.207      0.000       0.779       0.814\n",
              "f             -0.3590      0.012    -29.868      0.000      -0.383      -0.335\n",
              "c             -0.2019      0.010    -19.423      0.000      -0.222      -0.182\n",
              "U_infinity     0.0927      0.009     10.773      0.000       0.076       0.110\n",
              "delta         -0.3043      0.011    -26.704      0.000      -0.327      -0.282\n",
              "==============================================================================\n",
              "Omnibus:                       49.535   Durbin-Watson:                   0.364\n",
              "Prob(Omnibus):                  0.000   Jarque-Bera (JB):               99.384\n",
              "Skew:                          -0.208   Prob(JB):                     2.62e-22\n",
              "Kurtosis:                       4.189   Cond. No.                         5.79\n",
              "==============================================================================\n",
              "\n",
              "Warnings:\n",
              "[1] Standard Errors assume that the covariance matrix of the errors is correctly specified.\n",
              "\"\"\""
            ]
          },
          "metadata": {},
          "execution_count": 33
        }
      ],
      "source": [
        "X_dataset=dataset[[\"f\", \"c\",\"U_infinity\",\"delta\"]]\n",
        "Y_dataset=dataset[[\"SSPL\"]]\n",
        "X_dataset = sm.add_constant(X_dataset)\n",
        "\n",
        "model = sm.OLS(Y_dataset, X_dataset).fit()\n",
        "\n",
        "model.summary()"
      ]
    },
    {
      "cell_type": "code",
      "execution_count": null,
      "metadata": {
        "colab": {
          "base_uri": "https://localhost:8080/",
          "height": 506
        },
        "id": "VaCkP8LfIS2g",
        "outputId": "848dcdab-ed25-48c4-feeb-51d3f33eb1c9"
      },
      "outputs": [
        {
          "output_type": "execute_result",
          "data": {
            "text/html": [
              "<table class=\"simpletable\">\n",
              "<caption>OLS Regression Results</caption>\n",
              "<tr>\n",
              "  <th>Dep. Variable:</th>          <td>SSPL</td>       <th>  R-squared:         </th> <td>   0.508</td> \n",
              "</tr>\n",
              "<tr>\n",
              "  <th>Model:</th>                   <td>OLS</td>       <th>  Adj. R-squared:    </th> <td>   0.506</td> \n",
              "</tr>\n",
              "<tr>\n",
              "  <th>Method:</th>             <td>Least Squares</td>  <th>  F-statistic:       </th> <td>   386.1</td> \n",
              "</tr>\n",
              "<tr>\n",
              "  <th>Date:</th>             <td>Sat, 25 Dec 2021</td> <th>  Prob (F-statistic):</th> <td>1.35e-228</td>\n",
              "</tr>\n",
              "<tr>\n",
              "  <th>Time:</th>                 <td>19:49:44</td>     <th>  Log-Likelihood:    </th> <td>  949.12</td> \n",
              "</tr>\n",
              "<tr>\n",
              "  <th>No. Observations:</th>      <td>  1503</td>      <th>  AIC:               </th> <td>  -1888.</td> \n",
              "</tr>\n",
              "<tr>\n",
              "  <th>Df Residuals:</th>          <td>  1498</td>      <th>  BIC:               </th> <td>  -1862.</td> \n",
              "</tr>\n",
              "<tr>\n",
              "  <th>Df Model:</th>              <td>     4</td>      <th>                     </th>     <td> </td>    \n",
              "</tr>\n",
              "<tr>\n",
              "  <th>Covariance Type:</th>      <td>nonrobust</td>    <th>                     </th>     <td> </td>    \n",
              "</tr>\n",
              "</table>\n",
              "<table class=\"simpletable\">\n",
              "<tr>\n",
              "       <td></td>         <th>coef</th>     <th>std err</th>      <th>t</th>      <th>P>|t|</th>  <th>[0.025</th>    <th>0.975]</th>  \n",
              "</tr>\n",
              "<tr>\n",
              "  <th>const</th>      <td>    0.8760</td> <td>    0.011</td> <td>   82.620</td> <td> 0.000</td> <td>    0.855</td> <td>    0.897</td>\n",
              "</tr>\n",
              "<tr>\n",
              "  <th>f</th>          <td>   -0.3836</td> <td>    0.012</td> <td>  -31.565</td> <td> 0.000</td> <td>   -0.407</td> <td>   -0.360</td>\n",
              "</tr>\n",
              "<tr>\n",
              "  <th>alpha</th>      <td>   -0.4144</td> <td>    0.015</td> <td>  -27.481</td> <td> 0.000</td> <td>   -0.444</td> <td>   -0.385</td>\n",
              "</tr>\n",
              "<tr>\n",
              "  <th>c</th>          <td>   -0.2980</td> <td>    0.012</td> <td>  -25.499</td> <td> 0.000</td> <td>   -0.321</td> <td>   -0.275</td>\n",
              "</tr>\n",
              "<tr>\n",
              "  <th>U_infinity</th> <td>    0.1094</td> <td>    0.009</td> <td>   12.766</td> <td> 0.000</td> <td>    0.093</td> <td>    0.126</td>\n",
              "</tr>\n",
              "</table>\n",
              "<table class=\"simpletable\">\n",
              "<tr>\n",
              "  <th>Omnibus:</th>       <td>16.932</td> <th>  Durbin-Watson:     </th> <td>   0.372</td>\n",
              "</tr>\n",
              "<tr>\n",
              "  <th>Prob(Omnibus):</th> <td> 0.000</td> <th>  Jarque-Bera (JB):  </th> <td>  23.139</td>\n",
              "</tr>\n",
              "<tr>\n",
              "  <th>Skew:</th>          <td>-0.129</td> <th>  Prob(JB):          </th> <td>9.45e-06</td>\n",
              "</tr>\n",
              "<tr>\n",
              "  <th>Kurtosis:</th>      <td> 3.551</td> <th>  Cond. No.          </th> <td>    7.63</td>\n",
              "</tr>\n",
              "</table><br/><br/>Warnings:<br/>[1] Standard Errors assume that the covariance matrix of the errors is correctly specified."
            ],
            "text/plain": [
              "<class 'statsmodels.iolib.summary.Summary'>\n",
              "\"\"\"\n",
              "                            OLS Regression Results                            \n",
              "==============================================================================\n",
              "Dep. Variable:                   SSPL   R-squared:                       0.508\n",
              "Model:                            OLS   Adj. R-squared:                  0.506\n",
              "Method:                 Least Squares   F-statistic:                     386.1\n",
              "Date:                Sat, 25 Dec 2021   Prob (F-statistic):          1.35e-228\n",
              "Time:                        19:49:44   Log-Likelihood:                 949.12\n",
              "No. Observations:                1503   AIC:                            -1888.\n",
              "Df Residuals:                    1498   BIC:                            -1862.\n",
              "Df Model:                           4                                         \n",
              "Covariance Type:            nonrobust                                         \n",
              "==============================================================================\n",
              "                 coef    std err          t      P>|t|      [0.025      0.975]\n",
              "------------------------------------------------------------------------------\n",
              "const          0.8760      0.011     82.620      0.000       0.855       0.897\n",
              "f             -0.3836      0.012    -31.565      0.000      -0.407      -0.360\n",
              "alpha         -0.4144      0.015    -27.481      0.000      -0.444      -0.385\n",
              "c             -0.2980      0.012    -25.499      0.000      -0.321      -0.275\n",
              "U_infinity     0.1094      0.009     12.766      0.000       0.093       0.126\n",
              "==============================================================================\n",
              "Omnibus:                       16.932   Durbin-Watson:                   0.372\n",
              "Prob(Omnibus):                  0.000   Jarque-Bera (JB):               23.139\n",
              "Skew:                          -0.129   Prob(JB):                     9.45e-06\n",
              "Kurtosis:                       3.551   Cond. No.                         7.63\n",
              "==============================================================================\n",
              "\n",
              "Warnings:\n",
              "[1] Standard Errors assume that the covariance matrix of the errors is correctly specified.\n",
              "\"\"\""
            ]
          },
          "metadata": {},
          "execution_count": 34
        }
      ],
      "source": [
        "X_dataset=dataset[[\"f\",\"alpha\",\"c\",\"U_infinity\"]]\n",
        "Y_dataset=dataset[[\"SSPL\"]]\n",
        "X_dataset = sm.add_constant(X_dataset)\n",
        "\n",
        "model = sm.OLS(Y_dataset, X_dataset).fit()\n",
        "\n",
        "model.summary()"
      ]
    },
    {
      "cell_type": "markdown",
      "metadata": {
        "id": "WzEEMyY3IS2g"
      },
      "source": [
        "The conclusion of the feature selection is that out of all 5 combinations, combination 5 is giving the highest adjusted R squared and in all combinations p-value is always 0 which means that null hypothesis can always be rejected here and all the variables are important. However out of all combinations we will go with combination 5 which is showing the highest adjusted R squared. So delta is column which we will exclude while building the model"
      ]
    },
    {
      "cell_type": "markdown",
      "metadata": {
        "id": "75CmsSgtIS2g"
      },
      "source": [
        "<h1>Building The Model and Evaluation</h1>"
      ]
    },
    {
      "cell_type": "markdown",
      "metadata": {
        "id": "xR2uzVF_IS2g"
      },
      "source": [
        "As a first step, we eliminate the feature delta as per the statistical evidence in the previous step\n",
        "\n",
        "Then we apply 3 models using scikit learn. \n",
        "\n",
        "The first one is the linear Regression Using Least Squares which would give a closed form solution\n",
        "\n",
        "The 2nd model is the ridge regression which is regression with ridge regularization used. This uses gradient descent\n",
        "\n",
        "The 3rd model is the lasso regression which is regression with lasso regularization used. This uses gradient descent\n",
        "\n",
        "We have experimented the above 3 models with the following values of train test split\n",
        "\n",
        "80-20\n",
        "70-30\n",
        "90-10\n",
        "\n",
        "\n",
        "For ridge regression and lasso regression we are considering the maximum number of iterations as 100000. We have experimented other values as well and this is optimal. As in we started with 1000 iterations and kept increasing slightly it which was leading to the reduction of RMSE as expected. However beyond 100000, there was no change \n",
        "\n",
        "For ridge regression and lasso regression, we have taken the regularization parameter as 0.00000000000001. We have experimented with other values and finally arrived at it as we found it to be optimal\n",
        "\n",
        "\n"
      ]
    },
    {
      "cell_type": "code",
      "execution_count": null,
      "metadata": {
        "id": "zFLlBFQiIS2h"
      },
      "outputs": [],
      "source": [
        "#Here we are eliminating the column delta as per the statistical evidence in the previous step\n",
        "\n",
        "X_dataset=dataset[[\"f\",\"alpha\", \"c\",\"U_infinity\"]]\n",
        "Y_dataset=dataset[[\"SSPL\"]]"
      ]
    },
    {
      "cell_type": "code",
      "execution_count": null,
      "metadata": {
        "colab": {
          "base_uri": "https://localhost:8080/"
        },
        "id": "fWxAwIJrIS2h",
        "outputId": "050b75e4-4bf0-4bae-a8f8-116fa3843f40"
      },
      "outputs": [
        {
          "output_type": "stream",
          "name": "stdout",
          "text": [
            "Mean Absolute Error for Ordinary least square regression without regularization: 0.09923913767298431\n",
            "Mean Squared Error for Ordinary least square regression without regularization: 0.016560954326038473\n",
            "Root Mean Squared Error for Ordinary least square regression without regularization: 0.1286893714571583\n",
            "            0         0\n",
            "0           f -0.387041\n",
            "1       alpha -0.413187\n",
            "2           c -0.290882\n",
            "3  U_infinity  0.122486\n",
            "intercept is \n",
            "[0.86157219]\n",
            "\n",
            "\n",
            "\n",
            "\n",
            "Mean Absolute Error for linear regression with ridge regularization: 0.09923913767298434\n",
            "Mean Squared Error for linear regression with ridge regularization: 0.01656095432603848\n",
            "Root Mean Squared Error for linear regression with ridge regularization: 0.12868937145715834\n",
            "            0         0\n",
            "0           f -0.387041\n",
            "1       alpha -0.413187\n",
            "2           c -0.290882\n",
            "3  U_infinity  0.122486\n",
            "intercept is \n",
            "[0.86157219]\n",
            "\n",
            "\n",
            "\n",
            "\n",
            "Mean Absolute Error for linear regression with lasso regularization: 0.09923913767299301\n",
            "Mean Squared Error for linear regression with lasso regularization: 0.016560954326037977\n",
            "Root Mean Squared Error for linear regression with lasso regularization: 0.1286893714571564\n",
            "            0         0\n",
            "0           f -0.387041\n",
            "1       alpha -0.413187\n",
            "2           c -0.290882\n",
            "3  U_infinity  0.122486\n",
            "intercept is \n",
            "[0.86157219]\n"
          ]
        }
      ],
      "source": [
        "X_dataset_train,X_dataset_test,Y_dataset_train,Y_dataset_test=train_test_split(X_dataset,Y_dataset,train_size=0.7,random_state=3)\n",
        "\n",
        "OLS = LinearRegression()\n",
        "OLS_model=OLS.fit(X_dataset_train,Y_dataset_train)\n",
        "Y_dataset_predict_OLS=OLS_model.predict(X_dataset_test)\n",
        "\n",
        "print('Mean Absolute Error for Ordinary least square regression without regularization:', metrics.mean_absolute_error(Y_dataset_test, Y_dataset_predict_OLS))  \n",
        "print('Mean Squared Error for Ordinary least square regression without regularization:', metrics.mean_squared_error(Y_dataset_test,Y_dataset_predict_OLS))  \n",
        "print('Root Mean Squared Error for Ordinary least square regression without regularization:', np.sqrt(metrics.mean_squared_error(Y_dataset_test, Y_dataset_predict_OLS)))\n",
        "print(pd.concat([pd.DataFrame(X_dataset.columns),pd.DataFrame(np.transpose(OLS_model.coef_))], axis = 1))\n",
        "print('intercept is ')\n",
        "print( OLS_model.intercept_)\n",
        "print('\\n\\n\\n')\n",
        "ridge_model = Ridge(alpha=0.00000000000001,max_iter=100000)\n",
        "Ridge_regression_model=ridge_model.fit(X_dataset_train,Y_dataset_train)\n",
        "Y_dataset_predict_Ridge=Ridge_regression_model.predict(X_dataset_test)\n",
        "\n",
        "print('Mean Absolute Error for linear regression with ridge regularization:', metrics.mean_absolute_error(Y_dataset_test, Y_dataset_predict_Ridge))  \n",
        "print('Mean Squared Error for linear regression with ridge regularization:', metrics.mean_squared_error(Y_dataset_test,Y_dataset_predict_Ridge))  \n",
        "print('Root Mean Squared Error for linear regression with ridge regularization:', np.sqrt(metrics.mean_squared_error(Y_dataset_test, Y_dataset_predict_Ridge)))\n",
        "print(pd.concat([pd.DataFrame(X_dataset.columns),pd.DataFrame(np.transpose(Ridge_regression_model.coef_))], axis = 1))\n",
        "print('intercept is ')\n",
        "print( OLS_model.intercept_)\n",
        "print('\\n\\n\\n')\n",
        "lasso_model = linear_model.Lasso(alpha=0.00000000000001,max_iter=100000)\n",
        "lasso_regression_model=lasso_model.fit(X_dataset_train,Y_dataset_train)\n",
        "Y_dataset_predict_lasso=lasso_regression_model.predict(X_dataset_test)\n",
        "\n",
        "print('Mean Absolute Error for linear regression with lasso regularization:', metrics.mean_absolute_error(Y_dataset_test, Y_dataset_predict_lasso))  \n",
        "print('Mean Squared Error for linear regression with lasso regularization:', metrics.mean_squared_error(Y_dataset_test,Y_dataset_predict_lasso))  \n",
        "print('Root Mean Squared Error for linear regression with lasso regularization:', np.sqrt(metrics.mean_squared_error(Y_dataset_test, Y_dataset_predict_lasso)))\n",
        "print(pd.concat([pd.DataFrame(X_dataset.columns),pd.DataFrame(np.transpose(lasso_regression_model.coef_))], axis = 1))\n",
        "print('intercept is ')\n",
        "print(lasso_regression_model.intercept_)"
      ]
    },
    {
      "cell_type": "code",
      "execution_count": null,
      "metadata": {
        "colab": {
          "base_uri": "https://localhost:8080/"
        },
        "id": "q8MnTAXNIS2h",
        "outputId": "95b840e9-d56f-4330-89c0-46272b7034fe"
      },
      "outputs": [
        {
          "output_type": "stream",
          "name": "stdout",
          "text": [
            "Mean Absolute Error for Ordinary least square regression without regularization: 0.09624656735949712\n",
            "Mean Squared Error for Ordinary least square regression without regularization: 0.014956939268900857\n",
            "Root Mean Squared Error for Ordinary least square regression without regularization: 0.12229856609503179\n",
            "            0         0\n",
            "0           f -0.382614\n",
            "1       alpha -0.403610\n",
            "2           c -0.293672\n",
            "3  U_infinity  0.116310\n",
            "intercept is \n",
            "[0.86413243]\n",
            "\n",
            "\n",
            "\n",
            "\n",
            "Mean Absolute Error for linear regression with ridge regularization: 0.09624656735949709\n",
            "Mean Squared Error for linear regression with ridge regularization: 0.014956939268900854\n",
            "Root Mean Squared Error for linear regression with ridge regularization: 0.12229856609503177\n",
            "            0         0\n",
            "0           f -0.382614\n",
            "1       alpha -0.403610\n",
            "2           c -0.293672\n",
            "3  U_infinity  0.116310\n",
            "intercept is \n",
            "[0.86413243]\n",
            "\n",
            "\n",
            "\n",
            "\n",
            "Mean Absolute Error for linear regression with lasso regularization: 0.09624656735950829\n",
            "Mean Squared Error for linear regression with lasso regularization: 0.014956939268901818\n",
            "Root Mean Squared Error for linear regression with lasso regularization: 0.12229856609503571\n",
            "            0         0\n",
            "0           f -0.382614\n",
            "1       alpha -0.403610\n",
            "2           c -0.293672\n",
            "3  U_infinity  0.116310\n",
            "intercept is \n",
            "[0.86413243]\n"
          ]
        }
      ],
      "source": [
        "X_dataset_train,X_dataset_test,Y_dataset_train,Y_dataset_test=train_test_split(X_dataset,Y_dataset,train_size=0.8,random_state=3)\n",
        "\n",
        "OLS = LinearRegression()\n",
        "OLS_model=OLS.fit(X_dataset_train,Y_dataset_train)\n",
        "Y_dataset_predict_OLS=OLS_model.predict(X_dataset_test)\n",
        "\n",
        "print('Mean Absolute Error for Ordinary least square regression without regularization:', metrics.mean_absolute_error(Y_dataset_test, Y_dataset_predict_OLS))  \n",
        "print('Mean Squared Error for Ordinary least square regression without regularization:', metrics.mean_squared_error(Y_dataset_test,Y_dataset_predict_OLS))  \n",
        "print('Root Mean Squared Error for Ordinary least square regression without regularization:', np.sqrt(metrics.mean_squared_error(Y_dataset_test, Y_dataset_predict_OLS)))\n",
        "print(pd.concat([pd.DataFrame(X_dataset.columns),pd.DataFrame(np.transpose(OLS_model.coef_))], axis = 1))\n",
        "print('intercept is ')\n",
        "print( OLS_model.intercept_)\n",
        "print('\\n\\n\\n')\n",
        "ridge_model = Ridge(alpha=0.00000000000001,max_iter=100000)\n",
        "Ridge_regression_model=ridge_model.fit(X_dataset_train,Y_dataset_train)\n",
        "Y_dataset_predict_Ridge=Ridge_regression_model.predict(X_dataset_test)\n",
        "\n",
        "print('Mean Absolute Error for linear regression with ridge regularization:', metrics.mean_absolute_error(Y_dataset_test, Y_dataset_predict_Ridge))  \n",
        "print('Mean Squared Error for linear regression with ridge regularization:', metrics.mean_squared_error(Y_dataset_test,Y_dataset_predict_Ridge))  \n",
        "print('Root Mean Squared Error for linear regression with ridge regularization:', np.sqrt(metrics.mean_squared_error(Y_dataset_test, Y_dataset_predict_Ridge)))\n",
        "print(pd.concat([pd.DataFrame(X_dataset.columns),pd.DataFrame(np.transpose(Ridge_regression_model.coef_))], axis = 1))\n",
        "print('intercept is ')\n",
        "print( OLS_model.intercept_)\n",
        "print('\\n\\n\\n')\n",
        "lasso_model = linear_model.Lasso(alpha=0.00000000000001,max_iter=100000)\n",
        "lasso_regression_model=lasso_model.fit(X_dataset_train,Y_dataset_train)\n",
        "Y_dataset_predict_lasso=lasso_regression_model.predict(X_dataset_test)\n",
        "\n",
        "print('Mean Absolute Error for linear regression with lasso regularization:', metrics.mean_absolute_error(Y_dataset_test, Y_dataset_predict_lasso))  \n",
        "print('Mean Squared Error for linear regression with lasso regularization:', metrics.mean_squared_error(Y_dataset_test,Y_dataset_predict_lasso))  \n",
        "print('Root Mean Squared Error for linear regression with lasso regularization:', np.sqrt(metrics.mean_squared_error(Y_dataset_test, Y_dataset_predict_lasso)))\n",
        "print(pd.concat([pd.DataFrame(X_dataset.columns),pd.DataFrame(np.transpose(lasso_regression_model.coef_))], axis = 1))\n",
        "print('intercept is ')\n",
        "print(lasso_regression_model.intercept_)"
      ]
    },
    {
      "cell_type": "code",
      "execution_count": null,
      "metadata": {
        "colab": {
          "base_uri": "https://localhost:8080/"
        },
        "id": "J7KHHocKIS2h",
        "outputId": "1f56c7fa-615f-458e-a36d-47dcb27ba539"
      },
      "outputs": [
        {
          "output_type": "stream",
          "name": "stdout",
          "text": [
            "Mean Absolute Error for Ordinary least square regression without regularization: 0.1011162601098929\n",
            "Mean Squared Error for Ordinary least square regression without regularization: 0.01586350396236597\n",
            "Root Mean Squared Error for Ordinary least square regression without regularization: 0.12595040278762895\n",
            "            0         0\n",
            "0           f -0.382576\n",
            "1       alpha -0.406946\n",
            "2           c -0.293634\n",
            "3  U_infinity  0.112267\n",
            "intercept is \n",
            "[0.87013003]\n",
            "\n",
            "\n",
            "\n",
            "\n",
            "Mean Absolute Error for linear regression with ridge regularization: 0.10111626010989289\n",
            "Mean Squared Error for linear regression with ridge regularization: 0.015863503962365966\n",
            "Root Mean Squared Error for linear regression with ridge regularization: 0.12595040278762892\n",
            "            0         0\n",
            "0           f -0.382576\n",
            "1       alpha -0.406946\n",
            "2           c -0.293634\n",
            "3  U_infinity  0.112267\n",
            "intercept is \n",
            "[0.87013003]\n",
            "\n",
            "\n",
            "\n",
            "\n",
            "Mean Absolute Error for linear regression with lasso regularization: 0.10111626010990604\n",
            "Mean Squared Error for linear regression with lasso regularization: 0.015863503962367954\n",
            "Root Mean Squared Error for linear regression with lasso regularization: 0.12595040278763683\n",
            "            0         0\n",
            "0           f -0.382576\n",
            "1       alpha -0.406946\n",
            "2           c -0.293634\n",
            "3  U_infinity  0.112267\n",
            "intercept is \n",
            "[0.87013003]\n"
          ]
        }
      ],
      "source": [
        "X_dataset_train,X_dataset_test,Y_dataset_train,Y_dataset_test=train_test_split(X_dataset,Y_dataset,train_size=0.9,random_state=3)\n",
        "\n",
        "OLS = LinearRegression()\n",
        "OLS_model=OLS.fit(X_dataset_train,Y_dataset_train)\n",
        "Y_dataset_predict_OLS=OLS_model.predict(X_dataset_test)\n",
        "\n",
        "print('Mean Absolute Error for Ordinary least square regression without regularization:', metrics.mean_absolute_error(Y_dataset_test, Y_dataset_predict_OLS))  \n",
        "print('Mean Squared Error for Ordinary least square regression without regularization:', metrics.mean_squared_error(Y_dataset_test,Y_dataset_predict_OLS))  \n",
        "print('Root Mean Squared Error for Ordinary least square regression without regularization:', np.sqrt(metrics.mean_squared_error(Y_dataset_test, Y_dataset_predict_OLS)))\n",
        "print(pd.concat([pd.DataFrame(X_dataset.columns),pd.DataFrame(np.transpose(OLS_model.coef_))], axis = 1))\n",
        "print('intercept is ')\n",
        "print( OLS_model.intercept_)\n",
        "print('\\n\\n\\n')\n",
        "ridge_model = Ridge(alpha=0.00000000000001,max_iter=100000)\n",
        "Ridge_regression_model=ridge_model.fit(X_dataset_train,Y_dataset_train)\n",
        "Y_dataset_predict_Ridge=Ridge_regression_model.predict(X_dataset_test)\n",
        "\n",
        "print('Mean Absolute Error for linear regression with ridge regularization:', metrics.mean_absolute_error(Y_dataset_test, Y_dataset_predict_Ridge))  \n",
        "print('Mean Squared Error for linear regression with ridge regularization:', metrics.mean_squared_error(Y_dataset_test,Y_dataset_predict_Ridge))  \n",
        "print('Root Mean Squared Error for linear regression with ridge regularization:', np.sqrt(metrics.mean_squared_error(Y_dataset_test, Y_dataset_predict_Ridge)))\n",
        "print(pd.concat([pd.DataFrame(X_dataset.columns),pd.DataFrame(np.transpose(Ridge_regression_model.coef_))], axis = 1))\n",
        "print('intercept is ')\n",
        "print( OLS_model.intercept_)\n",
        "print('\\n\\n\\n')\n",
        "lasso_model = linear_model.Lasso(alpha=0.00000000000001,max_iter=100000)\n",
        "lasso_regression_model=lasso_model.fit(X_dataset_train,Y_dataset_train)\n",
        "Y_dataset_predict_lasso=lasso_regression_model.predict(X_dataset_test)\n",
        "\n",
        "print('Mean Absolute Error for linear regression with lasso regularization:', metrics.mean_absolute_error(Y_dataset_test, Y_dataset_predict_lasso))  \n",
        "print('Mean Squared Error for linear regression with lasso regularization:', metrics.mean_squared_error(Y_dataset_test,Y_dataset_predict_lasso))  \n",
        "print('Root Mean Squared Error for linear regression with lasso regularization:', np.sqrt(metrics.mean_squared_error(Y_dataset_test, Y_dataset_predict_lasso)))\n",
        "print(pd.concat([pd.DataFrame(X_dataset.columns),pd.DataFrame(np.transpose(lasso_regression_model.coef_))], axis = 1))\n",
        "print('intercept is ')\n",
        "print(lasso_regression_model.intercept_)"
      ]
    },
    {
      "cell_type": "raw",
      "metadata": {
        "id": "461yVW8SIS2i"
      },
      "source": [
        "So in the 80-20 split we see the the RMSE for the ridge regression is the least. So for any unseen data we will go with the ridge regression model"
      ]
    },
    {
      "cell_type": "code",
      "execution_count": null,
      "metadata": {
        "id": "ErIHf-3RIS2i"
      },
      "outputs": [],
      "source": [
        ""
      ]
    }
  ],
  "metadata": {
    "kernelspec": {
      "display_name": "Python 3",
      "language": "python",
      "name": "python3"
    },
    "language_info": {
      "codemirror_mode": {
        "name": "ipython",
        "version": 3
      },
      "file_extension": ".py",
      "mimetype": "text/x-python",
      "name": "python",
      "nbconvert_exporter": "python",
      "pygments_lexer": "ipython3",
      "version": "3.7.6"
    },
    "colab": {
      "name": "ML_Assignment_1.ipynb",
      "provenance": [],
      "include_colab_link": true
    }
  },
  "nbformat": 4,
  "nbformat_minor": 0
}