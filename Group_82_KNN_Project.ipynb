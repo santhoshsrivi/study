{
  "cells": [
    {
      "cell_type": "markdown",
      "metadata": {
        "id": "view-in-github",
        "colab_type": "text"
      },
      "source": [
        "<a href=\"https://colab.research.google.com/github/santhoshsrivi/BITS/blob/main/Group_82_KNN_Project.ipynb\" target=\"_parent\"><img src=\"https://colab.research.google.com/assets/colab-badge.svg\" alt=\"Open In Colab\"/></a>"
      ]
    },
    {
      "cell_type": "markdown",
      "metadata": {
        "id": "xIjp2SnYhzty"
      },
      "source": [
        "We are working on KNN project dataset"
      ]
    },
    {
      "cell_type": "code",
      "execution_count": 1,
      "metadata": {
        "id": "7JNm_xFWhzt1"
      },
      "outputs": [],
      "source": [
        "import pandas as pd\n",
        "import seaborn as sns\n",
        "import numpy as np\n",
        "import matplotlib.pyplot as plt\n",
        "from sklearn.metrics import classification_report, confusion_matrix\n",
        "from sklearn.model_selection import train_test_split\n",
        "from sklearn.neighbors import KNeighborsClassifier\n",
        "from sklearn import metrics"
      ]
    },
    {
      "cell_type": "code",
      "execution_count": 3,
      "metadata": {
        "id": "pYFhA8Ochzt7"
      },
      "outputs": [],
      "source": [
        "#Reading the dataset to dataframe\n",
        "df = pd.read_csv('KNN_Project.csv')"
      ]
    },
    {
      "cell_type": "code",
      "execution_count": 4,
      "metadata": {
        "colab": {
          "base_uri": "https://localhost:8080/",
          "height": 363
        },
        "id": "-SAgir6bhzt9",
        "outputId": "76848d8d-75a7-40a3-b6c4-d8aa59b4acf9"
      },
      "outputs": [
        {
          "output_type": "execute_result",
          "data": {
            "text/plain": [
              "          XVPM         GWYH         TRAT        TLLZ         IGGA  \\\n",
              "0  1536.670614   817.988525  2565.995189  358.347163   550.417491   \n",
              "1  1113.402760   577.587332  2644.141273  280.428203  1161.873391   \n",
              "2  1304.035501   820.518697  2025.854469  525.562292   922.206261   \n",
              "3  1057.347542  1066.866418   612.000041  480.827789   419.467495   \n",
              "4  1023.340526  1313.679056   950.622661  724.742174   843.065903   \n",
              "5  1587.993461   667.420121  2072.048544  364.624958   905.011385   \n",
              "6  1497.293624   822.435853   908.059366  671.797517  1280.270442   \n",
              "7  1172.820769  1166.958461   455.656588  445.572745  1109.894585   \n",
              "8   839.494647  1089.747059   653.699894  659.334590  1529.725972   \n",
              "9  1028.689140   202.089774  1030.841860  429.109102   943.104815   \n",
              "\n",
              "          HYKR         EDFS        GUUB         MGJM         JHZC  \\\n",
              "0  1618.870897  2147.641254  330.727893  1494.878631   845.136088   \n",
              "1  2084.107872   853.404981  447.157619  1193.032521   861.081809   \n",
              "2  2552.355407   818.676686  845.491492  1968.367513  1647.186291   \n",
              "3   685.666983   852.867810  341.664784  1154.391368  1450.935357   \n",
              "4  1370.554164   905.469453  658.118202   539.459350  1899.850792   \n",
              "5  2229.178514   880.442566  568.698408   645.719217  2156.949990   \n",
              "6  1910.066313  1052.812386  713.757499   703.951632  1088.493788   \n",
              "7  1045.551452  1301.821786  264.940137   945.023932  2307.922229   \n",
              "8  1521.320489  1401.676227  433.025043  1289.063583  1690.149835   \n",
              "9  1978.506855   653.178512  753.655291  1336.375960  1057.864848   \n",
              "\n",
              "   TARGET CLASS  \n",
              "0             0  \n",
              "1             1  \n",
              "2             1  \n",
              "3             0  \n",
              "4             0  \n",
              "5             1  \n",
              "6             0  \n",
              "7             0  \n",
              "8             0  \n",
              "9             1  "
            ],
            "text/html": [
              "\n",
              "  <div id=\"df-a4c280d6-1c6c-4ba6-9410-02a86fd12240\">\n",
              "    <div class=\"colab-df-container\">\n",
              "      <div>\n",
              "<style scoped>\n",
              "    .dataframe tbody tr th:only-of-type {\n",
              "        vertical-align: middle;\n",
              "    }\n",
              "\n",
              "    .dataframe tbody tr th {\n",
              "        vertical-align: top;\n",
              "    }\n",
              "\n",
              "    .dataframe thead th {\n",
              "        text-align: right;\n",
              "    }\n",
              "</style>\n",
              "<table border=\"1\" class=\"dataframe\">\n",
              "  <thead>\n",
              "    <tr style=\"text-align: right;\">\n",
              "      <th></th>\n",
              "      <th>XVPM</th>\n",
              "      <th>GWYH</th>\n",
              "      <th>TRAT</th>\n",
              "      <th>TLLZ</th>\n",
              "      <th>IGGA</th>\n",
              "      <th>HYKR</th>\n",
              "      <th>EDFS</th>\n",
              "      <th>GUUB</th>\n",
              "      <th>MGJM</th>\n",
              "      <th>JHZC</th>\n",
              "      <th>TARGET CLASS</th>\n",
              "    </tr>\n",
              "  </thead>\n",
              "  <tbody>\n",
              "    <tr>\n",
              "      <th>0</th>\n",
              "      <td>1536.670614</td>\n",
              "      <td>817.988525</td>\n",
              "      <td>2565.995189</td>\n",
              "      <td>358.347163</td>\n",
              "      <td>550.417491</td>\n",
              "      <td>1618.870897</td>\n",
              "      <td>2147.641254</td>\n",
              "      <td>330.727893</td>\n",
              "      <td>1494.878631</td>\n",
              "      <td>845.136088</td>\n",
              "      <td>0</td>\n",
              "    </tr>\n",
              "    <tr>\n",
              "      <th>1</th>\n",
              "      <td>1113.402760</td>\n",
              "      <td>577.587332</td>\n",
              "      <td>2644.141273</td>\n",
              "      <td>280.428203</td>\n",
              "      <td>1161.873391</td>\n",
              "      <td>2084.107872</td>\n",
              "      <td>853.404981</td>\n",
              "      <td>447.157619</td>\n",
              "      <td>1193.032521</td>\n",
              "      <td>861.081809</td>\n",
              "      <td>1</td>\n",
              "    </tr>\n",
              "    <tr>\n",
              "      <th>2</th>\n",
              "      <td>1304.035501</td>\n",
              "      <td>820.518697</td>\n",
              "      <td>2025.854469</td>\n",
              "      <td>525.562292</td>\n",
              "      <td>922.206261</td>\n",
              "      <td>2552.355407</td>\n",
              "      <td>818.676686</td>\n",
              "      <td>845.491492</td>\n",
              "      <td>1968.367513</td>\n",
              "      <td>1647.186291</td>\n",
              "      <td>1</td>\n",
              "    </tr>\n",
              "    <tr>\n",
              "      <th>3</th>\n",
              "      <td>1057.347542</td>\n",
              "      <td>1066.866418</td>\n",
              "      <td>612.000041</td>\n",
              "      <td>480.827789</td>\n",
              "      <td>419.467495</td>\n",
              "      <td>685.666983</td>\n",
              "      <td>852.867810</td>\n",
              "      <td>341.664784</td>\n",
              "      <td>1154.391368</td>\n",
              "      <td>1450.935357</td>\n",
              "      <td>0</td>\n",
              "    </tr>\n",
              "    <tr>\n",
              "      <th>4</th>\n",
              "      <td>1023.340526</td>\n",
              "      <td>1313.679056</td>\n",
              "      <td>950.622661</td>\n",
              "      <td>724.742174</td>\n",
              "      <td>843.065903</td>\n",
              "      <td>1370.554164</td>\n",
              "      <td>905.469453</td>\n",
              "      <td>658.118202</td>\n",
              "      <td>539.459350</td>\n",
              "      <td>1899.850792</td>\n",
              "      <td>0</td>\n",
              "    </tr>\n",
              "    <tr>\n",
              "      <th>5</th>\n",
              "      <td>1587.993461</td>\n",
              "      <td>667.420121</td>\n",
              "      <td>2072.048544</td>\n",
              "      <td>364.624958</td>\n",
              "      <td>905.011385</td>\n",
              "      <td>2229.178514</td>\n",
              "      <td>880.442566</td>\n",
              "      <td>568.698408</td>\n",
              "      <td>645.719217</td>\n",
              "      <td>2156.949990</td>\n",
              "      <td>1</td>\n",
              "    </tr>\n",
              "    <tr>\n",
              "      <th>6</th>\n",
              "      <td>1497.293624</td>\n",
              "      <td>822.435853</td>\n",
              "      <td>908.059366</td>\n",
              "      <td>671.797517</td>\n",
              "      <td>1280.270442</td>\n",
              "      <td>1910.066313</td>\n",
              "      <td>1052.812386</td>\n",
              "      <td>713.757499</td>\n",
              "      <td>703.951632</td>\n",
              "      <td>1088.493788</td>\n",
              "      <td>0</td>\n",
              "    </tr>\n",
              "    <tr>\n",
              "      <th>7</th>\n",
              "      <td>1172.820769</td>\n",
              "      <td>1166.958461</td>\n",
              "      <td>455.656588</td>\n",
              "      <td>445.572745</td>\n",
              "      <td>1109.894585</td>\n",
              "      <td>1045.551452</td>\n",
              "      <td>1301.821786</td>\n",
              "      <td>264.940137</td>\n",
              "      <td>945.023932</td>\n",
              "      <td>2307.922229</td>\n",
              "      <td>0</td>\n",
              "    </tr>\n",
              "    <tr>\n",
              "      <th>8</th>\n",
              "      <td>839.494647</td>\n",
              "      <td>1089.747059</td>\n",
              "      <td>653.699894</td>\n",
              "      <td>659.334590</td>\n",
              "      <td>1529.725972</td>\n",
              "      <td>1521.320489</td>\n",
              "      <td>1401.676227</td>\n",
              "      <td>433.025043</td>\n",
              "      <td>1289.063583</td>\n",
              "      <td>1690.149835</td>\n",
              "      <td>0</td>\n",
              "    </tr>\n",
              "    <tr>\n",
              "      <th>9</th>\n",
              "      <td>1028.689140</td>\n",
              "      <td>202.089774</td>\n",
              "      <td>1030.841860</td>\n",
              "      <td>429.109102</td>\n",
              "      <td>943.104815</td>\n",
              "      <td>1978.506855</td>\n",
              "      <td>653.178512</td>\n",
              "      <td>753.655291</td>\n",
              "      <td>1336.375960</td>\n",
              "      <td>1057.864848</td>\n",
              "      <td>1</td>\n",
              "    </tr>\n",
              "  </tbody>\n",
              "</table>\n",
              "</div>\n",
              "      <button class=\"colab-df-convert\" onclick=\"convertToInteractive('df-a4c280d6-1c6c-4ba6-9410-02a86fd12240')\"\n",
              "              title=\"Convert this dataframe to an interactive table.\"\n",
              "              style=\"display:none;\">\n",
              "        \n",
              "  <svg xmlns=\"http://www.w3.org/2000/svg\" height=\"24px\"viewBox=\"0 0 24 24\"\n",
              "       width=\"24px\">\n",
              "    <path d=\"M0 0h24v24H0V0z\" fill=\"none\"/>\n",
              "    <path d=\"M18.56 5.44l.94 2.06.94-2.06 2.06-.94-2.06-.94-.94-2.06-.94 2.06-2.06.94zm-11 1L8.5 8.5l.94-2.06 2.06-.94-2.06-.94L8.5 2.5l-.94 2.06-2.06.94zm10 10l.94 2.06.94-2.06 2.06-.94-2.06-.94-.94-2.06-.94 2.06-2.06.94z\"/><path d=\"M17.41 7.96l-1.37-1.37c-.4-.4-.92-.59-1.43-.59-.52 0-1.04.2-1.43.59L10.3 9.45l-7.72 7.72c-.78.78-.78 2.05 0 2.83L4 21.41c.39.39.9.59 1.41.59.51 0 1.02-.2 1.41-.59l7.78-7.78 2.81-2.81c.8-.78.8-2.07 0-2.86zM5.41 20L4 18.59l7.72-7.72 1.47 1.35L5.41 20z\"/>\n",
              "  </svg>\n",
              "      </button>\n",
              "      \n",
              "  <style>\n",
              "    .colab-df-container {\n",
              "      display:flex;\n",
              "      flex-wrap:wrap;\n",
              "      gap: 12px;\n",
              "    }\n",
              "\n",
              "    .colab-df-convert {\n",
              "      background-color: #E8F0FE;\n",
              "      border: none;\n",
              "      border-radius: 50%;\n",
              "      cursor: pointer;\n",
              "      display: none;\n",
              "      fill: #1967D2;\n",
              "      height: 32px;\n",
              "      padding: 0 0 0 0;\n",
              "      width: 32px;\n",
              "    }\n",
              "\n",
              "    .colab-df-convert:hover {\n",
              "      background-color: #E2EBFA;\n",
              "      box-shadow: 0px 1px 2px rgba(60, 64, 67, 0.3), 0px 1px 3px 1px rgba(60, 64, 67, 0.15);\n",
              "      fill: #174EA6;\n",
              "    }\n",
              "\n",
              "    [theme=dark] .colab-df-convert {\n",
              "      background-color: #3B4455;\n",
              "      fill: #D2E3FC;\n",
              "    }\n",
              "\n",
              "    [theme=dark] .colab-df-convert:hover {\n",
              "      background-color: #434B5C;\n",
              "      box-shadow: 0px 1px 3px 1px rgba(0, 0, 0, 0.15);\n",
              "      filter: drop-shadow(0px 1px 2px rgba(0, 0, 0, 0.3));\n",
              "      fill: #FFFFFF;\n",
              "    }\n",
              "  </style>\n",
              "\n",
              "      <script>\n",
              "        const buttonEl =\n",
              "          document.querySelector('#df-a4c280d6-1c6c-4ba6-9410-02a86fd12240 button.colab-df-convert');\n",
              "        buttonEl.style.display =\n",
              "          google.colab.kernel.accessAllowed ? 'block' : 'none';\n",
              "\n",
              "        async function convertToInteractive(key) {\n",
              "          const element = document.querySelector('#df-a4c280d6-1c6c-4ba6-9410-02a86fd12240');\n",
              "          const dataTable =\n",
              "            await google.colab.kernel.invokeFunction('convertToInteractive',\n",
              "                                                     [key], {});\n",
              "          if (!dataTable) return;\n",
              "\n",
              "          const docLinkHtml = 'Like what you see? Visit the ' +\n",
              "            '<a target=\"_blank\" href=https://colab.research.google.com/notebooks/data_table.ipynb>data table notebook</a>'\n",
              "            + ' to learn more about interactive tables.';\n",
              "          element.innerHTML = '';\n",
              "          dataTable['output_type'] = 'display_data';\n",
              "          await google.colab.output.renderOutput(dataTable, element);\n",
              "          const docLink = document.createElement('div');\n",
              "          docLink.innerHTML = docLinkHtml;\n",
              "          element.appendChild(docLink);\n",
              "        }\n",
              "      </script>\n",
              "    </div>\n",
              "  </div>\n",
              "  "
            ]
          },
          "metadata": {},
          "execution_count": 4
        }
      ],
      "source": [
        "#Printing the top 10 rows for sanity check\n",
        "df.head(10)"
      ]
    },
    {
      "cell_type": "code",
      "execution_count": 5,
      "metadata": {
        "id": "90rz-1INhzuB"
      },
      "outputs": [],
      "source": [
        "#Removing Outliers if any because KNN is sensitive to outliers\n",
        "\n",
        "Q1 = df.quantile(0.25)\n",
        "Q3 = df.quantile(0.75)\n",
        "IQR = Q3 - Q1\n",
        "lower_limit=Q1-(1.5 * IQR)\n",
        "upper_limit=Q3+(1.5 * IQR)\n",
        "\n",
        "for i in range(len(df.columns)):\n",
        "    if df.columns[i]!='TARGET CLASS':\n",
        "        df.loc[df[df.columns[i]] > upper_limit[df.columns[i]],df.columns[i]]=upper_limit[df.columns[i]]\n",
        "        df.loc[df[df.columns[i]] < lower_limit[df.columns[i]],df.columns[i]]=lower_limit[df.columns[i]]\n",
        "        \n"
      ]
    },
    {
      "cell_type": "code",
      "execution_count": 6,
      "metadata": {
        "colab": {
          "base_uri": "https://localhost:8080/"
        },
        "id": "bb1cQvqkhzuE",
        "outputId": "c990cfca-015c-4ad5-e560-ad05205068be"
      },
      "outputs": [
        {
          "output_type": "execute_result",
          "data": {
            "text/plain": [
              "array([[ 1.29929869, -0.44345543,  1.61980773, ..., -0.9349602 ,\n",
              "         1.00960186, -1.06968996],\n",
              "       [ 0.15735521, -1.05671304,  1.7419175 , ..., -0.46230642,\n",
              "         0.25889395, -1.04160654],\n",
              "       [ 0.67166739, -0.43700102,  0.77579285, ...,  1.15475492,\n",
              "         2.18719479,  0.34287148],\n",
              "       ...,\n",
              "       [-0.3590484 , -0.97913897,  0.83771499, ..., -1.51902295,\n",
              "        -0.2750579 ,  0.86439213],\n",
              "       [ 0.27516424, -0.99252583,  0.0303711 , ..., -0.03511666,\n",
              "         0.43742859, -0.212444  ],\n",
              "       [ 0.6261117 ,  0.79532787,  1.12180047, ..., -1.25489817,\n",
              "        -0.60377843, -0.8799049 ]])"
            ]
          },
          "metadata": {},
          "execution_count": 6
        }
      ],
      "source": [
        "#Normalizing the dataset because if we do not do this step then the distance measure of KNN would not be reliable\n",
        "\n",
        "from sklearn.preprocessing import StandardScaler\n",
        "\n",
        "scaler = StandardScaler()\n",
        "\n",
        "scaler.fit(df.drop('TARGET CLASS',axis=1))\n",
        "\n",
        "scaled_features = scaler.transform(df.drop('TARGET CLASS',axis=1))\n",
        "\n",
        "scaled_features"
      ]
    },
    {
      "cell_type": "markdown",
      "metadata": {
        "id": "u-3FgvsYhzuI"
      },
      "source": [
        "## Train test split"
      ]
    },
    {
      "cell_type": "code",
      "execution_count": 7,
      "metadata": {
        "id": "5bG9t-A_hzuK"
      },
      "outputs": [],
      "source": [
        "X_train,X_test,y_train,y_test = train_test_split(scaled_features,df['TARGET CLASS'],test_size=0.30)"
      ]
    },
    {
      "cell_type": "markdown",
      "metadata": {
        "id": "sp9bbZnHhzuN"
      },
      "source": [
        "## Using KNN"
      ]
    },
    {
      "cell_type": "markdown",
      "metadata": {
        "id": "AyM3wmU8hzuP"
      },
      "source": [
        "## Choosing a K Value"
      ]
    },
    {
      "cell_type": "code",
      "execution_count": 8,
      "metadata": {
        "id": "t-yCm2c3hzuQ"
      },
      "outputs": [],
      "source": [
        "#Before we Apply the KNN algorithm, it is important to chose the best value of K\n",
        "#We want to calculate the best k value. For that we are finding the error rates for all K's where maximum value \n",
        "#we have chosen is the length of the test set\n",
        "\n",
        "\n",
        "error_rate = []\n",
        "\n",
        "for i in range(1,len(X_test)):\n",
        "    Knn = KNeighborsClassifier(n_neighbors=i)\n",
        "    Knn.fit(X_train,y_train)\n",
        "    pred_i = Knn.predict(X_test)\n",
        "    error_rate.append(np.mean(pred_i != y_test))"
      ]
    },
    {
      "cell_type": "code",
      "execution_count": 9,
      "metadata": {
        "colab": {
          "base_uri": "https://localhost:8080/",
          "height": 530
        },
        "id": "Ky-0PccVhzuS",
        "outputId": "d9d112e3-5ca6-42ce-8c6b-5520428303ab"
      },
      "outputs": [
        {
          "output_type": "stream",
          "name": "stdout",
          "text": [
            "Minimum error:- 0.14 at K = 159\n"
          ]
        },
        {
          "output_type": "display_data",
          "data": {
            "text/plain": [
              "<Figure size 1080x576 with 1 Axes>"
            ],
            "image/png": "[encoded data removed]"
          },
          "metadata": {
            "needs_background": "light"
          }
        }
      ],
      "source": [
        "#Here we find the optimal value of k. Usually the optimal value of K is sqrt(n) where n is the number of samples but it is always favorable to plot an\n",
        "#error graph and find the optimal value of k where the error rate is minimum\n",
        "\n",
        "plt.figure(figsize=(15,8))\n",
        "plt.plot(range(1,len(X_test)),error_rate,color='black',linestyle='dashed',marker='o',markerfacecolor='red',markersize=10)\n",
        "plt.title('Error rate Vs K value')\n",
        "plt.xlabel('K')\n",
        "plt.ylabel('Error rate')\n",
        "print(\"Minimum error:-\",min(error_rate),\"at K =\",error_rate.index(min(error_rate)))\n",
        "optimal_k=error_rate.index(min(error_rate))\n",
        "\n",
        "\n",
        "#Though we have the optimal value, we have reported out the metrics for few other K values as well as follows"
      ]
    },
    {
      "cell_type": "markdown",
      "metadata": {
        "id": "y4uEdVnghzuU"
      },
      "source": [
        "<h1>Model Building and Evaluation</h1>"
      ]
    },
    {
      "cell_type": "code",
      "execution_count": 10,
      "metadata": {
        "colab": {
          "base_uri": "https://localhost:8080/"
        },
        "id": "-6r-0QWthzuW",
        "outputId": "f533cdac-f7f7-4b14-b97c-874468ecc2ea"
      },
      "outputs": [
        {
          "output_type": "stream",
          "name": "stdout",
          "text": [
            "Optimal K is 159\n",
            "WITH K=159\n",
            "\n",
            "\n",
            "[[124  26]\n",
            " [ 17 133]]\n",
            "\n",
            "\n",
            "              precision    recall  f1-score   support\n",
            "\n",
            "           0       0.88      0.83      0.85       150\n",
            "           1       0.84      0.89      0.86       150\n",
            "\n",
            "    accuracy                           0.86       300\n",
            "   macro avg       0.86      0.86      0.86       300\n",
            "weighted avg       0.86      0.86      0.86       300\n",
            "\n"
          ]
        }
      ],
      "source": [
        "# Now we want to report out the evaluation metrics for the optimal k. Here there is no concept of First training and then testing\n",
        "#because KNN is a lazy learner. So we \n",
        "#just fit the training points in a n-dimensional space and then predict the label for the test instances\n",
        "\n",
        "print('Optimal K is '+str(optimal_k))\n",
        "knn = KNeighborsClassifier(n_neighbors=optimal_k)\n",
        "\n",
        "knn.fit(X_train,y_train)\n",
        "pred = knn.predict(X_test)\n",
        "\n",
        "print('WITH K=' +str(optimal_k))\n",
        "print('\\n')\n",
        "print(confusion_matrix(y_test,pred))\n",
        "print('\\n')\n",
        "print(classification_report(y_test,pred))"
      ]
    },
    {
      "cell_type": "markdown",
      "metadata": {
        "id": "ksBG6ApHhzuX"
      },
      "source": [
        "<h1>Comparision to various random K Values</h1>"
      ]
    },
    {
      "cell_type": "code",
      "execution_count": 11,
      "metadata": {
        "colab": {
          "base_uri": "https://localhost:8080/"
        },
        "id": "fSImb9o0hzuZ",
        "outputId": "acf971f4-0862-4a6b-ab57-583453c0f564"
      },
      "outputs": [
        {
          "output_type": "stream",
          "name": "stdout",
          "text": [
            "\n",
            "\n",
            "[[117  33]\n",
            " [ 36 114]]\n",
            "\n",
            "\n",
            "              precision    recall  f1-score   support\n",
            "\n",
            "           0       0.76      0.78      0.77       150\n",
            "           1       0.78      0.76      0.77       150\n",
            "\n",
            "    accuracy                           0.77       300\n",
            "   macro avg       0.77      0.77      0.77       300\n",
            "weighted avg       0.77      0.77      0.77       300\n",
            "\n"
          ]
        }
      ],
      "source": [
        "# K=1\n",
        "knn = KNeighborsClassifier(n_neighbors=1)\n",
        "\n",
        "knn.fit(X_train,y_train)\n",
        "pred = knn.predict(X_test)\n",
        "\n",
        "\n",
        "print('\\n')\n",
        "print(confusion_matrix(y_test,pred))\n",
        "print('\\n')\n",
        "print(classification_report(y_test,pred))"
      ]
    },
    {
      "cell_type": "code",
      "execution_count": 12,
      "metadata": {
        "colab": {
          "base_uri": "https://localhost:8080/"
        },
        "id": "NBVUiQqwhzua",
        "outputId": "4dd0d819-5891-4567-88fa-f274a6d99c7a"
      },
      "outputs": [
        {
          "output_type": "stream",
          "name": "stdout",
          "text": [
            "\n",
            "\n",
            "[[120  30]\n",
            " [ 22 128]]\n",
            "\n",
            "\n",
            "              precision    recall  f1-score   support\n",
            "\n",
            "           0       0.85      0.80      0.82       150\n",
            "           1       0.81      0.85      0.83       150\n",
            "\n",
            "    accuracy                           0.83       300\n",
            "   macro avg       0.83      0.83      0.83       300\n",
            "weighted avg       0.83      0.83      0.83       300\n",
            "\n"
          ]
        }
      ],
      "source": [
        "# NOW WITH K=42\n",
        "knn = KNeighborsClassifier(n_neighbors=42)\n",
        "\n",
        "knn.fit(X_train,y_train)\n",
        "pred = knn.predict(X_test)\n",
        "\n",
        "\n",
        "print('\\n')\n",
        "print(confusion_matrix(y_test,pred))\n",
        "print('\\n')\n",
        "print(classification_report(y_test,pred))"
      ]
    },
    {
      "cell_type": "code",
      "execution_count": 13,
      "metadata": {
        "colab": {
          "base_uri": "https://localhost:8080/"
        },
        "id": "ZvTm5hSuhzub",
        "outputId": "8b41830b-cb75-45bd-dab5-0f1c1dd6fef3"
      },
      "outputs": [
        {
          "output_type": "stream",
          "name": "stdout",
          "text": [
            "\n",
            "\n",
            "[[120  30]\n",
            " [ 20 130]]\n",
            "\n",
            "\n",
            "              precision    recall  f1-score   support\n",
            "\n",
            "           0       0.86      0.80      0.83       150\n",
            "           1       0.81      0.87      0.84       150\n",
            "\n",
            "    accuracy                           0.83       300\n",
            "   macro avg       0.83      0.83      0.83       300\n",
            "weighted avg       0.83      0.83      0.83       300\n",
            "\n"
          ]
        }
      ],
      "source": [
        "# NOW WITH K=57\n",
        "knn = KNeighborsClassifier(n_neighbors=57)\n",
        "\n",
        "knn.fit(X_train,y_train)\n",
        "pred = knn.predict(X_test)\n",
        "\n",
        "\n",
        "print('\\n')\n",
        "print(confusion_matrix(y_test,pred))\n",
        "print('\\n')\n",
        "print(classification_report(y_test,pred))"
      ]
    },
    {
      "cell_type": "code",
      "execution_count": 14,
      "metadata": {
        "id": "fDNrvw3Qhzud"
      },
      "outputs": [],
      "source": [
        "#We see that the f1-Score is the maximum for the optimal_k. Hence for predictions we will use the optimal K"
      ]
    },
    {
      "cell_type": "markdown",
      "metadata": {
        "id": "q1_COjHShzue"
      },
      "source": [
        "<h1>Predictions</h1>"
      ]
    },
    {
      "cell_type": "code",
      "execution_count": 15,
      "metadata": {
        "colab": {
          "base_uri": "https://localhost:8080/"
        },
        "id": "dHXQT_cfhzuf",
        "outputId": "da12aace-4221-4843-bc84-fb2bb3dae4cd"
      },
      "outputs": [
        {
          "output_type": "execute_result",
          "data": {
            "text/plain": [
              "array([0])"
            ]
          },
          "metadata": {},
          "execution_count": 15
        }
      ],
      "source": [
        "#This is how we input an instance and the KNN model predicts the label. below is an example. Here we go with the optimal k\n",
        "\n",
        "knn = KNeighborsClassifier(n_neighbors=optimal_k)\n",
        "knn.fit(X_train, y_train)\n",
        "knn.predict([[1000,900.23,700,20,400,650,685,985,112,729]])"
      ]
    },
    {
      "cell_type": "code",
      "execution_count": 15,
      "metadata": {
        "id": "9OY25c6nhzug"
      },
      "outputs": [],
      "source": [
        ""
      ]
    }
  ],
  "metadata": {
    "kernelspec": {
      "display_name": "Python 3",
      "language": "python",
      "name": "python3"
    },
    "language_info": {
      "codemirror_mode": {
        "name": "ipython",
        "version": 3
      },
      "file_extension": ".py",
      "mimetype": "text/x-python",
      "name": "python",
      "nbconvert_exporter": "python",
      "pygments_lexer": "ipython3",
      "version": "3.8.5"
    },
    "colab": {
      "name": "Group 82_KNN_Project.ipynb",
      "provenance": [],
      "include_colab_link": true
    }
  },
  "nbformat": 4,
  "nbformat_minor": 0
}