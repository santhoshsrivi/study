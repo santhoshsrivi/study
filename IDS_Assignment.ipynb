{
  "cells": [
    {
      "cell_type": "markdown",
      "metadata": {
        "id": "view-in-github",
        "colab_type": "text"
      },
      "source": [
        "<a href=\"https://colab.research.google.com/github/santhoshsrivi/BITS/blob/main/IDS_Assignment.ipynb\" target=\"_parent\"><img src=\"https://colab.research.google.com/assets/colab-badge.svg\" alt=\"Open In Colab\"/></a>"
      ]
    },
    {
      "cell_type": "markdown",
      "metadata": {
        "id": "E4s94mhy7ywH"
      },
      "source": [
        "# 1. Business Understanding\n",
        " \n",
        "Students are expected to identify a classification problem of your choice. You have to detail the Business Understanding part of your problem under this heading which basically addresses the following questions.\n",
        " \n",
        "   1. What is the problem that you are trying to solve?\n",
        "   2. What data do you need to answer the above problem?\n",
        "   3. What are the different sources of data?    \n",
        "   4. What kind of analytics task are you performing?\n",
        "\n"
      ],
      "id": "E4s94mhy7ywH"
    },
    {
      "cell_type": "markdown",
      "metadata": {
        "id": "nJTO_Wgb7ywK"
      },
      "source": [
        "--------------Type the answers below this line-------------- \n",
        "1) We are trying to build a model that classifies the voice call quality of various service providers in India.\n",
        "\n",
        "2) A brief description about the customer feedback on call quality, network type provided by the respective operator,geographical indicators of the location of the reception of service will be required to solve the problem at hand.\n",
        "\n",
        "3) We are using the data provided by the TRAI based on the Feedback Captured using TRAI MyCAll App. Customers rates their experience about voice call quality in real time and help TRAI gather customer experience data along with Network data. \n",
        "\n",
        "The API for fetching the data is described here: (https://data.gov.in/resources/voice-call-quality-customer-experiencemycall-app-march-2021/api)\n",
        "\n",
        "4) The analytic task at hand will be classification where we will be building a model for segregating the call quality as satisfactory,poor voice quality and call dropped."
      ],
      "id": "nJTO_Wgb7ywK"
    },
    {
      "cell_type": "markdown",
      "metadata": {
        "id": "fnh3B17f7ywN"
      },
      "source": [
        "# 2. Data Acquisition\n",
        " \n",
        "For the problem identified by you, students have to find the data source themselves which should be a website which has the required data in it. You have to write Python crawler code to scrape data from the respective website rather than downloading ready-made dataset as such from sources like Kaggle etc. \n",
        "\n",
        "(Data downloaded from website like Kaggle will be awarded negative marks.)\n",
        "\n",
        "## 2.1 Code for scraping data from website\n",
        "\n"
      ],
      "id": "fnh3B17f7ywN"
    },
    {
      "cell_type": "code",
      "execution_count": 1,
      "metadata": {
        "id": "4rvimCUl7ywP"
      },
      "outputs": [],
      "source": [
        "import requests,json\n",
        "import numpy as np\n",
        "\n",
        "res=requests.get('https://api.data.gov.in/resource/07d3496d-8933-4b97-b067-89d8ad7a04eb?api-key=579b464db66ec23bdd000001e4dc9e7f38ca486c5233cfd21692bfa6&format=json&offset=0&limit=1000')\n",
        "response = json.loads(res.text)"
      ],
      "id": "4rvimCUl7ywP"
    },
    {
      "cell_type": "markdown",
      "metadata": {
        "id": "wEMASeuR7ywS"
      },
      "source": [
        "## 2.2 Code for converting the above scraped data into a dataframe"
      ],
      "id": "wEMASeuR7ywS"
    },
    {
      "cell_type": "code",
      "execution_count": 2,
      "metadata": {
        "id": "sjrMdPfF7ywT"
      },
      "outputs": [],
      "source": [
        "import pandas as pd\n",
        "from pandas import json_normalize\n",
        "\n",
        "df1=json_normalize(response['records'])"
      ],
      "id": "sjrMdPfF7ywT"
    },
    {
      "cell_type": "markdown",
      "metadata": {
        "id": "MsMyQxDG7ywU"
      },
      "source": [
        "## 2.3 Confirm the data has been correctly by displaying the first 5 and last 5 records."
      ],
      "id": "MsMyQxDG7ywU"
    },
    {
      "cell_type": "code",
      "execution_count": 3,
      "metadata": {
        "colab": {
          "base_uri": "https://localhost:8080/",
          "height": 206
        },
        "id": "7W_UEdCB7ywV",
        "outputId": "3dd9e391-6bde-40be-9afa-f734236afa5f"
      },
      "outputs": [
        {
          "output_type": "execute_result",
          "data": {
            "text/plain": [
              "  operator inout_travelling network_type  rating   calldrop_category  \\\n",
              "0     RJio           Indoor           4G       4        Satisfactory   \n",
              "1     RJio       Travelling           4G       5        Satisfactory   \n",
              "2     RJio           Indoor           4G       4        Satisfactory   \n",
              "3     Idea          Outdoor           4G       2  Poor Voice Quality   \n",
              "4     MTNL           Indoor           3G       3  Poor Voice Quality   \n",
              "\n",
              "    latitude  longitude     state_name  \n",
              "0  10.303162  76.223051         Kerala  \n",
              "1  26.727374  80.898619  Uttar Pradesh  \n",
              "2  -1.000000  -1.000000             NA  \n",
              "3  12.930553  77.617564      Karnataka  \n",
              "4  19.155222  72.935275    Maharashtra  "
            ],
            "text/html": [
              "\n",
              "  <div id=\"df-c9f1a77f-2522-45df-b2aa-696320ad9d65\">\n",
              "    <div class=\"colab-df-container\">\n",
              "      <div>\n",
              "<style scoped>\n",
              "    .dataframe tbody tr th:only-of-type {\n",
              "        vertical-align: middle;\n",
              "    }\n",
              "\n",
              "    .dataframe tbody tr th {\n",
              "        vertical-align: top;\n",
              "    }\n",
              "\n",
              "    .dataframe thead th {\n",
              "        text-align: right;\n",
              "    }\n",
              "</style>\n",
              "<table border=\"1\" class=\"dataframe\">\n",
              "  <thead>\n",
              "    <tr style=\"text-align: right;\">\n",
              "      <th></th>\n",
              "      <th>operator</th>\n",
              "      <th>inout_travelling</th>\n",
              "      <th>network_type</th>\n",
              "      <th>rating</th>\n",
              "      <th>calldrop_category</th>\n",
              "      <th>latitude</th>\n",
              "      <th>longitude</th>\n",
              "      <th>state_name</th>\n",
              "    </tr>\n",
              "  </thead>\n",
              "  <tbody>\n",
              "    <tr>\n",
              "      <th>0</th>\n",
              "      <td>RJio</td>\n",
              "      <td>Indoor</td>\n",
              "      <td>4G</td>\n",
              "      <td>4</td>\n",
              "      <td>Satisfactory</td>\n",
              "      <td>10.303162</td>\n",
              "      <td>76.223051</td>\n",
              "      <td>Kerala</td>\n",
              "    </tr>\n",
              "    <tr>\n",
              "      <th>1</th>\n",
              "      <td>RJio</td>\n",
              "      <td>Travelling</td>\n",
              "      <td>4G</td>\n",
              "      <td>5</td>\n",
              "      <td>Satisfactory</td>\n",
              "      <td>26.727374</td>\n",
              "      <td>80.898619</td>\n",
              "      <td>Uttar Pradesh</td>\n",
              "    </tr>\n",
              "    <tr>\n",
              "      <th>2</th>\n",
              "      <td>RJio</td>\n",
              "      <td>Indoor</td>\n",
              "      <td>4G</td>\n",
              "      <td>4</td>\n",
              "      <td>Satisfactory</td>\n",
              "      <td>-1.000000</td>\n",
              "      <td>-1.000000</td>\n",
              "      <td>NA</td>\n",
              "    </tr>\n",
              "    <tr>\n",
              "      <th>3</th>\n",
              "      <td>Idea</td>\n",
              "      <td>Outdoor</td>\n",
              "      <td>4G</td>\n",
              "      <td>2</td>\n",
              "      <td>Poor Voice Quality</td>\n",
              "      <td>12.930553</td>\n",
              "      <td>77.617564</td>\n",
              "      <td>Karnataka</td>\n",
              "    </tr>\n",
              "    <tr>\n",
              "      <th>4</th>\n",
              "      <td>MTNL</td>\n",
              "      <td>Indoor</td>\n",
              "      <td>3G</td>\n",
              "      <td>3</td>\n",
              "      <td>Poor Voice Quality</td>\n",
              "      <td>19.155222</td>\n",
              "      <td>72.935275</td>\n",
              "      <td>Maharashtra</td>\n",
              "    </tr>\n",
              "  </tbody>\n",
              "</table>\n",
              "</div>\n",
              "      <button class=\"colab-df-convert\" onclick=\"convertToInteractive('df-c9f1a77f-2522-45df-b2aa-696320ad9d65')\"\n",
              "              title=\"Convert this dataframe to an interactive table.\"\n",
              "              style=\"display:none;\">\n",
              "        \n",
              "  <svg xmlns=\"http://www.w3.org/2000/svg\" height=\"24px\"viewBox=\"0 0 24 24\"\n",
              "       width=\"24px\">\n",
              "    <path d=\"M0 0h24v24H0V0z\" fill=\"none\"/>\n",
              "    <path d=\"M18.56 5.44l.94 2.06.94-2.06 2.06-.94-2.06-.94-.94-2.06-.94 2.06-2.06.94zm-11 1L8.5 8.5l.94-2.06 2.06-.94-2.06-.94L8.5 2.5l-.94 2.06-2.06.94zm10 10l.94 2.06.94-2.06 2.06-.94-2.06-.94-.94-2.06-.94 2.06-2.06.94z\"/><path d=\"M17.41 7.96l-1.37-1.37c-.4-.4-.92-.59-1.43-.59-.52 0-1.04.2-1.43.59L10.3 9.45l-7.72 7.72c-.78.78-.78 2.05 0 2.83L4 21.41c.39.39.9.59 1.41.59.51 0 1.02-.2 1.41-.59l7.78-7.78 2.81-2.81c.8-.78.8-2.07 0-2.86zM5.41 20L4 18.59l7.72-7.72 1.47 1.35L5.41 20z\"/>\n",
              "  </svg>\n",
              "      </button>\n",
              "      \n",
              "  <style>\n",
              "    .colab-df-container {\n",
              "      display:flex;\n",
              "      flex-wrap:wrap;\n",
              "      gap: 12px;\n",
              "    }\n",
              "\n",
              "    .colab-df-convert {\n",
              "      background-color: #E8F0FE;\n",
              "      border: none;\n",
              "      border-radius: 50%;\n",
              "      cursor: pointer;\n",
              "      display: none;\n",
              "      fill: #1967D2;\n",
              "      height: 32px;\n",
              "      padding: 0 0 0 0;\n",
              "      width: 32px;\n",
              "    }\n",
              "\n",
              "    .colab-df-convert:hover {\n",
              "      background-color: #E2EBFA;\n",
              "      box-shadow: 0px 1px 2px rgba(60, 64, 67, 0.3), 0px 1px 3px 1px rgba(60, 64, 67, 0.15);\n",
              "      fill: #174EA6;\n",
              "    }\n",
              "\n",
              "    [theme=dark] .colab-df-convert {\n",
              "      background-color: #3B4455;\n",
              "      fill: #D2E3FC;\n",
              "    }\n",
              "\n",
              "    [theme=dark] .colab-df-convert:hover {\n",
              "      background-color: #434B5C;\n",
              "      box-shadow: 0px 1px 3px 1px rgba(0, 0, 0, 0.15);\n",
              "      filter: drop-shadow(0px 1px 2px rgba(0, 0, 0, 0.3));\n",
              "      fill: #FFFFFF;\n",
              "    }\n",
              "  </style>\n",
              "\n",
              "      <script>\n",
              "        const buttonEl =\n",
              "          document.querySelector('#df-c9f1a77f-2522-45df-b2aa-696320ad9d65 button.colab-df-convert');\n",
              "        buttonEl.style.display =\n",
              "          google.colab.kernel.accessAllowed ? 'block' : 'none';\n",
              "\n",
              "        async function convertToInteractive(key) {\n",
              "          const element = document.querySelector('#df-c9f1a77f-2522-45df-b2aa-696320ad9d65');\n",
              "          const dataTable =\n",
              "            await google.colab.kernel.invokeFunction('convertToInteractive',\n",
              "                                                     [key], {});\n",
              "          if (!dataTable) return;\n",
              "\n",
              "          const docLinkHtml = 'Like what you see? Visit the ' +\n",
              "            '<a target=\"_blank\" href=https://colab.research.google.com/notebooks/data_table.ipynb>data table notebook</a>'\n",
              "            + ' to learn more about interactive tables.';\n",
              "          element.innerHTML = '';\n",
              "          dataTable['output_type'] = 'display_data';\n",
              "          await google.colab.output.renderOutput(dataTable, element);\n",
              "          const docLink = document.createElement('div');\n",
              "          docLink.innerHTML = docLinkHtml;\n",
              "          element.appendChild(docLink);\n",
              "        }\n",
              "      </script>\n",
              "    </div>\n",
              "  </div>\n",
              "  "
            ]
          },
          "metadata": {},
          "execution_count": 3
        }
      ],
      "source": [
        "df1.head(5)"
      ],
      "id": "7W_UEdCB7ywV"
    },
    {
      "cell_type": "code",
      "execution_count": 4,
      "metadata": {
        "colab": {
          "base_uri": "https://localhost:8080/",
          "height": 206
        },
        "id": "Iek6jEfM7ywX",
        "outputId": "ab6f46bc-13e0-44cd-8e72-ab9ca737153a"
      },
      "outputs": [
        {
          "output_type": "execute_result",
          "data": {
            "text/plain": [
              "    operator inout_travelling network_type  rating calldrop_category  \\\n",
              "995   Airtel           Indoor           4G       4      Satisfactory   \n",
              "996   Airtel           Indoor      Unknown       4      Satisfactory   \n",
              "997   Airtel           Indoor           4G       4      Satisfactory   \n",
              "998   Airtel           Indoor           4G       4      Satisfactory   \n",
              "999     RJio           Indoor           4G       4      Satisfactory   \n",
              "\n",
              "      latitude  longitude   state_name  \n",
              "995  24.088552  88.255137  West Bengal  \n",
              "996  24.088552  88.255137  West Bengal  \n",
              "997  24.088552  88.255137  West Bengal  \n",
              "998  24.088552  88.255137  West Bengal  \n",
              "999  -1.000000  -1.000000           NA  "
            ],
            "text/html": [
              "\n",
              "  <div id=\"df-d36f3e5a-87ec-4b9c-9126-2045c5ce28d9\">\n",
              "    <div class=\"colab-df-container\">\n",
              "      <div>\n",
              "<style scoped>\n",
              "    .dataframe tbody tr th:only-of-type {\n",
              "        vertical-align: middle;\n",
              "    }\n",
              "\n",
              "    .dataframe tbody tr th {\n",
              "        vertical-align: top;\n",
              "    }\n",
              "\n",
              "    .dataframe thead th {\n",
              "        text-align: right;\n",
              "    }\n",
              "</style>\n",
              "<table border=\"1\" class=\"dataframe\">\n",
              "  <thead>\n",
              "    <tr style=\"text-align: right;\">\n",
              "      <th></th>\n",
              "      <th>operator</th>\n",
              "      <th>inout_travelling</th>\n",
              "      <th>network_type</th>\n",
              "      <th>rating</th>\n",
              "      <th>calldrop_category</th>\n",
              "      <th>latitude</th>\n",
              "      <th>longitude</th>\n",
              "      <th>state_name</th>\n",
              "    </tr>\n",
              "  </thead>\n",
              "  <tbody>\n",
              "    <tr>\n",
              "      <th>995</th>\n",
              "      <td>Airtel</td>\n",
              "      <td>Indoor</td>\n",
              "      <td>4G</td>\n",
              "      <td>4</td>\n",
              "      <td>Satisfactory</td>\n",
              "      <td>24.088552</td>\n",
              "      <td>88.255137</td>\n",
              "      <td>West Bengal</td>\n",
              "    </tr>\n",
              "    <tr>\n",
              "      <th>996</th>\n",
              "      <td>Airtel</td>\n",
              "      <td>Indoor</td>\n",
              "      <td>Unknown</td>\n",
              "      <td>4</td>\n",
              "      <td>Satisfactory</td>\n",
              "      <td>24.088552</td>\n",
              "      <td>88.255137</td>\n",
              "      <td>West Bengal</td>\n",
              "    </tr>\n",
              "    <tr>\n",
              "      <th>997</th>\n",
              "      <td>Airtel</td>\n",
              "      <td>Indoor</td>\n",
              "      <td>4G</td>\n",
              "      <td>4</td>\n",
              "      <td>Satisfactory</td>\n",
              "      <td>24.088552</td>\n",
              "      <td>88.255137</td>\n",
              "      <td>West Bengal</td>\n",
              "    </tr>\n",
              "    <tr>\n",
              "      <th>998</th>\n",
              "      <td>Airtel</td>\n",
              "      <td>Indoor</td>\n",
              "      <td>4G</td>\n",
              "      <td>4</td>\n",
              "      <td>Satisfactory</td>\n",
              "      <td>24.088552</td>\n",
              "      <td>88.255137</td>\n",
              "      <td>West Bengal</td>\n",
              "    </tr>\n",
              "    <tr>\n",
              "      <th>999</th>\n",
              "      <td>RJio</td>\n",
              "      <td>Indoor</td>\n",
              "      <td>4G</td>\n",
              "      <td>4</td>\n",
              "      <td>Satisfactory</td>\n",
              "      <td>-1.000000</td>\n",
              "      <td>-1.000000</td>\n",
              "      <td>NA</td>\n",
              "    </tr>\n",
              "  </tbody>\n",
              "</table>\n",
              "</div>\n",
              "      <button class=\"colab-df-convert\" onclick=\"convertToInteractive('df-d36f3e5a-87ec-4b9c-9126-2045c5ce28d9')\"\n",
              "              title=\"Convert this dataframe to an interactive table.\"\n",
              "              style=\"display:none;\">\n",
              "        \n",
              "  <svg xmlns=\"http://www.w3.org/2000/svg\" height=\"24px\"viewBox=\"0 0 24 24\"\n",
              "       width=\"24px\">\n",
              "    <path d=\"M0 0h24v24H0V0z\" fill=\"none\"/>\n",
              "    <path d=\"M18.56 5.44l.94 2.06.94-2.06 2.06-.94-2.06-.94-.94-2.06-.94 2.06-2.06.94zm-11 1L8.5 8.5l.94-2.06 2.06-.94-2.06-.94L8.5 2.5l-.94 2.06-2.06.94zm10 10l.94 2.06.94-2.06 2.06-.94-2.06-.94-.94-2.06-.94 2.06-2.06.94z\"/><path d=\"M17.41 7.96l-1.37-1.37c-.4-.4-.92-.59-1.43-.59-.52 0-1.04.2-1.43.59L10.3 9.45l-7.72 7.72c-.78.78-.78 2.05 0 2.83L4 21.41c.39.39.9.59 1.41.59.51 0 1.02-.2 1.41-.59l7.78-7.78 2.81-2.81c.8-.78.8-2.07 0-2.86zM5.41 20L4 18.59l7.72-7.72 1.47 1.35L5.41 20z\"/>\n",
              "  </svg>\n",
              "      </button>\n",
              "      \n",
              "  <style>\n",
              "    .colab-df-container {\n",
              "      display:flex;\n",
              "      flex-wrap:wrap;\n",
              "      gap: 12px;\n",
              "    }\n",
              "\n",
              "    .colab-df-convert {\n",
              "      background-color: #E8F0FE;\n",
              "      border: none;\n",
              "      border-radius: 50%;\n",
              "      cursor: pointer;\n",
              "      display: none;\n",
              "      fill: #1967D2;\n",
              "      height: 32px;\n",
              "      padding: 0 0 0 0;\n",
              "      width: 32px;\n",
              "    }\n",
              "\n",
              "    .colab-df-convert:hover {\n",
              "      background-color: #E2EBFA;\n",
              "      box-shadow: 0px 1px 2px rgba(60, 64, 67, 0.3), 0px 1px 3px 1px rgba(60, 64, 67, 0.15);\n",
              "      fill: #174EA6;\n",
              "    }\n",
              "\n",
              "    [theme=dark] .colab-df-convert {\n",
              "      background-color: #3B4455;\n",
              "      fill: #D2E3FC;\n",
              "    }\n",
              "\n",
              "    [theme=dark] .colab-df-convert:hover {\n",
              "      background-color: #434B5C;\n",
              "      box-shadow: 0px 1px 3px 1px rgba(0, 0, 0, 0.15);\n",
              "      filter: drop-shadow(0px 1px 2px rgba(0, 0, 0, 0.3));\n",
              "      fill: #FFFFFF;\n",
              "    }\n",
              "  </style>\n",
              "\n",
              "      <script>\n",
              "        const buttonEl =\n",
              "          document.querySelector('#df-d36f3e5a-87ec-4b9c-9126-2045c5ce28d9 button.colab-df-convert');\n",
              "        buttonEl.style.display =\n",
              "          google.colab.kernel.accessAllowed ? 'block' : 'none';\n",
              "\n",
              "        async function convertToInteractive(key) {\n",
              "          const element = document.querySelector('#df-d36f3e5a-87ec-4b9c-9126-2045c5ce28d9');\n",
              "          const dataTable =\n",
              "            await google.colab.kernel.invokeFunction('convertToInteractive',\n",
              "                                                     [key], {});\n",
              "          if (!dataTable) return;\n",
              "\n",
              "          const docLinkHtml = 'Like what you see? Visit the ' +\n",
              "            '<a target=\"_blank\" href=https://colab.research.google.com/notebooks/data_table.ipynb>data table notebook</a>'\n",
              "            + ' to learn more about interactive tables.';\n",
              "          element.innerHTML = '';\n",
              "          dataTable['output_type'] = 'display_data';\n",
              "          await google.colab.output.renderOutput(dataTable, element);\n",
              "          const docLink = document.createElement('div');\n",
              "          docLink.innerHTML = docLinkHtml;\n",
              "          element.appendChild(docLink);\n",
              "        }\n",
              "      </script>\n",
              "    </div>\n",
              "  </div>\n",
              "  "
            ]
          },
          "metadata": {},
          "execution_count": 4
        }
      ],
      "source": [
        "df1.tail(5)"
      ],
      "id": "Iek6jEfM7ywX"
    },
    {
      "cell_type": "markdown",
      "metadata": {
        "id": "PXhpwD3D7ywY"
      },
      "source": [
        "## 2.4 Display the column headings, statistical information, description and statistical summary of the data."
      ],
      "id": "PXhpwD3D7ywY"
    },
    {
      "cell_type": "code",
      "execution_count": 5,
      "metadata": {
        "colab": {
          "base_uri": "https://localhost:8080/",
          "height": 300
        },
        "id": "hHFauHKk7ywY",
        "outputId": "85b41304-cf87-433e-e6ed-3148fd21723f"
      },
      "outputs": [
        {
          "output_type": "execute_result",
          "data": {
            "text/plain": [
              "            rating     latitude    longitude\n",
              "count  1000.000000  1000.000000  1000.000000\n",
              "mean      3.969000     9.242564    37.742583\n",
              "std       1.381285    11.126136    39.926874\n",
              "min       1.000000    -1.000000    -1.000000\n",
              "25%       4.000000    -1.000000    -1.000000\n",
              "50%       4.000000    -1.000000    -1.000000\n",
              "75%       5.000000    19.060281    76.404274\n",
              "max       5.000000    30.768951    88.438204"
            ],
            "text/html": [
              "\n",
              "  <div id=\"df-714deea3-6da0-4e4e-b88d-e9214c26851b\">\n",
              "    <div class=\"colab-df-container\">\n",
              "      <div>\n",
              "<style scoped>\n",
              "    .dataframe tbody tr th:only-of-type {\n",
              "        vertical-align: middle;\n",
              "    }\n",
              "\n",
              "    .dataframe tbody tr th {\n",
              "        vertical-align: top;\n",
              "    }\n",
              "\n",
              "    .dataframe thead th {\n",
              "        text-align: right;\n",
              "    }\n",
              "</style>\n",
              "<table border=\"1\" class=\"dataframe\">\n",
              "  <thead>\n",
              "    <tr style=\"text-align: right;\">\n",
              "      <th></th>\n",
              "      <th>rating</th>\n",
              "      <th>latitude</th>\n",
              "      <th>longitude</th>\n",
              "    </tr>\n",
              "  </thead>\n",
              "  <tbody>\n",
              "    <tr>\n",
              "      <th>count</th>\n",
              "      <td>1000.000000</td>\n",
              "      <td>1000.000000</td>\n",
              "      <td>1000.000000</td>\n",
              "    </tr>\n",
              "    <tr>\n",
              "      <th>mean</th>\n",
              "      <td>3.969000</td>\n",
              "      <td>9.242564</td>\n",
              "      <td>37.742583</td>\n",
              "    </tr>\n",
              "    <tr>\n",
              "      <th>std</th>\n",
              "      <td>1.381285</td>\n",
              "      <td>11.126136</td>\n",
              "      <td>39.926874</td>\n",
              "    </tr>\n",
              "    <tr>\n",
              "      <th>min</th>\n",
              "      <td>1.000000</td>\n",
              "      <td>-1.000000</td>\n",
              "      <td>-1.000000</td>\n",
              "    </tr>\n",
              "    <tr>\n",
              "      <th>25%</th>\n",
              "      <td>4.000000</td>\n",
              "      <td>-1.000000</td>\n",
              "      <td>-1.000000</td>\n",
              "    </tr>\n",
              "    <tr>\n",
              "      <th>50%</th>\n",
              "      <td>4.000000</td>\n",
              "      <td>-1.000000</td>\n",
              "      <td>-1.000000</td>\n",
              "    </tr>\n",
              "    <tr>\n",
              "      <th>75%</th>\n",
              "      <td>5.000000</td>\n",
              "      <td>19.060281</td>\n",
              "      <td>76.404274</td>\n",
              "    </tr>\n",
              "    <tr>\n",
              "      <th>max</th>\n",
              "      <td>5.000000</td>\n",
              "      <td>30.768951</td>\n",
              "      <td>88.438204</td>\n",
              "    </tr>\n",
              "  </tbody>\n",
              "</table>\n",
              "</div>\n",
              "      <button class=\"colab-df-convert\" onclick=\"convertToInteractive('df-714deea3-6da0-4e4e-b88d-e9214c26851b')\"\n",
              "              title=\"Convert this dataframe to an interactive table.\"\n",
              "              style=\"display:none;\">\n",
              "        \n",
              "  <svg xmlns=\"http://www.w3.org/2000/svg\" height=\"24px\"viewBox=\"0 0 24 24\"\n",
              "       width=\"24px\">\n",
              "    <path d=\"M0 0h24v24H0V0z\" fill=\"none\"/>\n",
              "    <path d=\"M18.56 5.44l.94 2.06.94-2.06 2.06-.94-2.06-.94-.94-2.06-.94 2.06-2.06.94zm-11 1L8.5 8.5l.94-2.06 2.06-.94-2.06-.94L8.5 2.5l-.94 2.06-2.06.94zm10 10l.94 2.06.94-2.06 2.06-.94-2.06-.94-.94-2.06-.94 2.06-2.06.94z\"/><path d=\"M17.41 7.96l-1.37-1.37c-.4-.4-.92-.59-1.43-.59-.52 0-1.04.2-1.43.59L10.3 9.45l-7.72 7.72c-.78.78-.78 2.05 0 2.83L4 21.41c.39.39.9.59 1.41.59.51 0 1.02-.2 1.41-.59l7.78-7.78 2.81-2.81c.8-.78.8-2.07 0-2.86zM5.41 20L4 18.59l7.72-7.72 1.47 1.35L5.41 20z\"/>\n",
              "  </svg>\n",
              "      </button>\n",
              "      \n",
              "  <style>\n",
              "    .colab-df-container {\n",
              "      display:flex;\n",
              "      flex-wrap:wrap;\n",
              "      gap: 12px;\n",
              "    }\n",
              "\n",
              "    .colab-df-convert {\n",
              "      background-color: #E8F0FE;\n",
              "      border: none;\n",
              "      border-radius: 50%;\n",
              "      cursor: pointer;\n",
              "      display: none;\n",
              "      fill: #1967D2;\n",
              "      height: 32px;\n",
              "      padding: 0 0 0 0;\n",
              "      width: 32px;\n",
              "    }\n",
              "\n",
              "    .colab-df-convert:hover {\n",
              "      background-color: #E2EBFA;\n",
              "      box-shadow: 0px 1px 2px rgba(60, 64, 67, 0.3), 0px 1px 3px 1px rgba(60, 64, 67, 0.15);\n",
              "      fill: #174EA6;\n",
              "    }\n",
              "\n",
              "    [theme=dark] .colab-df-convert {\n",
              "      background-color: #3B4455;\n",
              "      fill: #D2E3FC;\n",
              "    }\n",
              "\n",
              "    [theme=dark] .colab-df-convert:hover {\n",
              "      background-color: #434B5C;\n",
              "      box-shadow: 0px 1px 3px 1px rgba(0, 0, 0, 0.15);\n",
              "      filter: drop-shadow(0px 1px 2px rgba(0, 0, 0, 0.3));\n",
              "      fill: #FFFFFF;\n",
              "    }\n",
              "  </style>\n",
              "\n",
              "      <script>\n",
              "        const buttonEl =\n",
              "          document.querySelector('#df-714deea3-6da0-4e4e-b88d-e9214c26851b button.colab-df-convert');\n",
              "        buttonEl.style.display =\n",
              "          google.colab.kernel.accessAllowed ? 'block' : 'none';\n",
              "\n",
              "        async function convertToInteractive(key) {\n",
              "          const element = document.querySelector('#df-714deea3-6da0-4e4e-b88d-e9214c26851b');\n",
              "          const dataTable =\n",
              "            await google.colab.kernel.invokeFunction('convertToInteractive',\n",
              "                                                     [key], {});\n",
              "          if (!dataTable) return;\n",
              "\n",
              "          const docLinkHtml = 'Like what you see? Visit the ' +\n",
              "            '<a target=\"_blank\" href=https://colab.research.google.com/notebooks/data_table.ipynb>data table notebook</a>'\n",
              "            + ' to learn more about interactive tables.';\n",
              "          element.innerHTML = '';\n",
              "          dataTable['output_type'] = 'display_data';\n",
              "          await google.colab.output.renderOutput(dataTable, element);\n",
              "          const docLink = document.createElement('div');\n",
              "          docLink.innerHTML = docLinkHtml;\n",
              "          element.appendChild(docLink);\n",
              "        }\n",
              "      </script>\n",
              "    </div>\n",
              "  </div>\n",
              "  "
            ]
          },
          "metadata": {},
          "execution_count": 5
        }
      ],
      "source": [
        "df1.describe()"
      ],
      "id": "hHFauHKk7ywY"
    },
    {
      "cell_type": "code",
      "execution_count": 6,
      "metadata": {
        "colab": {
          "base_uri": "https://localhost:8080/",
          "height": 0
        },
        "id": "L_Jqozcd7ywZ",
        "outputId": "40d5c565-25a8-4da1-9e5d-dbcf5c1a14dd"
      },
      "outputs": [
        {
          "output_type": "execute_result",
          "data": {
            "text/plain": [
              "(1000, 8)"
            ]
          },
          "metadata": {},
          "execution_count": 6
        }
      ],
      "source": [
        "df1.shape"
      ],
      "id": "L_Jqozcd7ywZ"
    },
    {
      "cell_type": "markdown",
      "metadata": {
        "id": "ciWIcSfI7ywa"
      },
      "source": [
        "## 2.5 Write your observations from the above. \n",
        "1. Size of the dataset\n",
        "2. What type of data attributes are there?\n",
        "3. Is there any null data that has to be cleaned?\n"
      ],
      "id": "ciWIcSfI7ywa"
    },
    {
      "cell_type": "raw",
      "metadata": {
        "id": "A0v5pFD-7ywb"
      },
      "source": [
        "1) The dataset has 1000 data samples and 8 features for each sample\n",
        "2) There are 4 categorical features excluding the dependant feature that are namely Opearator, inout_travelling, network_type,state_name. There is 1 ordinal attribute named rating and then 2 geographical attributes named lattitude and longitude\n",
        "3)There is no null data that is to be cleaned"
      ],
      "id": "A0v5pFD-7ywb"
    },
    {
      "cell_type": "markdown",
      "metadata": {
        "id": "Uaf_E2PY7ywb"
      },
      "source": [
        "# 3. Data Preparation"
      ],
      "id": "Uaf_E2PY7ywb"
    },
    {
      "cell_type": "markdown",
      "metadata": {
        "id": "YUjxWL6f7ywc"
      },
      "source": [
        "## 3.1 Display how many unique values are present in each attribute\n"
      ],
      "id": "YUjxWL6f7ywc"
    },
    {
      "cell_type": "code",
      "execution_count": 7,
      "metadata": {
        "colab": {
          "base_uri": "https://localhost:8080/",
          "height": 0
        },
        "id": "WnPxuoI17ywc",
        "outputId": "560ab572-2ea5-4eec-9bf9-0a55678d2843"
      },
      "outputs": [
        {
          "output_type": "execute_result",
          "data": {
            "text/plain": [
              "array(['Satisfactory', 'Poor Voice Quality', 'Call Dropped'], dtype=object)"
            ]
          },
          "metadata": {},
          "execution_count": 7
        }
      ],
      "source": [
        "df1.calldrop_category.unique()"
      ],
      "id": "WnPxuoI17ywc"
    },
    {
      "cell_type": "code",
      "execution_count": 8,
      "metadata": {
        "colab": {
          "base_uri": "https://localhost:8080/",
          "height": 0
        },
        "id": "gunDE07s7ywd",
        "outputId": "9fc20571-f966-4a5b-8842-908b67b166e4"
      },
      "outputs": [
        {
          "output_type": "execute_result",
          "data": {
            "text/plain": [
              "array(['RJio', 'Idea', 'MTNL', 'Airtel', 'Vodafone', 'BSNL'], dtype=object)"
            ]
          },
          "metadata": {},
          "execution_count": 8
        }
      ],
      "source": [
        "df1.operator.unique()"
      ],
      "id": "gunDE07s7ywd"
    },
    {
      "cell_type": "code",
      "execution_count": 9,
      "metadata": {
        "colab": {
          "base_uri": "https://localhost:8080/",
          "height": 0
        },
        "id": "e1XqWU397ywd",
        "outputId": "9ea2a8d1-fd29-43b4-8e4b-237ebb4fb155"
      },
      "outputs": [
        {
          "output_type": "execute_result",
          "data": {
            "text/plain": [
              "array(['Indoor', 'Travelling', 'Outdoor'], dtype=object)"
            ]
          },
          "metadata": {},
          "execution_count": 9
        }
      ],
      "source": [
        "df1.inout_travelling.unique()"
      ],
      "id": "e1XqWU397ywd"
    },
    {
      "cell_type": "code",
      "execution_count": 10,
      "metadata": {
        "colab": {
          "base_uri": "https://localhost:8080/",
          "height": 0
        },
        "id": "ZyuDczl37ywe",
        "outputId": "da10edc8-3815-4b25-f9dc-68103dc6bbe8"
      },
      "outputs": [
        {
          "output_type": "execute_result",
          "data": {
            "text/plain": [
              "array(['4G', '3G', 'Unknown', '2G'], dtype=object)"
            ]
          },
          "metadata": {},
          "execution_count": 10
        }
      ],
      "source": [
        "df1.network_type.unique()"
      ],
      "id": "ZyuDczl37ywe"
    },
    {
      "cell_type": "code",
      "execution_count": 11,
      "metadata": {
        "colab": {
          "base_uri": "https://localhost:8080/",
          "height": 0
        },
        "id": "bs_HCUBl7ywf",
        "outputId": "8ddf9a36-bc3c-4fd3-a4cd-dd8d80347b26"
      },
      "outputs": [
        {
          "output_type": "execute_result",
          "data": {
            "text/plain": [
              "array([4, 5, 2, 3, 1])"
            ]
          },
          "metadata": {},
          "execution_count": 11
        }
      ],
      "source": [
        "df1.rating.unique()"
      ],
      "id": "bs_HCUBl7ywf"
    },
    {
      "cell_type": "code",
      "execution_count": null,
      "metadata": {
        "colab": {
          "base_uri": "https://localhost:8080/"
        },
        "id": "t_8VaNDT7ywf",
        "outputId": "401e78d2-1dff-462d-a996-25dd9f0eb6f4"
      },
      "outputs": [
        {
          "output_type": "execute_result",
          "data": {
            "text/plain": [
              "array(['Kerala', 'Uttar Pradesh', 'NA', 'Karnataka', 'Maharashtra',\n",
              "       'Rajasthan', 'Telangana', 'West Bengal', 'Haryana',\n",
              "       'Andhra Pradesh', 'Jharkhand', 'Madhya Pradesh', 'Odisha',\n",
              "       'Chhattisgarh', 'Tamil Nadu', 'Gujarat', 'Punjab', 'Delhi',\n",
              "       'Uttarakhand'], dtype=object)"
            ]
          },
          "metadata": {},
          "execution_count": 13
        }
      ],
      "source": [
        "df1.state_name.unique()"
      ],
      "id": "t_8VaNDT7ywf"
    },
    {
      "cell_type": "markdown",
      "metadata": {
        "id": "UTvGjOfl7ywg"
      },
      "source": [
        "## 3.2 Check for the presence of duplicate data, identify the attributes with duplicate data, report the attributes. Mention the method adopted to remove duplicate data if present. Report the results again."
      ],
      "id": "UTvGjOfl7ywg"
    },
    {
      "cell_type": "code",
      "execution_count": 12,
      "metadata": {
        "colab": {
          "base_uri": "https://localhost:8080/",
          "height": 423
        },
        "id": "CDL-mP1T7ywg",
        "outputId": "1062aab6-c6f9-4bac-b0f5-705fcdba3cc6"
      },
      "outputs": [
        {
          "output_type": "execute_result",
          "data": {
            "text/plain": [
              "    operator inout_travelling network_type  rating calldrop_category  \\\n",
              "11      Idea           Indoor           3G       5      Satisfactory   \n",
              "22      RJio          Outdoor           4G       4      Satisfactory   \n",
              "31      Idea           Indoor           4G       5      Satisfactory   \n",
              "35    Airtel           Indoor           2G       4      Satisfactory   \n",
              "39      RJio           Indoor      Unknown       1      Call Dropped   \n",
              "..       ...              ...          ...     ...               ...   \n",
              "995   Airtel           Indoor           4G       4      Satisfactory   \n",
              "996   Airtel           Indoor      Unknown       4      Satisfactory   \n",
              "997   Airtel           Indoor           4G       4      Satisfactory   \n",
              "998   Airtel           Indoor           4G       4      Satisfactory   \n",
              "999     RJio           Indoor           4G       4      Satisfactory   \n",
              "\n",
              "      latitude  longitude   state_name  \n",
              "11   -1.000000  -1.000000           NA  \n",
              "22   18.510783  73.853748  Maharashtra  \n",
              "31    9.641868  76.578046       Kerala  \n",
              "35   24.088758  88.255632  West Bengal  \n",
              "39   -1.000000  -1.000000           NA  \n",
              "..         ...        ...          ...  \n",
              "995  24.088552  88.255137  West Bengal  \n",
              "996  24.088552  88.255137  West Bengal  \n",
              "997  24.088552  88.255137  West Bengal  \n",
              "998  24.088552  88.255137  West Bengal  \n",
              "999  -1.000000  -1.000000           NA  \n",
              "\n",
              "[603 rows x 8 columns]"
            ],
            "text/html": [
              "\n",
              "  <div id=\"df-e60ff083-0b3a-4efb-8cc7-b030959c8975\">\n",
              "    <div class=\"colab-df-container\">\n",
              "      <div>\n",
              "<style scoped>\n",
              "    .dataframe tbody tr th:only-of-type {\n",
              "        vertical-align: middle;\n",
              "    }\n",
              "\n",
              "    .dataframe tbody tr th {\n",
              "        vertical-align: top;\n",
              "    }\n",
              "\n",
              "    .dataframe thead th {\n",
              "        text-align: right;\n",
              "    }\n",
              "</style>\n",
              "<table border=\"1\" class=\"dataframe\">\n",
              "  <thead>\n",
              "    <tr style=\"text-align: right;\">\n",
              "      <th></th>\n",
              "      <th>operator</th>\n",
              "      <th>inout_travelling</th>\n",
              "      <th>network_type</th>\n",
              "      <th>rating</th>\n",
              "      <th>calldrop_category</th>\n",
              "      <th>latitude</th>\n",
              "      <th>longitude</th>\n",
              "      <th>state_name</th>\n",
              "    </tr>\n",
              "  </thead>\n",
              "  <tbody>\n",
              "    <tr>\n",
              "      <th>11</th>\n",
              "      <td>Idea</td>\n",
              "      <td>Indoor</td>\n",
              "      <td>3G</td>\n",
              "      <td>5</td>\n",
              "      <td>Satisfactory</td>\n",
              "      <td>-1.000000</td>\n",
              "      <td>-1.000000</td>\n",
              "      <td>NA</td>\n",
              "    </tr>\n",
              "    <tr>\n",
              "      <th>22</th>\n",
              "      <td>RJio</td>\n",
              "      <td>Outdoor</td>\n",
              "      <td>4G</td>\n",
              "      <td>4</td>\n",
              "      <td>Satisfactory</td>\n",
              "      <td>18.510783</td>\n",
              "      <td>73.853748</td>\n",
              "      <td>Maharashtra</td>\n",
              "    </tr>\n",
              "    <tr>\n",
              "      <th>31</th>\n",
              "      <td>Idea</td>\n",
              "      <td>Indoor</td>\n",
              "      <td>4G</td>\n",
              "      <td>5</td>\n",
              "      <td>Satisfactory</td>\n",
              "      <td>9.641868</td>\n",
              "      <td>76.578046</td>\n",
              "      <td>Kerala</td>\n",
              "    </tr>\n",
              "    <tr>\n",
              "      <th>35</th>\n",
              "      <td>Airtel</td>\n",
              "      <td>Indoor</td>\n",
              "      <td>2G</td>\n",
              "      <td>4</td>\n",
              "      <td>Satisfactory</td>\n",
              "      <td>24.088758</td>\n",
              "      <td>88.255632</td>\n",
              "      <td>West Bengal</td>\n",
              "    </tr>\n",
              "    <tr>\n",
              "      <th>39</th>\n",
              "      <td>RJio</td>\n",
              "      <td>Indoor</td>\n",
              "      <td>Unknown</td>\n",
              "      <td>1</td>\n",
              "      <td>Call Dropped</td>\n",
              "      <td>-1.000000</td>\n",
              "      <td>-1.000000</td>\n",
              "      <td>NA</td>\n",
              "    </tr>\n",
              "    <tr>\n",
              "      <th>...</th>\n",
              "      <td>...</td>\n",
              "      <td>...</td>\n",
              "      <td>...</td>\n",
              "      <td>...</td>\n",
              "      <td>...</td>\n",
              "      <td>...</td>\n",
              "      <td>...</td>\n",
              "      <td>...</td>\n",
              "    </tr>\n",
              "    <tr>\n",
              "      <th>995</th>\n",
              "      <td>Airtel</td>\n",
              "      <td>Indoor</td>\n",
              "      <td>4G</td>\n",
              "      <td>4</td>\n",
              "      <td>Satisfactory</td>\n",
              "      <td>24.088552</td>\n",
              "      <td>88.255137</td>\n",
              "      <td>West Bengal</td>\n",
              "    </tr>\n",
              "    <tr>\n",
              "      <th>996</th>\n",
              "      <td>Airtel</td>\n",
              "      <td>Indoor</td>\n",
              "      <td>Unknown</td>\n",
              "      <td>4</td>\n",
              "      <td>Satisfactory</td>\n",
              "      <td>24.088552</td>\n",
              "      <td>88.255137</td>\n",
              "      <td>West Bengal</td>\n",
              "    </tr>\n",
              "    <tr>\n",
              "      <th>997</th>\n",
              "      <td>Airtel</td>\n",
              "      <td>Indoor</td>\n",
              "      <td>4G</td>\n",
              "      <td>4</td>\n",
              "      <td>Satisfactory</td>\n",
              "      <td>24.088552</td>\n",
              "      <td>88.255137</td>\n",
              "      <td>West Bengal</td>\n",
              "    </tr>\n",
              "    <tr>\n",
              "      <th>998</th>\n",
              "      <td>Airtel</td>\n",
              "      <td>Indoor</td>\n",
              "      <td>4G</td>\n",
              "      <td>4</td>\n",
              "      <td>Satisfactory</td>\n",
              "      <td>24.088552</td>\n",
              "      <td>88.255137</td>\n",
              "      <td>West Bengal</td>\n",
              "    </tr>\n",
              "    <tr>\n",
              "      <th>999</th>\n",
              "      <td>RJio</td>\n",
              "      <td>Indoor</td>\n",
              "      <td>4G</td>\n",
              "      <td>4</td>\n",
              "      <td>Satisfactory</td>\n",
              "      <td>-1.000000</td>\n",
              "      <td>-1.000000</td>\n",
              "      <td>NA</td>\n",
              "    </tr>\n",
              "  </tbody>\n",
              "</table>\n",
              "<p>603 rows × 8 columns</p>\n",
              "</div>\n",
              "      <button class=\"colab-df-convert\" onclick=\"convertToInteractive('df-e60ff083-0b3a-4efb-8cc7-b030959c8975')\"\n",
              "              title=\"Convert this dataframe to an interactive table.\"\n",
              "              style=\"display:none;\">\n",
              "        \n",
              "  <svg xmlns=\"http://www.w3.org/2000/svg\" height=\"24px\"viewBox=\"0 0 24 24\"\n",
              "       width=\"24px\">\n",
              "    <path d=\"M0 0h24v24H0V0z\" fill=\"none\"/>\n",
              "    <path d=\"M18.56 5.44l.94 2.06.94-2.06 2.06-.94-2.06-.94-.94-2.06-.94 2.06-2.06.94zm-11 1L8.5 8.5l.94-2.06 2.06-.94-2.06-.94L8.5 2.5l-.94 2.06-2.06.94zm10 10l.94 2.06.94-2.06 2.06-.94-2.06-.94-.94-2.06-.94 2.06-2.06.94z\"/><path d=\"M17.41 7.96l-1.37-1.37c-.4-.4-.92-.59-1.43-.59-.52 0-1.04.2-1.43.59L10.3 9.45l-7.72 7.72c-.78.78-.78 2.05 0 2.83L4 21.41c.39.39.9.59 1.41.59.51 0 1.02-.2 1.41-.59l7.78-7.78 2.81-2.81c.8-.78.8-2.07 0-2.86zM5.41 20L4 18.59l7.72-7.72 1.47 1.35L5.41 20z\"/>\n",
              "  </svg>\n",
              "      </button>\n",
              "      \n",
              "  <style>\n",
              "    .colab-df-container {\n",
              "      display:flex;\n",
              "      flex-wrap:wrap;\n",
              "      gap: 12px;\n",
              "    }\n",
              "\n",
              "    .colab-df-convert {\n",
              "      background-color: #E8F0FE;\n",
              "      border: none;\n",
              "      border-radius: 50%;\n",
              "      cursor: pointer;\n",
              "      display: none;\n",
              "      fill: #1967D2;\n",
              "      height: 32px;\n",
              "      padding: 0 0 0 0;\n",
              "      width: 32px;\n",
              "    }\n",
              "\n",
              "    .colab-df-convert:hover {\n",
              "      background-color: #E2EBFA;\n",
              "      box-shadow: 0px 1px 2px rgba(60, 64, 67, 0.3), 0px 1px 3px 1px rgba(60, 64, 67, 0.15);\n",
              "      fill: #174EA6;\n",
              "    }\n",
              "\n",
              "    [theme=dark] .colab-df-convert {\n",
              "      background-color: #3B4455;\n",
              "      fill: #D2E3FC;\n",
              "    }\n",
              "\n",
              "    [theme=dark] .colab-df-convert:hover {\n",
              "      background-color: #434B5C;\n",
              "      box-shadow: 0px 1px 3px 1px rgba(0, 0, 0, 0.15);\n",
              "      filter: drop-shadow(0px 1px 2px rgba(0, 0, 0, 0.3));\n",
              "      fill: #FFFFFF;\n",
              "    }\n",
              "  </style>\n",
              "\n",
              "      <script>\n",
              "        const buttonEl =\n",
              "          document.querySelector('#df-e60ff083-0b3a-4efb-8cc7-b030959c8975 button.colab-df-convert');\n",
              "        buttonEl.style.display =\n",
              "          google.colab.kernel.accessAllowed ? 'block' : 'none';\n",
              "\n",
              "        async function convertToInteractive(key) {\n",
              "          const element = document.querySelector('#df-e60ff083-0b3a-4efb-8cc7-b030959c8975');\n",
              "          const dataTable =\n",
              "            await google.colab.kernel.invokeFunction('convertToInteractive',\n",
              "                                                     [key], {});\n",
              "          if (!dataTable) return;\n",
              "\n",
              "          const docLinkHtml = 'Like what you see? Visit the ' +\n",
              "            '<a target=\"_blank\" href=https://colab.research.google.com/notebooks/data_table.ipynb>data table notebook</a>'\n",
              "            + ' to learn more about interactive tables.';\n",
              "          element.innerHTML = '';\n",
              "          dataTable['output_type'] = 'display_data';\n",
              "          await google.colab.output.renderOutput(dataTable, element);\n",
              "          const docLink = document.createElement('div');\n",
              "          docLink.innerHTML = docLinkHtml;\n",
              "          element.appendChild(docLink);\n",
              "        }\n",
              "      </script>\n",
              "    </div>\n",
              "  </div>\n",
              "  "
            ]
          },
          "metadata": {},
          "execution_count": 12
        }
      ],
      "source": [
        "##---------Type the code below this line------------------##\n",
        "df1[df1.duplicated()]\n",
        "\n",
        "\n",
        "\n",
        "#As per the output, we can see that last few rows have been duplicated"
      ],
      "id": "CDL-mP1T7ywg"
    },
    {
      "cell_type": "code",
      "execution_count": 13,
      "metadata": {
        "id": "2HOEI1lP7ywh"
      },
      "outputs": [],
      "source": [
        "df1.drop_duplicates(inplace=True)"
      ],
      "id": "2HOEI1lP7ywh"
    },
    {
      "cell_type": "code",
      "execution_count": 14,
      "metadata": {
        "colab": {
          "base_uri": "https://localhost:8080/",
          "height": 50
        },
        "id": "fLVMs2WJ7ywh",
        "outputId": "1aa5ed9f-67d4-42f3-ceb9-011095f8f5b9"
      },
      "outputs": [
        {
          "output_type": "execute_result",
          "data": {
            "text/plain": [
              "Empty DataFrame\n",
              "Columns: [operator, inout_travelling, network_type, rating, calldrop_category, latitude, longitude, state_name]\n",
              "Index: []"
            ],
            "text/html": [
              "\n",
              "  <div id=\"df-bf95457f-9402-4d5c-8eeb-c9d30a31d08d\">\n",
              "    <div class=\"colab-df-container\">\n",
              "      <div>\n",
              "<style scoped>\n",
              "    .dataframe tbody tr th:only-of-type {\n",
              "        vertical-align: middle;\n",
              "    }\n",
              "\n",
              "    .dataframe tbody tr th {\n",
              "        vertical-align: top;\n",
              "    }\n",
              "\n",
              "    .dataframe thead th {\n",
              "        text-align: right;\n",
              "    }\n",
              "</style>\n",
              "<table border=\"1\" class=\"dataframe\">\n",
              "  <thead>\n",
              "    <tr style=\"text-align: right;\">\n",
              "      <th></th>\n",
              "      <th>operator</th>\n",
              "      <th>inout_travelling</th>\n",
              "      <th>network_type</th>\n",
              "      <th>rating</th>\n",
              "      <th>calldrop_category</th>\n",
              "      <th>latitude</th>\n",
              "      <th>longitude</th>\n",
              "      <th>state_name</th>\n",
              "    </tr>\n",
              "  </thead>\n",
              "  <tbody>\n",
              "  </tbody>\n",
              "</table>\n",
              "</div>\n",
              "      <button class=\"colab-df-convert\" onclick=\"convertToInteractive('df-bf95457f-9402-4d5c-8eeb-c9d30a31d08d')\"\n",
              "              title=\"Convert this dataframe to an interactive table.\"\n",
              "              style=\"display:none;\">\n",
              "        \n",
              "  <svg xmlns=\"http://www.w3.org/2000/svg\" height=\"24px\"viewBox=\"0 0 24 24\"\n",
              "       width=\"24px\">\n",
              "    <path d=\"M0 0h24v24H0V0z\" fill=\"none\"/>\n",
              "    <path d=\"M18.56 5.44l.94 2.06.94-2.06 2.06-.94-2.06-.94-.94-2.06-.94 2.06-2.06.94zm-11 1L8.5 8.5l.94-2.06 2.06-.94-2.06-.94L8.5 2.5l-.94 2.06-2.06.94zm10 10l.94 2.06.94-2.06 2.06-.94-2.06-.94-.94-2.06-.94 2.06-2.06.94z\"/><path d=\"M17.41 7.96l-1.37-1.37c-.4-.4-.92-.59-1.43-.59-.52 0-1.04.2-1.43.59L10.3 9.45l-7.72 7.72c-.78.78-.78 2.05 0 2.83L4 21.41c.39.39.9.59 1.41.59.51 0 1.02-.2 1.41-.59l7.78-7.78 2.81-2.81c.8-.78.8-2.07 0-2.86zM5.41 20L4 18.59l7.72-7.72 1.47 1.35L5.41 20z\"/>\n",
              "  </svg>\n",
              "      </button>\n",
              "      \n",
              "  <style>\n",
              "    .colab-df-container {\n",
              "      display:flex;\n",
              "      flex-wrap:wrap;\n",
              "      gap: 12px;\n",
              "    }\n",
              "\n",
              "    .colab-df-convert {\n",
              "      background-color: #E8F0FE;\n",
              "      border: none;\n",
              "      border-radius: 50%;\n",
              "      cursor: pointer;\n",
              "      display: none;\n",
              "      fill: #1967D2;\n",
              "      height: 32px;\n",
              "      padding: 0 0 0 0;\n",
              "      width: 32px;\n",
              "    }\n",
              "\n",
              "    .colab-df-convert:hover {\n",
              "      background-color: #E2EBFA;\n",
              "      box-shadow: 0px 1px 2px rgba(60, 64, 67, 0.3), 0px 1px 3px 1px rgba(60, 64, 67, 0.15);\n",
              "      fill: #174EA6;\n",
              "    }\n",
              "\n",
              "    [theme=dark] .colab-df-convert {\n",
              "      background-color: #3B4455;\n",
              "      fill: #D2E3FC;\n",
              "    }\n",
              "\n",
              "    [theme=dark] .colab-df-convert:hover {\n",
              "      background-color: #434B5C;\n",
              "      box-shadow: 0px 1px 3px 1px rgba(0, 0, 0, 0.15);\n",
              "      filter: drop-shadow(0px 1px 2px rgba(0, 0, 0, 0.3));\n",
              "      fill: #FFFFFF;\n",
              "    }\n",
              "  </style>\n",
              "\n",
              "      <script>\n",
              "        const buttonEl =\n",
              "          document.querySelector('#df-bf95457f-9402-4d5c-8eeb-c9d30a31d08d button.colab-df-convert');\n",
              "        buttonEl.style.display =\n",
              "          google.colab.kernel.accessAllowed ? 'block' : 'none';\n",
              "\n",
              "        async function convertToInteractive(key) {\n",
              "          const element = document.querySelector('#df-bf95457f-9402-4d5c-8eeb-c9d30a31d08d');\n",
              "          const dataTable =\n",
              "            await google.colab.kernel.invokeFunction('convertToInteractive',\n",
              "                                                     [key], {});\n",
              "          if (!dataTable) return;\n",
              "\n",
              "          const docLinkHtml = 'Like what you see? Visit the ' +\n",
              "            '<a target=\"_blank\" href=https://colab.research.google.com/notebooks/data_table.ipynb>data table notebook</a>'\n",
              "            + ' to learn more about interactive tables.';\n",
              "          element.innerHTML = '';\n",
              "          dataTable['output_type'] = 'display_data';\n",
              "          await google.colab.output.renderOutput(dataTable, element);\n",
              "          const docLink = document.createElement('div');\n",
              "          docLink.innerHTML = docLinkHtml;\n",
              "          element.appendChild(docLink);\n",
              "        }\n",
              "      </script>\n",
              "    </div>\n",
              "  </div>\n",
              "  "
            ]
          },
          "metadata": {},
          "execution_count": 14
        }
      ],
      "source": [
        "df1[df1.duplicated()]\n",
        "\n",
        "#Now as we can see , the results are blank and so all duplicate rows have been removed "
      ],
      "id": "fLVMs2WJ7ywh"
    },
    {
      "cell_type": "code",
      "execution_count": 15,
      "metadata": {
        "colab": {
          "base_uri": "https://localhost:8080/",
          "height": 0
        },
        "id": "6zygHkk37ywh",
        "outputId": "cc31f8dc-6b66-4720-b4b2-912fa9638c45"
      },
      "outputs": [
        {
          "output_type": "execute_result",
          "data": {
            "text/plain": [
              "(397, 8)"
            ]
          },
          "metadata": {},
          "execution_count": 15
        }
      ],
      "source": [
        "df1.shape\n",
        "\n",
        "#After removing the duplicates we see that there are only 397 rows"
      ],
      "id": "6zygHkk37ywh"
    },
    {
      "cell_type": "markdown",
      "metadata": {
        "id": "0hB_EFBl7ywi"
      },
      "source": [
        "## 3.3 Show whether there are any missing values in each attribute. Report the same.\n"
      ],
      "id": "0hB_EFBl7ywi"
    },
    {
      "cell_type": "code",
      "execution_count": 16,
      "metadata": {
        "colab": {
          "base_uri": "https://localhost:8080/",
          "height": 0
        },
        "id": "Ky0dei6p7ywi",
        "outputId": "dab126c4-ecb2-43a5-b43e-516dcfe55b07"
      },
      "outputs": [
        {
          "output_type": "stream",
          "name": "stdout",
          "text": [
            "['4G' '3G' 'Unknown' '2G']\n",
            "['Kerala' 'Uttar Pradesh' 'NA' 'Karnataka' 'Maharashtra' 'Rajasthan'\n",
            " 'Telangana' 'West Bengal' 'Haryana' 'Andhra Pradesh' 'Jharkhand'\n",
            " 'Madhya Pradesh' 'Odisha' 'Chhattisgarh' 'Tamil Nadu' 'Gujarat' 'Punjab'\n",
            " 'Delhi' 'Uttarakhand']\n"
          ]
        }
      ],
      "source": [
        "##---------Type the code below this line------------------##\n",
        "\n",
        "#There are missing data in the columns \"network_type\" and \"state_name\" \n",
        "#where missing value in \"network_type\" is represented by Unknown and missing value in \"state_name\" \n",
        "#is represented by NA\n",
        "\n",
        "print(df1.network_type.unique())\n",
        "\n",
        "print(df1.state_name.unique())\n",
        "#There is no missing data in any columns"
      ],
      "id": "Ky0dei6p7ywi"
    },
    {
      "cell_type": "markdown",
      "metadata": {
        "id": "ai8pVN-47ywj"
      },
      "source": [
        "## 3.4 Clean the missing data using any imputation technique, mention the method used and again report the change after cleaning the data."
      ],
      "id": "ai8pVN-47ywj"
    },
    {
      "cell_type": "code",
      "execution_count": 17,
      "metadata": {
        "colab": {
          "base_uri": "https://localhost:8080/",
          "height": 0
        },
        "id": "uk75h02t7ywj",
        "outputId": "fe43b7b5-61af-4b6f-c3ac-70440c46a64a"
      },
      "outputs": [
        {
          "output_type": "execute_result",
          "data": {
            "text/plain": [
              "4G         266\n",
              "Unknown     69\n",
              "3G          45\n",
              "2G          17\n",
              "Name: network_type, dtype: int64"
            ]
          },
          "metadata": {},
          "execution_count": 17
        }
      ],
      "source": [
        "#The mode of this column is 4G\n",
        "\n",
        "df1['network_type'].value_counts()"
      ],
      "id": "uk75h02t7ywj"
    },
    {
      "cell_type": "code",
      "execution_count": 18,
      "metadata": {
        "colab": {
          "base_uri": "https://localhost:8080/",
          "height": 0
        },
        "id": "PL9X02Kx7ywk",
        "outputId": "8728fcd7-2886-44ce-c228-b25a257c2448"
      },
      "outputs": [
        {
          "output_type": "execute_result",
          "data": {
            "text/plain": [
              "Maharashtra       105\n",
              "NA                 81\n",
              "Uttar Pradesh      47\n",
              "Kerala             31\n",
              "West Bengal        27\n",
              "Karnataka          23\n",
              "Chhattisgarh       21\n",
              "Andhra Pradesh     10\n",
              "Rajasthan          10\n",
              "Madhya Pradesh      9\n",
              "Gujarat             8\n",
              "Odisha              7\n",
              "Jharkhand           5\n",
              "Tamil Nadu          4\n",
              "Haryana             3\n",
              "Telangana           2\n",
              "Delhi               2\n",
              "Punjab              1\n",
              "Uttarakhand         1\n",
              "Name: state_name, dtype: int64"
            ]
          },
          "metadata": {},
          "execution_count": 18
        }
      ],
      "source": [
        "#The mode of this column is maharashtra\n",
        "\n",
        "df1['state_name'].value_counts()"
      ],
      "id": "PL9X02Kx7ywk"
    },
    {
      "cell_type": "code",
      "execution_count": 19,
      "metadata": {
        "id": "Dt1jFep07ywk"
      },
      "outputs": [],
      "source": [
        "##---------Type the code below this line------------------##\n",
        "\n",
        "#We are replacing the column missing values with mode of the data as obtained above\n",
        "\n",
        "df1['network_type'] = df1['network_type'].replace(['Unknown'],'4G')\n",
        "df1['state_name'] = df1['state_name'].replace(['NA'],'Maharashtra')"
      ],
      "id": "Dt1jFep07ywk"
    },
    {
      "cell_type": "code",
      "execution_count": 20,
      "metadata": {
        "colab": {
          "base_uri": "https://localhost:8080/",
          "height": 0
        },
        "id": "fnhdN9BK7ywl",
        "outputId": "6c2475e0-e922-4e65-c589-50cfbeda80ff"
      },
      "outputs": [
        {
          "output_type": "stream",
          "name": "stdout",
          "text": [
            "['4G' '3G' '2G']\n",
            "['Kerala' 'Uttar Pradesh' 'Maharashtra' 'Karnataka' 'Rajasthan'\n",
            " 'Telangana' 'West Bengal' 'Haryana' 'Andhra Pradesh' 'Jharkhand'\n",
            " 'Madhya Pradesh' 'Odisha' 'Chhattisgarh' 'Tamil Nadu' 'Gujarat' 'Punjab'\n",
            " 'Delhi' 'Uttarakhand']\n"
          ]
        }
      ],
      "source": [
        "# We are going to verify if missing values are eliminated\n",
        "\n",
        "print(df1.network_type.unique())\n",
        "\n",
        "print(df1.state_name.unique())"
      ],
      "id": "fnhdN9BK7ywl"
    },
    {
      "cell_type": "markdown",
      "metadata": {
        "id": "jPUN_h7u7ywl"
      },
      "source": [
        "## 3.5 Check if all the attributes are following the same format and are consistent. If not, report all such attributes and what inconsistencies are present."
      ],
      "id": "jPUN_h7u7ywl"
    },
    {
      "cell_type": "code",
      "execution_count": 21,
      "metadata": {
        "colab": {
          "base_uri": "https://localhost:8080/",
          "height": 423
        },
        "id": "Q9TFwP9d7ywl",
        "outputId": "35e4f0ab-35c3-4f0a-a62c-8220b5febcd8"
      },
      "outputs": [
        {
          "output_type": "execute_result",
          "data": {
            "text/plain": [
              "     operator inout_travelling network_type  rating   calldrop_category  \\\n",
              "0        RJio           Indoor           4G       4        Satisfactory   \n",
              "1        RJio       Travelling           4G       5        Satisfactory   \n",
              "2        RJio           Indoor           4G       4        Satisfactory   \n",
              "3        Idea          Outdoor           4G       2  Poor Voice Quality   \n",
              "4        MTNL           Indoor           3G       3  Poor Voice Quality   \n",
              "..        ...              ...          ...     ...                 ...   \n",
              "985  Vodafone           Indoor           4G       2  Poor Voice Quality   \n",
              "986      BSNL       Travelling           4G       5        Satisfactory   \n",
              "992  Vodafone           Indoor           4G       2  Poor Voice Quality   \n",
              "993    Airtel           Indoor           4G       4        Satisfactory   \n",
              "994    Airtel           Indoor           4G       4        Satisfactory   \n",
              "\n",
              "      latitude  longitude     state_name  \n",
              "0    10.303162  76.223051         Kerala  \n",
              "1    26.727374  80.898619  Uttar Pradesh  \n",
              "2    -1.000000  -1.000000    Maharashtra  \n",
              "3    12.930553  77.617564      Karnataka  \n",
              "4    19.155222  72.935275    Maharashtra  \n",
              "..         ...        ...            ...  \n",
              "985  23.578263  87.179453    West Bengal  \n",
              "986  23.605407  87.165057    West Bengal  \n",
              "992  -1.000000  -1.000000    Maharashtra  \n",
              "993  24.088552  88.255137    West Bengal  \n",
              "994  24.088552  88.255137    West Bengal  \n",
              "\n",
              "[397 rows x 8 columns]"
            ],
            "text/html": [
              "\n",
              "  <div id=\"df-be52889c-a418-48e2-a4c7-fcf8c830239a\">\n",
              "    <div class=\"colab-df-container\">\n",
              "      <div>\n",
              "<style scoped>\n",
              "    .dataframe tbody tr th:only-of-type {\n",
              "        vertical-align: middle;\n",
              "    }\n",
              "\n",
              "    .dataframe tbody tr th {\n",
              "        vertical-align: top;\n",
              "    }\n",
              "\n",
              "    .dataframe thead th {\n",
              "        text-align: right;\n",
              "    }\n",
              "</style>\n",
              "<table border=\"1\" class=\"dataframe\">\n",
              "  <thead>\n",
              "    <tr style=\"text-align: right;\">\n",
              "      <th></th>\n",
              "      <th>operator</th>\n",
              "      <th>inout_travelling</th>\n",
              "      <th>network_type</th>\n",
              "      <th>rating</th>\n",
              "      <th>calldrop_category</th>\n",
              "      <th>latitude</th>\n",
              "      <th>longitude</th>\n",
              "      <th>state_name</th>\n",
              "    </tr>\n",
              "  </thead>\n",
              "  <tbody>\n",
              "    <tr>\n",
              "      <th>0</th>\n",
              "      <td>RJio</td>\n",
              "      <td>Indoor</td>\n",
              "      <td>4G</td>\n",
              "      <td>4</td>\n",
              "      <td>Satisfactory</td>\n",
              "      <td>10.303162</td>\n",
              "      <td>76.223051</td>\n",
              "      <td>Kerala</td>\n",
              "    </tr>\n",
              "    <tr>\n",
              "      <th>1</th>\n",
              "      <td>RJio</td>\n",
              "      <td>Travelling</td>\n",
              "      <td>4G</td>\n",
              "      <td>5</td>\n",
              "      <td>Satisfactory</td>\n",
              "      <td>26.727374</td>\n",
              "      <td>80.898619</td>\n",
              "      <td>Uttar Pradesh</td>\n",
              "    </tr>\n",
              "    <tr>\n",
              "      <th>2</th>\n",
              "      <td>RJio</td>\n",
              "      <td>Indoor</td>\n",
              "      <td>4G</td>\n",
              "      <td>4</td>\n",
              "      <td>Satisfactory</td>\n",
              "      <td>-1.000000</td>\n",
              "      <td>-1.000000</td>\n",
              "      <td>Maharashtra</td>\n",
              "    </tr>\n",
              "    <tr>\n",
              "      <th>3</th>\n",
              "      <td>Idea</td>\n",
              "      <td>Outdoor</td>\n",
              "      <td>4G</td>\n",
              "      <td>2</td>\n",
              "      <td>Poor Voice Quality</td>\n",
              "      <td>12.930553</td>\n",
              "      <td>77.617564</td>\n",
              "      <td>Karnataka</td>\n",
              "    </tr>\n",
              "    <tr>\n",
              "      <th>4</th>\n",
              "      <td>MTNL</td>\n",
              "      <td>Indoor</td>\n",
              "      <td>3G</td>\n",
              "      <td>3</td>\n",
              "      <td>Poor Voice Quality</td>\n",
              "      <td>19.155222</td>\n",
              "      <td>72.935275</td>\n",
              "      <td>Maharashtra</td>\n",
              "    </tr>\n",
              "    <tr>\n",
              "      <th>...</th>\n",
              "      <td>...</td>\n",
              "      <td>...</td>\n",
              "      <td>...</td>\n",
              "      <td>...</td>\n",
              "      <td>...</td>\n",
              "      <td>...</td>\n",
              "      <td>...</td>\n",
              "      <td>...</td>\n",
              "    </tr>\n",
              "    <tr>\n",
              "      <th>985</th>\n",
              "      <td>Vodafone</td>\n",
              "      <td>Indoor</td>\n",
              "      <td>4G</td>\n",
              "      <td>2</td>\n",
              "      <td>Poor Voice Quality</td>\n",
              "      <td>23.578263</td>\n",
              "      <td>87.179453</td>\n",
              "      <td>West Bengal</td>\n",
              "    </tr>\n",
              "    <tr>\n",
              "      <th>986</th>\n",
              "      <td>BSNL</td>\n",
              "      <td>Travelling</td>\n",
              "      <td>4G</td>\n",
              "      <td>5</td>\n",
              "      <td>Satisfactory</td>\n",
              "      <td>23.605407</td>\n",
              "      <td>87.165057</td>\n",
              "      <td>West Bengal</td>\n",
              "    </tr>\n",
              "    <tr>\n",
              "      <th>992</th>\n",
              "      <td>Vodafone</td>\n",
              "      <td>Indoor</td>\n",
              "      <td>4G</td>\n",
              "      <td>2</td>\n",
              "      <td>Poor Voice Quality</td>\n",
              "      <td>-1.000000</td>\n",
              "      <td>-1.000000</td>\n",
              "      <td>Maharashtra</td>\n",
              "    </tr>\n",
              "    <tr>\n",
              "      <th>993</th>\n",
              "      <td>Airtel</td>\n",
              "      <td>Indoor</td>\n",
              "      <td>4G</td>\n",
              "      <td>4</td>\n",
              "      <td>Satisfactory</td>\n",
              "      <td>24.088552</td>\n",
              "      <td>88.255137</td>\n",
              "      <td>West Bengal</td>\n",
              "    </tr>\n",
              "    <tr>\n",
              "      <th>994</th>\n",
              "      <td>Airtel</td>\n",
              "      <td>Indoor</td>\n",
              "      <td>4G</td>\n",
              "      <td>4</td>\n",
              "      <td>Satisfactory</td>\n",
              "      <td>24.088552</td>\n",
              "      <td>88.255137</td>\n",
              "      <td>West Bengal</td>\n",
              "    </tr>\n",
              "  </tbody>\n",
              "</table>\n",
              "<p>397 rows × 8 columns</p>\n",
              "</div>\n",
              "      <button class=\"colab-df-convert\" onclick=\"convertToInteractive('df-be52889c-a418-48e2-a4c7-fcf8c830239a')\"\n",
              "              title=\"Convert this dataframe to an interactive table.\"\n",
              "              style=\"display:none;\">\n",
              "        \n",
              "  <svg xmlns=\"http://www.w3.org/2000/svg\" height=\"24px\"viewBox=\"0 0 24 24\"\n",
              "       width=\"24px\">\n",
              "    <path d=\"M0 0h24v24H0V0z\" fill=\"none\"/>\n",
              "    <path d=\"M18.56 5.44l.94 2.06.94-2.06 2.06-.94-2.06-.94-.94-2.06-.94 2.06-2.06.94zm-11 1L8.5 8.5l.94-2.06 2.06-.94-2.06-.94L8.5 2.5l-.94 2.06-2.06.94zm10 10l.94 2.06.94-2.06 2.06-.94-2.06-.94-.94-2.06-.94 2.06-2.06.94z\"/><path d=\"M17.41 7.96l-1.37-1.37c-.4-.4-.92-.59-1.43-.59-.52 0-1.04.2-1.43.59L10.3 9.45l-7.72 7.72c-.78.78-.78 2.05 0 2.83L4 21.41c.39.39.9.59 1.41.59.51 0 1.02-.2 1.41-.59l7.78-7.78 2.81-2.81c.8-.78.8-2.07 0-2.86zM5.41 20L4 18.59l7.72-7.72 1.47 1.35L5.41 20z\"/>\n",
              "  </svg>\n",
              "      </button>\n",
              "      \n",
              "  <style>\n",
              "    .colab-df-container {\n",
              "      display:flex;\n",
              "      flex-wrap:wrap;\n",
              "      gap: 12px;\n",
              "    }\n",
              "\n",
              "    .colab-df-convert {\n",
              "      background-color: #E8F0FE;\n",
              "      border: none;\n",
              "      border-radius: 50%;\n",
              "      cursor: pointer;\n",
              "      display: none;\n",
              "      fill: #1967D2;\n",
              "      height: 32px;\n",
              "      padding: 0 0 0 0;\n",
              "      width: 32px;\n",
              "    }\n",
              "\n",
              "    .colab-df-convert:hover {\n",
              "      background-color: #E2EBFA;\n",
              "      box-shadow: 0px 1px 2px rgba(60, 64, 67, 0.3), 0px 1px 3px 1px rgba(60, 64, 67, 0.15);\n",
              "      fill: #174EA6;\n",
              "    }\n",
              "\n",
              "    [theme=dark] .colab-df-convert {\n",
              "      background-color: #3B4455;\n",
              "      fill: #D2E3FC;\n",
              "    }\n",
              "\n",
              "    [theme=dark] .colab-df-convert:hover {\n",
              "      background-color: #434B5C;\n",
              "      box-shadow: 0px 1px 3px 1px rgba(0, 0, 0, 0.15);\n",
              "      filter: drop-shadow(0px 1px 2px rgba(0, 0, 0, 0.3));\n",
              "      fill: #FFFFFF;\n",
              "    }\n",
              "  </style>\n",
              "\n",
              "      <script>\n",
              "        const buttonEl =\n",
              "          document.querySelector('#df-be52889c-a418-48e2-a4c7-fcf8c830239a button.colab-df-convert');\n",
              "        buttonEl.style.display =\n",
              "          google.colab.kernel.accessAllowed ? 'block' : 'none';\n",
              "\n",
              "        async function convertToInteractive(key) {\n",
              "          const element = document.querySelector('#df-be52889c-a418-48e2-a4c7-fcf8c830239a');\n",
              "          const dataTable =\n",
              "            await google.colab.kernel.invokeFunction('convertToInteractive',\n",
              "                                                     [key], {});\n",
              "          if (!dataTable) return;\n",
              "\n",
              "          const docLinkHtml = 'Like what you see? Visit the ' +\n",
              "            '<a target=\"_blank\" href=https://colab.research.google.com/notebooks/data_table.ipynb>data table notebook</a>'\n",
              "            + ' to learn more about interactive tables.';\n",
              "          element.innerHTML = '';\n",
              "          dataTable['output_type'] = 'display_data';\n",
              "          await google.colab.output.renderOutput(dataTable, element);\n",
              "          const docLink = document.createElement('div');\n",
              "          docLink.innerHTML = docLinkHtml;\n",
              "          element.appendChild(docLink);\n",
              "        }\n",
              "      </script>\n",
              "    </div>\n",
              "  </div>\n",
              "  "
            ]
          },
          "metadata": {},
          "execution_count": 21
        }
      ],
      "source": [
        "##---------Type the code below this line------------------##\n",
        "df1\n",
        "\n",
        "#The inconsistencies here that there are some continous attributes and some discrete attributes. We plan to apply decision tree, \n",
        "#so all attributes must be discrete. So we are going to discretize the latitude and longitude attributes"
      ],
      "id": "Q9TFwP9d7ywl"
    },
    {
      "cell_type": "markdown",
      "metadata": {
        "id": "txq5hIOB7ywm"
      },
      "source": [
        "## 3.6 Correct the data if there are inconsistencies from 3.5. Report or print the data after correction."
      ],
      "id": "txq5hIOB7ywm"
    },
    {
      "cell_type": "code",
      "execution_count": 22,
      "metadata": {
        "id": "dokGBa327ywm"
      },
      "outputs": [],
      "source": [
        "##---------Type the code below this line-----------------\n",
        "\n",
        "\n",
        "\n",
        "\n",
        "df1['latitude']=pd.qcut(df1['latitude'],4)\n",
        "df1['longitude']=pd.qcut(df1['longitude'],4)"
      ],
      "id": "dokGBa327ywm"
    },
    {
      "cell_type": "code",
      "execution_count": 23,
      "metadata": {
        "colab": {
          "base_uri": "https://localhost:8080/",
          "height": 423
        },
        "id": "vM5Edn_E7ywm",
        "outputId": "522fde20-7159-47a4-83d1-cc45bd463031"
      },
      "outputs": [
        {
          "output_type": "execute_result",
          "data": {
            "text/plain": [
              "     operator inout_travelling network_type  rating   calldrop_category  \\\n",
              "0        RJio           Indoor           4G       4        Satisfactory   \n",
              "1        RJio       Travelling           4G       5        Satisfactory   \n",
              "2        RJio           Indoor           4G       4        Satisfactory   \n",
              "3        Idea          Outdoor           4G       2  Poor Voice Quality   \n",
              "4        MTNL           Indoor           3G       3  Poor Voice Quality   \n",
              "..        ...              ...          ...     ...                 ...   \n",
              "985  Vodafone           Indoor           4G       2  Poor Voice Quality   \n",
              "986      BSNL       Travelling           4G       5        Satisfactory   \n",
              "992  Vodafone           Indoor           4G       2  Poor Voice Quality   \n",
              "993    Airtel           Indoor           4G       4        Satisfactory   \n",
              "994    Airtel           Indoor           4G       4        Satisfactory   \n",
              "\n",
              "             latitude         longitude     state_name  \n",
              "0    (10.036, 18.499]  (75.896, 80.899]         Kerala  \n",
              "1    (22.895, 30.769]  (80.899, 88.438]  Uttar Pradesh  \n",
              "2    (-1.001, 10.036]  (-1.001, 72.863]    Maharashtra  \n",
              "3    (10.036, 18.499]  (75.896, 80.899]      Karnataka  \n",
              "4    (18.499, 22.895]  (72.863, 75.896]    Maharashtra  \n",
              "..                ...               ...            ...  \n",
              "985  (22.895, 30.769]  (80.899, 88.438]    West Bengal  \n",
              "986  (22.895, 30.769]  (80.899, 88.438]    West Bengal  \n",
              "992  (-1.001, 10.036]  (-1.001, 72.863]    Maharashtra  \n",
              "993  (22.895, 30.769]  (80.899, 88.438]    West Bengal  \n",
              "994  (22.895, 30.769]  (80.899, 88.438]    West Bengal  \n",
              "\n",
              "[397 rows x 8 columns]"
            ],
            "text/html": [
              "\n",
              "  <div id=\"df-b268a0f4-63fd-4a9b-a1d3-9daff9901d57\">\n",
              "    <div class=\"colab-df-container\">\n",
              "      <div>\n",
              "<style scoped>\n",
              "    .dataframe tbody tr th:only-of-type {\n",
              "        vertical-align: middle;\n",
              "    }\n",
              "\n",
              "    .dataframe tbody tr th {\n",
              "        vertical-align: top;\n",
              "    }\n",
              "\n",
              "    .dataframe thead th {\n",
              "        text-align: right;\n",
              "    }\n",
              "</style>\n",
              "<table border=\"1\" class=\"dataframe\">\n",
              "  <thead>\n",
              "    <tr style=\"text-align: right;\">\n",
              "      <th></th>\n",
              "      <th>operator</th>\n",
              "      <th>inout_travelling</th>\n",
              "      <th>network_type</th>\n",
              "      <th>rating</th>\n",
              "      <th>calldrop_category</th>\n",
              "      <th>latitude</th>\n",
              "      <th>longitude</th>\n",
              "      <th>state_name</th>\n",
              "    </tr>\n",
              "  </thead>\n",
              "  <tbody>\n",
              "    <tr>\n",
              "      <th>0</th>\n",
              "      <td>RJio</td>\n",
              "      <td>Indoor</td>\n",
              "      <td>4G</td>\n",
              "      <td>4</td>\n",
              "      <td>Satisfactory</td>\n",
              "      <td>(10.036, 18.499]</td>\n",
              "      <td>(75.896, 80.899]</td>\n",
              "      <td>Kerala</td>\n",
              "    </tr>\n",
              "    <tr>\n",
              "      <th>1</th>\n",
              "      <td>RJio</td>\n",
              "      <td>Travelling</td>\n",
              "      <td>4G</td>\n",
              "      <td>5</td>\n",
              "      <td>Satisfactory</td>\n",
              "      <td>(22.895, 30.769]</td>\n",
              "      <td>(80.899, 88.438]</td>\n",
              "      <td>Uttar Pradesh</td>\n",
              "    </tr>\n",
              "    <tr>\n",
              "      <th>2</th>\n",
              "      <td>RJio</td>\n",
              "      <td>Indoor</td>\n",
              "      <td>4G</td>\n",
              "      <td>4</td>\n",
              "      <td>Satisfactory</td>\n",
              "      <td>(-1.001, 10.036]</td>\n",
              "      <td>(-1.001, 72.863]</td>\n",
              "      <td>Maharashtra</td>\n",
              "    </tr>\n",
              "    <tr>\n",
              "      <th>3</th>\n",
              "      <td>Idea</td>\n",
              "      <td>Outdoor</td>\n",
              "      <td>4G</td>\n",
              "      <td>2</td>\n",
              "      <td>Poor Voice Quality</td>\n",
              "      <td>(10.036, 18.499]</td>\n",
              "      <td>(75.896, 80.899]</td>\n",
              "      <td>Karnataka</td>\n",
              "    </tr>\n",
              "    <tr>\n",
              "      <th>4</th>\n",
              "      <td>MTNL</td>\n",
              "      <td>Indoor</td>\n",
              "      <td>3G</td>\n",
              "      <td>3</td>\n",
              "      <td>Poor Voice Quality</td>\n",
              "      <td>(18.499, 22.895]</td>\n",
              "      <td>(72.863, 75.896]</td>\n",
              "      <td>Maharashtra</td>\n",
              "    </tr>\n",
              "    <tr>\n",
              "      <th>...</th>\n",
              "      <td>...</td>\n",
              "      <td>...</td>\n",
              "      <td>...</td>\n",
              "      <td>...</td>\n",
              "      <td>...</td>\n",
              "      <td>...</td>\n",
              "      <td>...</td>\n",
              "      <td>...</td>\n",
              "    </tr>\n",
              "    <tr>\n",
              "      <th>985</th>\n",
              "      <td>Vodafone</td>\n",
              "      <td>Indoor</td>\n",
              "      <td>4G</td>\n",
              "      <td>2</td>\n",
              "      <td>Poor Voice Quality</td>\n",
              "      <td>(22.895, 30.769]</td>\n",
              "      <td>(80.899, 88.438]</td>\n",
              "      <td>West Bengal</td>\n",
              "    </tr>\n",
              "    <tr>\n",
              "      <th>986</th>\n",
              "      <td>BSNL</td>\n",
              "      <td>Travelling</td>\n",
              "      <td>4G</td>\n",
              "      <td>5</td>\n",
              "      <td>Satisfactory</td>\n",
              "      <td>(22.895, 30.769]</td>\n",
              "      <td>(80.899, 88.438]</td>\n",
              "      <td>West Bengal</td>\n",
              "    </tr>\n",
              "    <tr>\n",
              "      <th>992</th>\n",
              "      <td>Vodafone</td>\n",
              "      <td>Indoor</td>\n",
              "      <td>4G</td>\n",
              "      <td>2</td>\n",
              "      <td>Poor Voice Quality</td>\n",
              "      <td>(-1.001, 10.036]</td>\n",
              "      <td>(-1.001, 72.863]</td>\n",
              "      <td>Maharashtra</td>\n",
              "    </tr>\n",
              "    <tr>\n",
              "      <th>993</th>\n",
              "      <td>Airtel</td>\n",
              "      <td>Indoor</td>\n",
              "      <td>4G</td>\n",
              "      <td>4</td>\n",
              "      <td>Satisfactory</td>\n",
              "      <td>(22.895, 30.769]</td>\n",
              "      <td>(80.899, 88.438]</td>\n",
              "      <td>West Bengal</td>\n",
              "    </tr>\n",
              "    <tr>\n",
              "      <th>994</th>\n",
              "      <td>Airtel</td>\n",
              "      <td>Indoor</td>\n",
              "      <td>4G</td>\n",
              "      <td>4</td>\n",
              "      <td>Satisfactory</td>\n",
              "      <td>(22.895, 30.769]</td>\n",
              "      <td>(80.899, 88.438]</td>\n",
              "      <td>West Bengal</td>\n",
              "    </tr>\n",
              "  </tbody>\n",
              "</table>\n",
              "<p>397 rows × 8 columns</p>\n",
              "</div>\n",
              "      <button class=\"colab-df-convert\" onclick=\"convertToInteractive('df-b268a0f4-63fd-4a9b-a1d3-9daff9901d57')\"\n",
              "              title=\"Convert this dataframe to an interactive table.\"\n",
              "              style=\"display:none;\">\n",
              "        \n",
              "  <svg xmlns=\"http://www.w3.org/2000/svg\" height=\"24px\"viewBox=\"0 0 24 24\"\n",
              "       width=\"24px\">\n",
              "    <path d=\"M0 0h24v24H0V0z\" fill=\"none\"/>\n",
              "    <path d=\"M18.56 5.44l.94 2.06.94-2.06 2.06-.94-2.06-.94-.94-2.06-.94 2.06-2.06.94zm-11 1L8.5 8.5l.94-2.06 2.06-.94-2.06-.94L8.5 2.5l-.94 2.06-2.06.94zm10 10l.94 2.06.94-2.06 2.06-.94-2.06-.94-.94-2.06-.94 2.06-2.06.94z\"/><path d=\"M17.41 7.96l-1.37-1.37c-.4-.4-.92-.59-1.43-.59-.52 0-1.04.2-1.43.59L10.3 9.45l-7.72 7.72c-.78.78-.78 2.05 0 2.83L4 21.41c.39.39.9.59 1.41.59.51 0 1.02-.2 1.41-.59l7.78-7.78 2.81-2.81c.8-.78.8-2.07 0-2.86zM5.41 20L4 18.59l7.72-7.72 1.47 1.35L5.41 20z\"/>\n",
              "  </svg>\n",
              "      </button>\n",
              "      \n",
              "  <style>\n",
              "    .colab-df-container {\n",
              "      display:flex;\n",
              "      flex-wrap:wrap;\n",
              "      gap: 12px;\n",
              "    }\n",
              "\n",
              "    .colab-df-convert {\n",
              "      background-color: #E8F0FE;\n",
              "      border: none;\n",
              "      border-radius: 50%;\n",
              "      cursor: pointer;\n",
              "      display: none;\n",
              "      fill: #1967D2;\n",
              "      height: 32px;\n",
              "      padding: 0 0 0 0;\n",
              "      width: 32px;\n",
              "    }\n",
              "\n",
              "    .colab-df-convert:hover {\n",
              "      background-color: #E2EBFA;\n",
              "      box-shadow: 0px 1px 2px rgba(60, 64, 67, 0.3), 0px 1px 3px 1px rgba(60, 64, 67, 0.15);\n",
              "      fill: #174EA6;\n",
              "    }\n",
              "\n",
              "    [theme=dark] .colab-df-convert {\n",
              "      background-color: #3B4455;\n",
              "      fill: #D2E3FC;\n",
              "    }\n",
              "\n",
              "    [theme=dark] .colab-df-convert:hover {\n",
              "      background-color: #434B5C;\n",
              "      box-shadow: 0px 1px 3px 1px rgba(0, 0, 0, 0.15);\n",
              "      filter: drop-shadow(0px 1px 2px rgba(0, 0, 0, 0.3));\n",
              "      fill: #FFFFFF;\n",
              "    }\n",
              "  </style>\n",
              "\n",
              "      <script>\n",
              "        const buttonEl =\n",
              "          document.querySelector('#df-b268a0f4-63fd-4a9b-a1d3-9daff9901d57 button.colab-df-convert');\n",
              "        buttonEl.style.display =\n",
              "          google.colab.kernel.accessAllowed ? 'block' : 'none';\n",
              "\n",
              "        async function convertToInteractive(key) {\n",
              "          const element = document.querySelector('#df-b268a0f4-63fd-4a9b-a1d3-9daff9901d57');\n",
              "          const dataTable =\n",
              "            await google.colab.kernel.invokeFunction('convertToInteractive',\n",
              "                                                     [key], {});\n",
              "          if (!dataTable) return;\n",
              "\n",
              "          const docLinkHtml = 'Like what you see? Visit the ' +\n",
              "            '<a target=\"_blank\" href=https://colab.research.google.com/notebooks/data_table.ipynb>data table notebook</a>'\n",
              "            + ' to learn more about interactive tables.';\n",
              "          element.innerHTML = '';\n",
              "          dataTable['output_type'] = 'display_data';\n",
              "          await google.colab.output.renderOutput(dataTable, element);\n",
              "          const docLink = document.createElement('div');\n",
              "          docLink.innerHTML = docLinkHtml;\n",
              "          element.appendChild(docLink);\n",
              "        }\n",
              "      </script>\n",
              "    </div>\n",
              "  </div>\n",
              "  "
            ]
          },
          "metadata": {},
          "execution_count": 23
        }
      ],
      "source": [
        "df1"
      ],
      "id": "vM5Edn_E7ywm"
    },
    {
      "cell_type": "markdown",
      "metadata": {
        "id": "wMBXsVIk7ywn"
      },
      "source": [
        "## 3.7 Identify the target variables.\n"
      ],
      "id": "wMBXsVIk7ywn"
    },
    {
      "cell_type": "code",
      "execution_count": 24,
      "metadata": {
        "colab": {
          "base_uri": "https://localhost:8080/",
          "height": 0
        },
        "id": "eO4ccVzl7ywn",
        "outputId": "77a44713-be19-4309-af6d-3fc7caa72ff5"
      },
      "outputs": [
        {
          "output_type": "execute_result",
          "data": {
            "text/plain": [
              "0            Satisfactory\n",
              "1            Satisfactory\n",
              "2            Satisfactory\n",
              "3      Poor Voice Quality\n",
              "4      Poor Voice Quality\n",
              "              ...        \n",
              "985    Poor Voice Quality\n",
              "986          Satisfactory\n",
              "992    Poor Voice Quality\n",
              "993          Satisfactory\n",
              "994          Satisfactory\n",
              "Name: calldrop_category, Length: 397, dtype: object"
            ]
          },
          "metadata": {},
          "execution_count": 24
        }
      ],
      "source": [
        "##---------Type the code below this line------------------##\n",
        "\n",
        "df1['calldrop_category']"
      ],
      "id": "eO4ccVzl7ywn"
    },
    {
      "cell_type": "markdown",
      "metadata": {
        "id": "7ga_nph17ywn"
      },
      "source": [
        "## 3.8 Separate the data front the target such that the dataset is in the form of (X,y) or (Features, Label)\n"
      ],
      "id": "7ga_nph17ywn"
    },
    {
      "cell_type": "code",
      "execution_count": 25,
      "metadata": {
        "id": "4rqJt0aP7ywo"
      },
      "outputs": [],
      "source": [
        "##---------Type the code below this line------------------##\n",
        "feature_cols = ['operator','inout_travelling','network_type','rating','latitude','longitude','state_name']\n",
        "X=df1[feature_cols]\n",
        "y=df1.calldrop_category"
      ],
      "id": "4rqJt0aP7ywo"
    },
    {
      "cell_type": "code",
      "execution_count": 26,
      "metadata": {
        "colab": {
          "base_uri": "https://localhost:8080/",
          "height": 423
        },
        "id": "uAY9ifxe7ywo",
        "outputId": "2df7cd94-dfd1-4c72-ed41-ed0c20eed366"
      },
      "outputs": [
        {
          "output_type": "execute_result",
          "data": {
            "text/plain": [
              "     operator inout_travelling network_type  rating          latitude  \\\n",
              "0        RJio           Indoor           4G       4  (10.036, 18.499]   \n",
              "1        RJio       Travelling           4G       5  (22.895, 30.769]   \n",
              "2        RJio           Indoor           4G       4  (-1.001, 10.036]   \n",
              "3        Idea          Outdoor           4G       2  (10.036, 18.499]   \n",
              "4        MTNL           Indoor           3G       3  (18.499, 22.895]   \n",
              "..        ...              ...          ...     ...               ...   \n",
              "985  Vodafone           Indoor           4G       2  (22.895, 30.769]   \n",
              "986      BSNL       Travelling           4G       5  (22.895, 30.769]   \n",
              "992  Vodafone           Indoor           4G       2  (-1.001, 10.036]   \n",
              "993    Airtel           Indoor           4G       4  (22.895, 30.769]   \n",
              "994    Airtel           Indoor           4G       4  (22.895, 30.769]   \n",
              "\n",
              "            longitude     state_name  \n",
              "0    (75.896, 80.899]         Kerala  \n",
              "1    (80.899, 88.438]  Uttar Pradesh  \n",
              "2    (-1.001, 72.863]    Maharashtra  \n",
              "3    (75.896, 80.899]      Karnataka  \n",
              "4    (72.863, 75.896]    Maharashtra  \n",
              "..                ...            ...  \n",
              "985  (80.899, 88.438]    West Bengal  \n",
              "986  (80.899, 88.438]    West Bengal  \n",
              "992  (-1.001, 72.863]    Maharashtra  \n",
              "993  (80.899, 88.438]    West Bengal  \n",
              "994  (80.899, 88.438]    West Bengal  \n",
              "\n",
              "[397 rows x 7 columns]"
            ],
            "text/html": [
              "\n",
              "  <div id=\"df-1edc2586-89fc-4093-85e1-84121c93e919\">\n",
              "    <div class=\"colab-df-container\">\n",
              "      <div>\n",
              "<style scoped>\n",
              "    .dataframe tbody tr th:only-of-type {\n",
              "        vertical-align: middle;\n",
              "    }\n",
              "\n",
              "    .dataframe tbody tr th {\n",
              "        vertical-align: top;\n",
              "    }\n",
              "\n",
              "    .dataframe thead th {\n",
              "        text-align: right;\n",
              "    }\n",
              "</style>\n",
              "<table border=\"1\" class=\"dataframe\">\n",
              "  <thead>\n",
              "    <tr style=\"text-align: right;\">\n",
              "      <th></th>\n",
              "      <th>operator</th>\n",
              "      <th>inout_travelling</th>\n",
              "      <th>network_type</th>\n",
              "      <th>rating</th>\n",
              "      <th>latitude</th>\n",
              "      <th>longitude</th>\n",
              "      <th>state_name</th>\n",
              "    </tr>\n",
              "  </thead>\n",
              "  <tbody>\n",
              "    <tr>\n",
              "      <th>0</th>\n",
              "      <td>RJio</td>\n",
              "      <td>Indoor</td>\n",
              "      <td>4G</td>\n",
              "      <td>4</td>\n",
              "      <td>(10.036, 18.499]</td>\n",
              "      <td>(75.896, 80.899]</td>\n",
              "      <td>Kerala</td>\n",
              "    </tr>\n",
              "    <tr>\n",
              "      <th>1</th>\n",
              "      <td>RJio</td>\n",
              "      <td>Travelling</td>\n",
              "      <td>4G</td>\n",
              "      <td>5</td>\n",
              "      <td>(22.895, 30.769]</td>\n",
              "      <td>(80.899, 88.438]</td>\n",
              "      <td>Uttar Pradesh</td>\n",
              "    </tr>\n",
              "    <tr>\n",
              "      <th>2</th>\n",
              "      <td>RJio</td>\n",
              "      <td>Indoor</td>\n",
              "      <td>4G</td>\n",
              "      <td>4</td>\n",
              "      <td>(-1.001, 10.036]</td>\n",
              "      <td>(-1.001, 72.863]</td>\n",
              "      <td>Maharashtra</td>\n",
              "    </tr>\n",
              "    <tr>\n",
              "      <th>3</th>\n",
              "      <td>Idea</td>\n",
              "      <td>Outdoor</td>\n",
              "      <td>4G</td>\n",
              "      <td>2</td>\n",
              "      <td>(10.036, 18.499]</td>\n",
              "      <td>(75.896, 80.899]</td>\n",
              "      <td>Karnataka</td>\n",
              "    </tr>\n",
              "    <tr>\n",
              "      <th>4</th>\n",
              "      <td>MTNL</td>\n",
              "      <td>Indoor</td>\n",
              "      <td>3G</td>\n",
              "      <td>3</td>\n",
              "      <td>(18.499, 22.895]</td>\n",
              "      <td>(72.863, 75.896]</td>\n",
              "      <td>Maharashtra</td>\n",
              "    </tr>\n",
              "    <tr>\n",
              "      <th>...</th>\n",
              "      <td>...</td>\n",
              "      <td>...</td>\n",
              "      <td>...</td>\n",
              "      <td>...</td>\n",
              "      <td>...</td>\n",
              "      <td>...</td>\n",
              "      <td>...</td>\n",
              "    </tr>\n",
              "    <tr>\n",
              "      <th>985</th>\n",
              "      <td>Vodafone</td>\n",
              "      <td>Indoor</td>\n",
              "      <td>4G</td>\n",
              "      <td>2</td>\n",
              "      <td>(22.895, 30.769]</td>\n",
              "      <td>(80.899, 88.438]</td>\n",
              "      <td>West Bengal</td>\n",
              "    </tr>\n",
              "    <tr>\n",
              "      <th>986</th>\n",
              "      <td>BSNL</td>\n",
              "      <td>Travelling</td>\n",
              "      <td>4G</td>\n",
              "      <td>5</td>\n",
              "      <td>(22.895, 30.769]</td>\n",
              "      <td>(80.899, 88.438]</td>\n",
              "      <td>West Bengal</td>\n",
              "    </tr>\n",
              "    <tr>\n",
              "      <th>992</th>\n",
              "      <td>Vodafone</td>\n",
              "      <td>Indoor</td>\n",
              "      <td>4G</td>\n",
              "      <td>2</td>\n",
              "      <td>(-1.001, 10.036]</td>\n",
              "      <td>(-1.001, 72.863]</td>\n",
              "      <td>Maharashtra</td>\n",
              "    </tr>\n",
              "    <tr>\n",
              "      <th>993</th>\n",
              "      <td>Airtel</td>\n",
              "      <td>Indoor</td>\n",
              "      <td>4G</td>\n",
              "      <td>4</td>\n",
              "      <td>(22.895, 30.769]</td>\n",
              "      <td>(80.899, 88.438]</td>\n",
              "      <td>West Bengal</td>\n",
              "    </tr>\n",
              "    <tr>\n",
              "      <th>994</th>\n",
              "      <td>Airtel</td>\n",
              "      <td>Indoor</td>\n",
              "      <td>4G</td>\n",
              "      <td>4</td>\n",
              "      <td>(22.895, 30.769]</td>\n",
              "      <td>(80.899, 88.438]</td>\n",
              "      <td>West Bengal</td>\n",
              "    </tr>\n",
              "  </tbody>\n",
              "</table>\n",
              "<p>397 rows × 7 columns</p>\n",
              "</div>\n",
              "      <button class=\"colab-df-convert\" onclick=\"convertToInteractive('df-1edc2586-89fc-4093-85e1-84121c93e919')\"\n",
              "              title=\"Convert this dataframe to an interactive table.\"\n",
              "              style=\"display:none;\">\n",
              "        \n",
              "  <svg xmlns=\"http://www.w3.org/2000/svg\" height=\"24px\"viewBox=\"0 0 24 24\"\n",
              "       width=\"24px\">\n",
              "    <path d=\"M0 0h24v24H0V0z\" fill=\"none\"/>\n",
              "    <path d=\"M18.56 5.44l.94 2.06.94-2.06 2.06-.94-2.06-.94-.94-2.06-.94 2.06-2.06.94zm-11 1L8.5 8.5l.94-2.06 2.06-.94-2.06-.94L8.5 2.5l-.94 2.06-2.06.94zm10 10l.94 2.06.94-2.06 2.06-.94-2.06-.94-.94-2.06-.94 2.06-2.06.94z\"/><path d=\"M17.41 7.96l-1.37-1.37c-.4-.4-.92-.59-1.43-.59-.52 0-1.04.2-1.43.59L10.3 9.45l-7.72 7.72c-.78.78-.78 2.05 0 2.83L4 21.41c.39.39.9.59 1.41.59.51 0 1.02-.2 1.41-.59l7.78-7.78 2.81-2.81c.8-.78.8-2.07 0-2.86zM5.41 20L4 18.59l7.72-7.72 1.47 1.35L5.41 20z\"/>\n",
              "  </svg>\n",
              "      </button>\n",
              "      \n",
              "  <style>\n",
              "    .colab-df-container {\n",
              "      display:flex;\n",
              "      flex-wrap:wrap;\n",
              "      gap: 12px;\n",
              "    }\n",
              "\n",
              "    .colab-df-convert {\n",
              "      background-color: #E8F0FE;\n",
              "      border: none;\n",
              "      border-radius: 50%;\n",
              "      cursor: pointer;\n",
              "      display: none;\n",
              "      fill: #1967D2;\n",
              "      height: 32px;\n",
              "      padding: 0 0 0 0;\n",
              "      width: 32px;\n",
              "    }\n",
              "\n",
              "    .colab-df-convert:hover {\n",
              "      background-color: #E2EBFA;\n",
              "      box-shadow: 0px 1px 2px rgba(60, 64, 67, 0.3), 0px 1px 3px 1px rgba(60, 64, 67, 0.15);\n",
              "      fill: #174EA6;\n",
              "    }\n",
              "\n",
              "    [theme=dark] .colab-df-convert {\n",
              "      background-color: #3B4455;\n",
              "      fill: #D2E3FC;\n",
              "    }\n",
              "\n",
              "    [theme=dark] .colab-df-convert:hover {\n",
              "      background-color: #434B5C;\n",
              "      box-shadow: 0px 1px 3px 1px rgba(0, 0, 0, 0.15);\n",
              "      filter: drop-shadow(0px 1px 2px rgba(0, 0, 0, 0.3));\n",
              "      fill: #FFFFFF;\n",
              "    }\n",
              "  </style>\n",
              "\n",
              "      <script>\n",
              "        const buttonEl =\n",
              "          document.querySelector('#df-1edc2586-89fc-4093-85e1-84121c93e919 button.colab-df-convert');\n",
              "        buttonEl.style.display =\n",
              "          google.colab.kernel.accessAllowed ? 'block' : 'none';\n",
              "\n",
              "        async function convertToInteractive(key) {\n",
              "          const element = document.querySelector('#df-1edc2586-89fc-4093-85e1-84121c93e919');\n",
              "          const dataTable =\n",
              "            await google.colab.kernel.invokeFunction('convertToInteractive',\n",
              "                                                     [key], {});\n",
              "          if (!dataTable) return;\n",
              "\n",
              "          const docLinkHtml = 'Like what you see? Visit the ' +\n",
              "            '<a target=\"_blank\" href=https://colab.research.google.com/notebooks/data_table.ipynb>data table notebook</a>'\n",
              "            + ' to learn more about interactive tables.';\n",
              "          element.innerHTML = '';\n",
              "          dataTable['output_type'] = 'display_data';\n",
              "          await google.colab.output.renderOutput(dataTable, element);\n",
              "          const docLink = document.createElement('div');\n",
              "          docLink.innerHTML = docLinkHtml;\n",
              "          element.appendChild(docLink);\n",
              "        }\n",
              "      </script>\n",
              "    </div>\n",
              "  </div>\n",
              "  "
            ]
          },
          "metadata": {},
          "execution_count": 26
        }
      ],
      "source": [
        "X"
      ],
      "id": "uAY9ifxe7ywo"
    },
    {
      "cell_type": "code",
      "execution_count": 27,
      "metadata": {
        "colab": {
          "base_uri": "https://localhost:8080/",
          "height": 0
        },
        "id": "RG1gqRL87ywo",
        "outputId": "a99d7d8d-e26f-473e-96c6-01dae0473a96"
      },
      "outputs": [
        {
          "output_type": "execute_result",
          "data": {
            "text/plain": [
              "0            Satisfactory\n",
              "1            Satisfactory\n",
              "2            Satisfactory\n",
              "3      Poor Voice Quality\n",
              "4      Poor Voice Quality\n",
              "              ...        \n",
              "985    Poor Voice Quality\n",
              "986          Satisfactory\n",
              "992    Poor Voice Quality\n",
              "993          Satisfactory\n",
              "994          Satisfactory\n",
              "Name: calldrop_category, Length: 397, dtype: object"
            ]
          },
          "metadata": {},
          "execution_count": 27
        }
      ],
      "source": [
        "y"
      ],
      "id": "RG1gqRL87ywo"
    },
    {
      "cell_type": "markdown",
      "metadata": {
        "id": "hcmFXVUC7ywo"
      },
      "source": [
        "\n",
        "\n",
        "## 3.9 Discretize the target variable or perform one-hot encoding on the target or any other as and if required.\n"
      ],
      "id": "hcmFXVUC7ywo"
    },
    {
      "cell_type": "code",
      "execution_count": 28,
      "metadata": {
        "id": "VyNNDhpM7ywp"
      },
      "outputs": [],
      "source": [
        "##---------Type the code below this line------------------##\n",
        "\n",
        "#Here we are going to you use decision tree so not required for one hot encoding"
      ],
      "id": "VyNNDhpM7ywp"
    },
    {
      "cell_type": "markdown",
      "metadata": {
        "id": "vhBCyfn77ywp"
      },
      "source": [
        "# 4. Data Exploration using various plots"
      ],
      "id": "vhBCyfn77ywp"
    },
    {
      "cell_type": "markdown",
      "metadata": {
        "id": "uF5FJ-3l7ywp"
      },
      "source": [
        "## 4.1 Scatter plot of each attribute with the target."
      ],
      "id": "uF5FJ-3l7ywp"
    },
    {
      "cell_type": "code",
      "execution_count": 29,
      "metadata": {
        "id": "Jf2onL_o7ywq"
      },
      "outputs": [],
      "source": [
        "##---------Type the code below this line------------------##\n",
        "\n",
        "#All the attributes are discrete attributes, so scatter plot won't be applicable since scatter plot is only for continous attributes"
      ],
      "id": "Jf2onL_o7ywq"
    },
    {
      "cell_type": "markdown",
      "metadata": {
        "id": "D1xsI_Km7ywq"
      },
      "source": [
        "## 4.2 Pair plot of each attribute to identify the linear relationships among the attributes.\n"
      ],
      "id": "D1xsI_Km7ywq"
    },
    {
      "cell_type": "code",
      "execution_count": null,
      "metadata": {
        "id": "5TncRku57ywq"
      },
      "outputs": [],
      "source": [
        "##---------Type the code below this line------------------##\n",
        "import seaborn as sns\n",
        "\n",
        "#Pair plot not applicable because all attributes are discrete and pair plot is insightful for numeric data"
      ],
      "id": "5TncRku57ywq"
    },
    {
      "cell_type": "markdown",
      "metadata": {
        "id": "pqWvnPyT7ywr"
      },
      "source": [
        "## 4.3 Regression plots to identify the linear relationship between each attribute with the target variable. \n"
      ],
      "id": "pqWvnPyT7ywr"
    },
    {
      "cell_type": "code",
      "execution_count": null,
      "metadata": {
        "id": "GoN9MMQg7ywr"
      },
      "outputs": [],
      "source": [
        "##---------Type the code below this line------------------##\n",
        "\n",
        "#regression plots not applicable because all attributes are discrete and pair plot is insightful for numeric data"
      ],
      "id": "GoN9MMQg7ywr"
    },
    {
      "cell_type": "markdown",
      "metadata": {
        "id": "7NY_txzm7ywr"
      },
      "source": [
        "## 4.4 Can any other plot help to identify the optimal set of attributes that can be used for classification. The plot will be based on linear or nonlinear separations. If there is/are such plots, name them, explain why you think they can be helpful in the task and perform the plot as well.\n"
      ],
      "id": "7NY_txzm7ywr"
    },
    {
      "cell_type": "code",
      "execution_count": null,
      "metadata": {
        "id": "2YUW-Wr47ywr"
      },
      "outputs": [],
      "source": [
        "##---------Type the code below this line------------------##\n",
        "\n",
        "#We will use all the available features for classification . Decision trees also work for non linear separable \n",
        "#data so this particular task is not helpful"
      ],
      "id": "2YUW-Wr47ywr"
    },
    {
      "cell_type": "markdown",
      "metadata": {
        "id": "_Uuw5pF57yws"
      },
      "source": [
        "# 5. Data Wrangling\n",
        "\n"
      ],
      "id": "_Uuw5pF57yws"
    },
    {
      "cell_type": "markdown",
      "metadata": {
        "id": "_4KpxJY47yws"
      },
      "source": [
        "## 5.1 Display correlation heatmap of each attribute against the target and report which features are significant."
      ],
      "id": "_4KpxJY47yws"
    },
    {
      "cell_type": "code",
      "execution_count": null,
      "metadata": {
        "id": "z-6KfGrz7yws"
      },
      "outputs": [],
      "source": [
        "##---------Type the code below this line------------------##\n",
        "\n",
        "#Heat map not applicable because all attributes are discrete and pair plot is insightful for numeric data"
      ],
      "id": "z-6KfGrz7yws"
    },
    {
      "cell_type": "markdown",
      "metadata": {
        "id": "1O_ly1Lx7ywt"
      },
      "source": [
        "## 5.2 Univariate Filters – Identify top 5 significant features by evaluating each feature independently with respect to the target variable by exploring \n",
        "1. Mutual Information (Information Gain)\n",
        "2. Gini index\n",
        "3. Gain Ratio\n",
        "4. Chi-Squared test\n",
        "5. Fisher Score\n",
        "(From the above 5 you are required to use only any <b>three</b>) \n",
        "\n",
        "Write your observations from the results of each method and report the top 5 significant features for each of the above methods. Also plot a graph of significant features for each of them for better visualization."
      ],
      "id": "1O_ly1Lx7ywt"
    },
    {
      "cell_type": "code",
      "execution_count": 30,
      "metadata": {
        "id": "JyvnQUKn7ywt"
      },
      "outputs": [],
      "source": [
        "def compute_impurity(feature, impurity_criterion):\n",
        "    probs = feature.value_counts(normalize=True)\n",
        "    if impurity_criterion == 'entropy':\n",
        "        impurity = -1 * np.sum(np.log2(probs) * probs)\n",
        "    elif impurity_criterion == 'gini':\n",
        "        impurity = 1 - np.sum(np.square(probs))\n",
        "    else:\n",
        "        raise ValueError('Unknown impurity criterion')\n",
        "        \n",
        "    return(round(impurity, 3))"
      ],
      "id": "JyvnQUKn7ywt"
    },
    {
      "cell_type": "code",
      "execution_count": 31,
      "metadata": {
        "id": "X1B387BM7ywt"
      },
      "outputs": [],
      "source": [
        "def comp_metric(df, target, descriptive_feature, split_criterion):       \n",
        "    target_entropy = compute_impurity(df[target], split_criterion)\n",
        "    entropy_list = list()\n",
        "    weight_list = list()\n",
        "    for level in df[descriptive_feature].unique():\n",
        "        df_feature_level = df[df[descriptive_feature] == level]\n",
        "        entropy_level = compute_impurity(df_feature_level[target], split_criterion)\n",
        "        entropy_list.append(round(entropy_level, 3))\n",
        "        weight_level = len(df_feature_level) / len(df)\n",
        "        weight_list.append(round(weight_level, 3))\n",
        "    feature_remaining_impurity = np.sum(np.array(entropy_list) * np.array(weight_list))\n",
        "    metric = target_entropy - feature_remaining_impurity\n",
        "    return(metric)"
      ],
      "id": "X1B387BM7ywt"
    },
    {
      "cell_type": "code",
      "execution_count": 32,
      "metadata": {
        "colab": {
          "base_uri": "https://localhost:8080/",
          "height": 0
        },
        "id": "xE5K8zkm7ywu",
        "outputId": "4fdfcd29-41f3-40f6-d9c1-a60e0f63a863"
      },
      "outputs": [
        {
          "output_type": "stream",
          "name": "stdout",
          "text": [
            "{'rating': 0.770399, 'state_name': 0.19865499999999991, 'longitude': 0.06498799999999993, 'operator': 0.05309800000000009, 'latitude': 0.03833399999999987, 'inout_travelling': 0.015209999999999724, 'network_type': 0.0066109999999999225}\n"
          ]
        }
      ],
      "source": [
        "##---------Type the code below this line------------------##\n",
        "\n",
        "split_criterion = 'entropy'\n",
        "information_gain_dict={}\n",
        "for feature in df1.drop(columns='calldrop_category').columns:\n",
        "    feature_gain = comp_metric(df1, 'calldrop_category', feature, split_criterion)\n",
        "    information_gain_dict[feature]=feature_gain\n",
        "    \n",
        "marklist = sorted(information_gain_dict.items(), key=lambda x:x[1],reverse=True)\n",
        "sortdict = dict(marklist)\n",
        "print(sortdict)  \n",
        "    \n",
        "#As per information gain hence the top 5 features are rating, State_name, Longitude, Operator, Latitude"
      ],
      "id": "xE5K8zkm7ywu"
    },
    {
      "cell_type": "code",
      "execution_count": 33,
      "metadata": {
        "colab": {
          "base_uri": "https://localhost:8080/",
          "height": 0
        },
        "id": "wS6x1UKO7ywu",
        "outputId": "c7b2416d-3c00-4c03-9693-6f8beaea3718"
      },
      "outputs": [
        {
          "output_type": "stream",
          "name": "stdout",
          "text": [
            "{'rating': 0.277242, 'state_name': 0.062373999999999985, 'longitude': 0.026637999999999995, 'operator': 0.022877000000000036, 'latitude': 0.015175999999999967, 'inout_travelling': 0.005617999999999956, 'network_type': 0.001637000000000055}\n"
          ]
        }
      ],
      "source": [
        "\n",
        "split_criterion = 'gini'\n",
        "gini_dict={}\n",
        "for feature in df1.drop(columns='calldrop_category').columns:\n",
        "    feature_gain = comp_metric(df1, 'calldrop_category', feature, split_criterion)\n",
        "    gini_dict[feature]=feature_gain\n",
        "    \n",
        "marklist = sorted(gini_dict.items(), key=lambda x:x[1],reverse=True)\n",
        "sortdict = dict(marklist)\n",
        "print(sortdict)  \n",
        "    \n",
        "#As per gini index hence the top 5 features are rating, State_name, Longitude, Operator, Latitude"
      ],
      "id": "wS6x1UKO7ywu"
    },
    {
      "cell_type": "code",
      "execution_count": 34,
      "metadata": {
        "colab": {
          "base_uri": "https://localhost:8080/",
          "height": 0
        },
        "id": "g5OyWreu7ywv",
        "outputId": "ca02b47b-6e73-4bfe-90e1-59c43e2c7bb6"
      },
      "outputs": [
        {
          "output_type": "stream",
          "name": "stdout",
          "text": [
            "{'rating': 0.14217538461538462, 'state_name': 0.022134137686302336, 'longitude': 0.013318999999999998, 'operator': 0.010450890817725005, 'latitude': 0.007587999999999984, 'inout_travelling': 0.003923184357541869, 'network_type': 0.002162483487450535}\n"
          ]
        }
      ],
      "source": [
        "ratio_dict={}\n",
        "for feature in df1.drop(columns='calldrop_category').columns:\n",
        "    feature_gain = comp_metric(df1, 'calldrop_category', feature, split_criterion)\n",
        "    ratio_dict[feature]=feature_gain/compute_impurity(df1[feature],'entropy')\n",
        "    \n",
        "marklist = sorted(ratio_dict.items(), key=lambda x:x[1],reverse=True)\n",
        "sortdict = dict(marklist)\n",
        "print(sortdict)  \n",
        "\n",
        "#As per gain ratio hence the top 5 features are rating, State_name, Longitude, Operator, Latitude"
      ],
      "id": "g5OyWreu7ywv"
    },
    {
      "cell_type": "markdown",
      "metadata": {
        "id": "T7nLk2Kz7ywv"
      },
      "source": [
        "## 5.3 Train a “DecisionTreeClassifier” on the entire data and use the classifier to extract the top 5 significant features. Plot graph of significant features for better visualization."
      ],
      "id": "T7nLk2Kz7ywv"
    },
    {
      "cell_type": "code",
      "execution_count": 35,
      "metadata": {
        "colab": {
          "base_uri": "https://localhost:8080/",
          "height": 0
        },
        "id": "hwWFKX3x7ywv",
        "outputId": "c0fa5263-6685-47be-bb77-85d6b83d52c7"
      },
      "outputs": [
        {
          "output_type": "stream",
          "name": "stderr",
          "text": [
            "/usr/local/lib/python3.7/dist-packages/pandas/core/frame.py:3641: SettingWithCopyWarning: \n",
            "A value is trying to be set on a copy of a slice from a DataFrame.\n",
            "Try using .loc[row_indexer,col_indexer] = value instead\n",
            "\n",
            "See the caveats in the documentation: https://pandas.pydata.org/pandas-docs/stable/user_guide/indexing.html#returning-a-view-versus-a-copy\n",
            "  self[k1] = value[k2]\n"
          ]
        },
        {
          "output_type": "execute_result",
          "data": {
            "text/plain": [
              "DecisionTreeClassifier(max_depth=100, min_samples_leaf=2, random_state=42)"
            ]
          },
          "metadata": {},
          "execution_count": 35
        }
      ],
      "source": [
        "##---------Type the code below this line------------------##\n",
        "from sklearn.model_selection import train_test_split\n",
        "from sklearn.tree import DecisionTreeClassifier\n",
        "\n",
        "X[['operator']]=X[['operator']].apply(lambda col:pd.Categorical(col).codes)\n",
        "X[['inout_travelling']]=X[['inout_travelling']].apply(lambda col:pd.Categorical(col).codes)\n",
        "X[['network_type']]=X[['network_type']].apply(lambda col:pd.Categorical(col).codes)\n",
        "X[['latitude']]=X[['latitude']].apply(lambda col:pd.Categorical(col).codes)\n",
        "X[['longitude']]=X[['longitude']].apply(lambda col:pd.Categorical(col).codes)\n",
        "X[['state_name']]=X[['state_name']].apply(lambda col:pd.Categorical(col).codes)\n",
        "y=y.to_frame()\n",
        "y[['calldrop_category']]=y[['calldrop_category']].apply(lambda col:pd.Categorical(col).codes)\n",
        "y=y.squeeze()\n",
        "X_train, X_test, y_train, y_test = train_test_split(X, y, test_size = 0.3,random_state=42)\n",
        "\n",
        "\n",
        "lf_model = DecisionTreeClassifier(criterion=\"gini\", random_state=42,max_depth=100, min_samples_leaf=2)   \n",
        "lf_model.fit(X_train,y_train)"
      ],
      "id": "hwWFKX3x7ywv"
    },
    {
      "cell_type": "code",
      "execution_count": 36,
      "metadata": {
        "colab": {
          "base_uri": "https://localhost:8080/",
          "height": 404
        },
        "id": "XCXcm12S7yww",
        "outputId": "1bec491c-f2b8-4e67-d4f7-a44b2f542e01"
      },
      "outputs": [
        {
          "output_type": "stream",
          "name": "stdout",
          "text": [
            "operator            0.079775\n",
            "inout_travelling    0.046003\n",
            "network_type        0.013946\n",
            "rating              0.811056\n",
            "latitude            0.018793\n",
            "longitude           0.021948\n",
            "state_name          0.008480\n",
            "dtype: float64\n"
          ]
        },
        {
          "output_type": "display_data",
          "data": {
            "text/plain": [
              "<Figure size 432x288 with 1 Axes>"
            ],
            "image/png": "[encoded data removed]"
          },
          "metadata": {
            "needs_background": "light"
          }
        }
      ],
      "source": [
        "#The below graph shows the feature importance\n",
        "\n",
        "feat_importances = pd.Series(lf_model.feature_importances_, index=X_train.columns)\n",
        "feat_importances.nlargest(10).plot(kind='barh')\n",
        "print(feat_importances)"
      ],
      "id": "XCXcm12S7yww"
    },
    {
      "cell_type": "code",
      "execution_count": 37,
      "metadata": {
        "id": "0rDgvOLN7yww"
      },
      "outputs": [],
      "source": [
        "y_predict = lf_model.predict(X_test)"
      ],
      "id": "0rDgvOLN7yww"
    },
    {
      "cell_type": "code",
      "execution_count": 38,
      "metadata": {
        "colab": {
          "base_uri": "https://localhost:8080/",
          "height": 0
        },
        "id": "88_3rDql7yww",
        "outputId": "e42adc9e-2fe4-4288-a2cb-733c560aa2b2"
      },
      "outputs": [
        {
          "output_type": "execute_result",
          "data": {
            "text/plain": [
              "0.8166666666666667"
            ]
          },
          "metadata": {},
          "execution_count": 38
        }
      ],
      "source": [
        "from sklearn.metrics import accuracy_score,classification_report,confusion_matrix\n",
        "accuracy_score(y_test,y_predict)"
      ],
      "id": "88_3rDql7yww"
    },
    {
      "cell_type": "code",
      "execution_count": 39,
      "metadata": {
        "id": "F_wNhaiO7ywx"
      },
      "outputs": [],
      "source": [
        "#!pip install graphviz"
      ],
      "id": "F_wNhaiO7ywx"
    },
    {
      "cell_type": "code",
      "execution_count": 40,
      "metadata": {
        "id": "TzMBRt097ywx"
      },
      "outputs": [],
      "source": [
        "#conda install python-graphviz"
      ],
      "id": "TzMBRt097ywx"
    },
    {
      "cell_type": "code",
      "execution_count": 41,
      "metadata": {
        "id": "eoRGzrb87ywx"
      },
      "outputs": [],
      "source": [
        "import matplotlib.pyplot as plt\n",
        "from sklearn import tree"
      ],
      "id": "eoRGzrb87ywx"
    },
    {
      "cell_type": "code",
      "execution_count": 42,
      "metadata": {
        "colab": {
          "base_uri": "https://localhost:8080/",
          "height": 0
        },
        "id": "lWx6vu917ywx",
        "outputId": "fe9ba8af-aff0-4f7c-dc4b-212ee1645b64"
      },
      "outputs": [
        {
          "output_type": "stream",
          "name": "stdout",
          "text": [
            "|--- feature_3 <= 3.50\n",
            "|   |--- feature_3 <= 2.50\n",
            "|   |   |--- feature_0 <= 4.50\n",
            "|   |   |   |--- feature_5 <= 2.50\n",
            "|   |   |   |   |--- feature_2 <= 1.50\n",
            "|   |   |   |   |   |--- feature_0 <= 1.50\n",
            "|   |   |   |   |   |   |--- feature_4 <= 0.50\n",
            "|   |   |   |   |   |   |   |--- class: 0\n",
            "|   |   |   |   |   |   |--- feature_4 >  0.50\n",
            "|   |   |   |   |   |   |   |--- class: 0\n",
            "|   |   |   |   |   |--- feature_0 >  1.50\n",
            "|   |   |   |   |   |   |--- class: 0\n",
            "|   |   |   |   |--- feature_2 >  1.50\n",
            "|   |   |   |   |   |--- feature_5 <= 0.50\n",
            "|   |   |   |   |   |   |--- feature_0 <= 2.50\n",
            "|   |   |   |   |   |   |   |--- feature_0 <= 1.00\n",
            "|   |   |   |   |   |   |   |   |--- feature_3 <= 1.50\n",
            "|   |   |   |   |   |   |   |   |   |--- class: 1\n",
            "|   |   |   |   |   |   |   |   |--- feature_3 >  1.50\n",
            "|   |   |   |   |   |   |   |   |   |--- class: 0\n",
            "|   |   |   |   |   |   |   |--- feature_0 >  1.00\n",
            "|   |   |   |   |   |   |   |   |--- class: 1\n",
            "|   |   |   |   |   |   |--- feature_0 >  2.50\n",
            "|   |   |   |   |   |   |   |--- feature_4 <= 1.00\n",
            "|   |   |   |   |   |   |   |   |--- feature_1 <= 0.50\n",
            "|   |   |   |   |   |   |   |   |   |--- feature_3 <= 1.50\n",
            "|   |   |   |   |   |   |   |   |   |   |--- class: 0\n",
            "|   |   |   |   |   |   |   |   |   |--- feature_3 >  1.50\n",
            "|   |   |   |   |   |   |   |   |   |   |--- class: 0\n",
            "|   |   |   |   |   |   |   |   |--- feature_1 >  0.50\n",
            "|   |   |   |   |   |   |   |   |   |--- class: 1\n",
            "|   |   |   |   |   |   |   |--- feature_4 >  1.00\n",
            "|   |   |   |   |   |   |   |   |--- class: 0\n",
            "|   |   |   |   |   |--- feature_5 >  0.50\n",
            "|   |   |   |   |   |   |--- feature_3 <= 1.50\n",
            "|   |   |   |   |   |   |   |--- feature_1 <= 0.50\n",
            "|   |   |   |   |   |   |   |   |--- class: 0\n",
            "|   |   |   |   |   |   |   |--- feature_1 >  0.50\n",
            "|   |   |   |   |   |   |   |   |--- feature_4 <= 2.50\n",
            "|   |   |   |   |   |   |   |   |   |--- feature_0 <= 3.50\n",
            "|   |   |   |   |   |   |   |   |   |   |--- class: 1\n",
            "|   |   |   |   |   |   |   |   |   |--- feature_0 >  3.50\n",
            "|   |   |   |   |   |   |   |   |   |   |--- class: 0\n",
            "|   |   |   |   |   |   |   |   |--- feature_4 >  2.50\n",
            "|   |   |   |   |   |   |   |   |   |--- class: 0\n",
            "|   |   |   |   |   |   |--- feature_3 >  1.50\n",
            "|   |   |   |   |   |   |   |--- class: 1\n",
            "|   |   |   |--- feature_5 >  2.50\n",
            "|   |   |   |   |--- feature_4 <= 2.50\n",
            "|   |   |   |   |   |--- feature_3 <= 1.50\n",
            "|   |   |   |   |   |   |--- class: 0\n",
            "|   |   |   |   |   |--- feature_3 >  1.50\n",
            "|   |   |   |   |   |   |--- class: 0\n",
            "|   |   |   |   |--- feature_4 >  2.50\n",
            "|   |   |   |   |   |--- class: 0\n",
            "|   |   |--- feature_0 >  4.50\n",
            "|   |   |   |--- class: 1\n",
            "|   |--- feature_3 >  2.50\n",
            "|   |   |--- feature_0 <= 0.50\n",
            "|   |   |   |--- feature_1 <= 0.50\n",
            "|   |   |   |   |--- class: 1\n",
            "|   |   |   |--- feature_1 >  0.50\n",
            "|   |   |   |   |--- feature_1 <= 1.50\n",
            "|   |   |   |   |   |--- class: 2\n",
            "|   |   |   |   |--- feature_1 >  1.50\n",
            "|   |   |   |   |   |--- class: 2\n",
            "|   |   |--- feature_0 >  0.50\n",
            "|   |   |   |--- feature_1 <= 1.50\n",
            "|   |   |   |   |--- feature_6 <= 12.00\n",
            "|   |   |   |   |   |--- class: 1\n",
            "|   |   |   |   |--- feature_6 >  12.00\n",
            "|   |   |   |   |   |--- class: 1\n",
            "|   |   |   |--- feature_1 >  1.50\n",
            "|   |   |   |   |--- class: 0\n",
            "|--- feature_3 >  3.50\n",
            "|   |--- class: 2\n",
            "\n"
          ]
        }
      ],
      "source": [
        "#below is the decision tree representation in the form of text\n",
        "\n",
        "text_representation = tree.export_text(lf_model)\n",
        "print(text_representation)"
      ],
      "id": "lWx6vu917ywx"
    },
    {
      "cell_type": "code",
      "execution_count": 47,
      "metadata": {
        "colab": {
          "base_uri": "https://localhost:8080/",
          "height": 575
        },
        "id": "_dOAHpHa7ywx",
        "outputId": "2d9bbad4-14e4-4c96-db2a-f47c4b2c3195"
      },
      "outputs": [
        {
          "output_type": "display_data",
          "data": {
            "text/plain": [
              "<Figure size 720x720 with 1 Axes>"
            ],
            "image/png": "[encoded data removed]"
          },
          "metadata": {
            "needs_background": "light"
          }
        }
      ],
      "source": [
        "#below is the decision tree plotted using matplotlib library\n",
        "\n",
        "target = list(df1['calldrop_category'].unique())\n",
        "feature_names = list(X.columns)\n",
        "\n",
        "fig = plt.figure(figsize = (10,10))\n",
        "\n",
        "decision_tree= tree.plot_tree(lf_model, feature_names=feature_names,class_names=target,filled=True)"
      ],
      "id": "_dOAHpHa7ywx"
    },
    {
      "cell_type": "markdown",
      "metadata": {
        "id": "JYsm5s1X7ywy"
      },
      "source": [
        "## 5.4 Using \"mlxtend\" library perform SequentialFeatureSelector to identify top 5 features."
      ],
      "id": "JYsm5s1X7ywy"
    },
    {
      "cell_type": "code",
      "source": [
        "pip install mlxtend"
      ],
      "metadata": {
        "id": "5TweGsfj8meX",
        "outputId": "a612a95a-ac69-4fc2-8426-a96c828c8cc4",
        "colab": {
          "base_uri": "https://localhost:8080/"
        }
      },
      "id": "5TweGsfj8meX",
      "execution_count": null,
      "outputs": [
        {
          "output_type": "stream",
          "name": "stdout",
          "text": [
            "Requirement already satisfied: mlxtend in /usr/local/lib/python3.7/dist-packages (0.14.0)\n",
            "Requirement already satisfied: pandas>=0.17.1 in /usr/local/lib/python3.7/dist-packages (from mlxtend) (1.3.5)\n",
            "Requirement already satisfied: scipy>=0.17 in /usr/local/lib/python3.7/dist-packages (from mlxtend) (1.4.1)\n",
            "Requirement already satisfied: numpy>=1.10.4 in /usr/local/lib/python3.7/dist-packages (from mlxtend) (1.21.5)\n",
            "Requirement already satisfied: matplotlib>=1.5.1 in /usr/local/lib/python3.7/dist-packages (from mlxtend) (3.2.2)\n",
            "Requirement already satisfied: setuptools in /usr/local/lib/python3.7/dist-packages (from mlxtend) (57.4.0)\n",
            "Requirement already satisfied: scikit-learn>=0.18 in /usr/local/lib/python3.7/dist-packages (from mlxtend) (1.0.2)\n",
            "Requirement already satisfied: kiwisolver>=1.0.1 in /usr/local/lib/python3.7/dist-packages (from matplotlib>=1.5.1->mlxtend) (1.3.2)\n",
            "Requirement already satisfied: cycler>=0.10 in /usr/local/lib/python3.7/dist-packages (from matplotlib>=1.5.1->mlxtend) (0.11.0)\n",
            "Requirement already satisfied: pyparsing!=2.0.4,!=2.1.2,!=2.1.6,>=2.0.1 in /usr/local/lib/python3.7/dist-packages (from matplotlib>=1.5.1->mlxtend) (3.0.7)\n",
            "Requirement already satisfied: python-dateutil>=2.1 in /usr/local/lib/python3.7/dist-packages (from matplotlib>=1.5.1->mlxtend) (2.8.2)\n",
            "Requirement already satisfied: pytz>=2017.3 in /usr/local/lib/python3.7/dist-packages (from pandas>=0.17.1->mlxtend) (2018.9)\n",
            "Requirement already satisfied: six>=1.5 in /usr/local/lib/python3.7/dist-packages (from python-dateutil>=2.1->matplotlib>=1.5.1->mlxtend) (1.15.0)\n",
            "Requirement already satisfied: threadpoolctl>=2.0.0 in /usr/local/lib/python3.7/dist-packages (from scikit-learn>=0.18->mlxtend) (3.1.0)\n",
            "Requirement already satisfied: joblib>=0.11 in /usr/local/lib/python3.7/dist-packages (from scikit-learn>=0.18->mlxtend) (1.1.0)\n"
          ]
        }
      ]
    },
    {
      "cell_type": "code",
      "execution_count": null,
      "metadata": {
        "colab": {
          "base_uri": "https://localhost:8080/",
          "height": 466
        },
        "id": "wWX36fhO7ywy",
        "outputId": "5218bf58-96e9-4267-d919-c7c56c2f88a0"
      },
      "outputs": [
        {
          "output_type": "error",
          "ename": "ModuleNotFoundError",
          "evalue": "ignored",
          "traceback": [
            "\u001b[0;31m---------------------------------------------------------------------------\u001b[0m",
            "\u001b[0;31mModuleNotFoundError\u001b[0m                       Traceback (most recent call last)",
            "\u001b[0;32m<ipython-input-55-ce4eec738190>\u001b[0m in \u001b[0;36m<module>\u001b[0;34m()\u001b[0m\n\u001b[1;32m      1\u001b[0m \u001b[0;31m##---------Type the code below this line------------------##\u001b[0m\u001b[0;34m\u001b[0m\u001b[0;34m\u001b[0m\u001b[0;34m\u001b[0m\u001b[0m\n\u001b[0;32m----> 2\u001b[0;31m \u001b[0;32mfrom\u001b[0m \u001b[0mmlxtend\u001b[0m\u001b[0;34m.\u001b[0m\u001b[0mfeature_selection\u001b[0m \u001b[0;32mimport\u001b[0m \u001b[0mSequentialFeatureSelector\u001b[0m \u001b[0;32mas\u001b[0m \u001b[0msfs\u001b[0m\u001b[0;34m\u001b[0m\u001b[0;34m\u001b[0m\u001b[0m\n\u001b[0m",
            "\u001b[0;32m/usr/local/lib/python3.7/dist-packages/mlxtend/feature_selection/__init__.py\u001b[0m in \u001b[0;36m<module>\u001b[0;34m()\u001b[0m\n\u001b[1;32m      6\u001b[0m \u001b[0;34m\u001b[0m\u001b[0m\n\u001b[1;32m      7\u001b[0m \u001b[0;32mfrom\u001b[0m \u001b[0;34m.\u001b[0m\u001b[0mcolumn_selector\u001b[0m \u001b[0;32mimport\u001b[0m \u001b[0mColumnSelector\u001b[0m\u001b[0;34m\u001b[0m\u001b[0;34m\u001b[0m\u001b[0m\n\u001b[0;32m----> 8\u001b[0;31m \u001b[0;32mfrom\u001b[0m \u001b[0;34m.\u001b[0m\u001b[0msequential_feature_selector\u001b[0m \u001b[0;32mimport\u001b[0m \u001b[0mSequentialFeatureSelector\u001b[0m\u001b[0;34m\u001b[0m\u001b[0;34m\u001b[0m\u001b[0m\n\u001b[0m\u001b[1;32m      9\u001b[0m \u001b[0;32mfrom\u001b[0m \u001b[0;34m.\u001b[0m\u001b[0mexhaustive_feature_selector\u001b[0m \u001b[0;32mimport\u001b[0m \u001b[0mExhaustiveFeatureSelector\u001b[0m\u001b[0;34m\u001b[0m\u001b[0;34m\u001b[0m\u001b[0m\n\u001b[1;32m     10\u001b[0m \u001b[0;34m\u001b[0m\u001b[0m\n",
            "\u001b[0;32m/usr/local/lib/python3.7/dist-packages/mlxtend/feature_selection/sequential_feature_selector.py\u001b[0m in \u001b[0;36m<module>\u001b[0;34m()\u001b[0m\n\u001b[1;32m     21\u001b[0m \u001b[0;32mfrom\u001b[0m \u001b[0;34m.\u001b[0m\u001b[0;34m.\u001b[0m\u001b[0mexternals\u001b[0m\u001b[0;34m.\u001b[0m\u001b[0mname_estimators\u001b[0m \u001b[0;32mimport\u001b[0m \u001b[0m_name_estimators\u001b[0m\u001b[0;34m\u001b[0m\u001b[0;34m\u001b[0m\u001b[0m\n\u001b[1;32m     22\u001b[0m \u001b[0;32mfrom\u001b[0m \u001b[0msklearn\u001b[0m\u001b[0;34m.\u001b[0m\u001b[0mmodel_selection\u001b[0m \u001b[0;32mimport\u001b[0m \u001b[0mcross_val_score\u001b[0m\u001b[0;34m\u001b[0m\u001b[0;34m\u001b[0m\u001b[0m\n\u001b[0;32m---> 23\u001b[0;31m \u001b[0;32mfrom\u001b[0m \u001b[0msklearn\u001b[0m\u001b[0;34m.\u001b[0m\u001b[0mexternals\u001b[0m\u001b[0;34m.\u001b[0m\u001b[0mjoblib\u001b[0m \u001b[0;32mimport\u001b[0m \u001b[0mParallel\u001b[0m\u001b[0;34m,\u001b[0m \u001b[0mdelayed\u001b[0m\u001b[0;34m\u001b[0m\u001b[0;34m\u001b[0m\u001b[0m\n\u001b[0m\u001b[1;32m     24\u001b[0m \u001b[0;34m\u001b[0m\u001b[0m\n\u001b[1;32m     25\u001b[0m \u001b[0;34m\u001b[0m\u001b[0m\n",
            "\u001b[0;31mModuleNotFoundError\u001b[0m: No module named 'sklearn.externals.joblib'",
            "",
            "\u001b[0;31m---------------------------------------------------------------------------\u001b[0;32m\nNOTE: If your import is failing due to a missing package, you can\nmanually install dependencies using either !pip or !apt.\n\nTo view examples of installing some common dependencies, click the\n\"Open Examples\" button below.\n\u001b[0;31m---------------------------------------------------------------------------\u001b[0m\n"
          ],
          "errorDetails": {
            "actions": [
              {
                "action": "open_url",
                "actionText": "Open Examples",
                "url": "/notebooks/snippets/importing_libraries.ipynb"
              }
            ]
          }
        }
      ],
      "source": [
        "##---------Type the code below this line------------------##\n",
        "from mlxtend.feature_selection import SequentialFeatureSelector as sfs"
      ],
      "id": "wWX36fhO7ywy"
    },
    {
      "cell_type": "code",
      "execution_count": null,
      "metadata": {
        "id": "i31GFTIZ7ywy"
      },
      "outputs": [],
      "source": [
        "sfs_model = sfs(lf_model,k_features=5,forward=True,floating=False,verbose=2,scoring='accuracy',cv=5)\n",
        "\n",
        "sfs_model = sfs_model.fit(X_train,y_train)"
      ],
      "id": "i31GFTIZ7ywy"
    },
    {
      "cell_type": "code",
      "execution_count": null,
      "metadata": {
        "id": "YqJfUNFc7ywy",
        "outputId": "5796ff2d-be63-4283-b33e-2c4dc42449a8"
      },
      "outputs": [
        {
          "data": {
            "text/plain": [
              "{1: {'feature_idx': (3,),\n",
              "  'cv_scores': array([0.89285714, 0.78571429, 0.85454545, 0.85454545, 0.90909091]),\n",
              "  'avg_score': 0.8593506493506494,\n",
              "  'feature_names': ('rating',)},\n",
              " 2: {'feature_idx': (0, 3),\n",
              "  'cv_scores': array([0.875     , 0.89285714, 0.87272727, 0.89090909, 0.90909091]),\n",
              "  'avg_score': 0.8881168831168831,\n",
              "  'feature_names': ('operator', 'rating')},\n",
              " 3: {'feature_idx': (0, 3, 5),\n",
              "  'cv_scores': array([0.875     , 0.83928571, 0.89090909, 0.90909091, 0.90909091]),\n",
              "  'avg_score': 0.8846753246753247,\n",
              "  'feature_names': ('operator', 'rating', 'longitude')},\n",
              " 4: {'feature_idx': (0, 3, 4, 5),\n",
              "  'cv_scores': array([0.875     , 0.85714286, 0.90909091, 0.90909091, 0.90909091]),\n",
              "  'avg_score': 0.8918831168831168,\n",
              "  'feature_names': ('operator', 'rating', 'latitude', 'longitude')},\n",
              " 5: {'feature_idx': (0, 2, 3, 4, 5),\n",
              "  'cv_scores': array([0.875     , 0.85714286, 0.92727273, 0.89090909, 0.90909091]),\n",
              "  'avg_score': 0.8918831168831168,\n",
              "  'feature_names': ('operator',\n",
              "   'network_type',\n",
              "   'rating',\n",
              "   'latitude',\n",
              "   'longitude')}}"
            ]
          },
          "execution_count": 51,
          "metadata": {},
          "output_type": "execute_result"
        }
      ],
      "source": [
        "#feat_cols = list(sfs_model.k_feature_idx_)\n",
        "sfs_model.subsets_\n",
        "#feat_cols = list(sfs_model.k_feature_idx_)\n",
        "#print(feat_cols)"
      ],
      "id": "YqJfUNFc7ywy"
    },
    {
      "cell_type": "markdown",
      "metadata": {
        "id": "fTDUHPSZ7ywz"
      },
      "source": [
        "## 5.5 Conclude the top 3 significant features with necessary justifications."
      ],
      "id": "fTDUHPSZ7ywz"
    },
    {
      "cell_type": "markdown",
      "metadata": {
        "id": "nxd83iXt7ywz"
      },
      "source": [
        "--------------Type the answers below this line-------------\n"
      ],
      "id": "nxd83iXt7ywz"
    },
    {
      "cell_type": "raw",
      "metadata": {
        "id": "LdpYV2HO7ywz"
      },
      "source": [
        "The top 3 significant features are rating, operator and longitude.\n",
        "\n",
        "Justification\n",
        "\n",
        "As per the decision tree model, the top 3 significant features are rating, operator and inout_travelling. However decision tree is a greedy algorithm and may not lead to a local optimum. However sequential feature selection takes the model obtained and does various steps and finds a new feature significance which if taken into account would have produced better model accuracy. Hence we will go with the top 3 significant features obtained from the Sequential feature selector "
      ],
      "id": "LdpYV2HO7ywz"
    },
    {
      "cell_type": "code",
      "source": [
        ""
      ],
      "metadata": {
        "id": "ZtgNNj7pWb0M"
      },
      "id": "ZtgNNj7pWb0M",
      "execution_count": null,
      "outputs": []
    }
  ],
  "metadata": {
    "kernelspec": {
      "display_name": "Python 3",
      "language": "python",
      "name": "python3"
    },
    "language_info": {
      "codemirror_mode": {
        "name": "ipython",
        "version": 3
      },
      "file_extension": ".py",
      "mimetype": "text/x-python",
      "name": "python",
      "nbconvert_exporter": "python",
      "pygments_lexer": "ipython3",
      "version": "3.7.6"
    },
    "colab": {
      "name": "IDS Assignment.ipynb",
      "provenance": [],
      "include_colab_link": true
    }
  },
  "nbformat": 4,
  "nbformat_minor": 5
}